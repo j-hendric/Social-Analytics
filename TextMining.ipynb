{
 "cells": [
  {
   "cell_type": "code",
   "execution_count": 1,
   "id": "f0cc34b2",
   "metadata": {},
   "outputs": [],
   "source": [
    "#pip install scipy\n",
    "#pip install spacy\n",
    "#python -m spacy download en_core_web_sm\n",
    "#pip install gensim\n",
    "#pip install pyLDAvis\n",
    "#pip install networkx"
   ]
  },
  {
   "cell_type": "code",
   "execution_count": 2,
   "id": "3010fc84",
   "metadata": {},
   "outputs": [
    {
     "name": "stdout",
     "output_type": "stream",
     "text": [
      "env: PYTHONHASHSEED=0\n"
     ]
    }
   ],
   "source": [
    "import pandas as pd \n",
    "import re \n",
    "import string \n",
    "import nltk\n",
    "\n",
    "# Uncomment the next two lines if you miss these packages\n",
    "#nltk.download('stopwords')\n",
    "#nltk.download('punkt')\n",
    "\n",
    "from nltk.tokenize import word_tokenize\n",
    "from nltk.corpus import stopwords\n",
    "from nltk.stem import PorterStemmer\n",
    "from sklearn.feature_extraction.text import CountVectorizer, TfidfVectorizer\n",
    "import nltk.corpus  \n",
    "from nltk import bigrams\n",
    "from nltk.text import Text \n",
    "import itertools\n",
    "import collections\n",
    "import networkx as nx\n",
    "from sklearn.metrics.pairwise import cosine_similarity\n",
    "from sklearn.cluster import KMeans\n",
    "from sklearn.decomposition import LatentDirichletAllocation\n",
    "from scipy.cluster.hierarchy import ward, dendrogram, single,complete,average,weighted,centroid,median\n",
    "from scipy.spatial.distance import pdist\n",
    "import spacy\n",
    "import math\n",
    "import numpy as np\n",
    "import pyLDAvis.gensim\n",
    "import pickle \n",
    "import pyLDAvis\n",
    "import gensim\n",
    "from gensim.utils import simple_preprocess\n",
    "import gensim.corpora as corpora\n",
    "from gensim.models import CoherenceModel\n",
    "import matplotlib as mpl\n",
    "import matplotlib.pyplot as plt\n",
    "%matplotlib inline\n",
    "# set PYTHONHASHSEED to have Gensim Reproducability\n",
    "%env PYTHONHASHSEED=0"
   ]
  },
  {
   "cell_type": "code",
   "execution_count": 3,
   "id": "090b88c8",
   "metadata": {},
   "outputs": [
    {
     "data": {
      "text/html": [
       "<div>\n",
       "<style scoped>\n",
       "    .dataframe tbody tr th:only-of-type {\n",
       "        vertical-align: middle;\n",
       "    }\n",
       "\n",
       "    .dataframe tbody tr th {\n",
       "        vertical-align: top;\n",
       "    }\n",
       "\n",
       "    .dataframe thead th {\n",
       "        text-align: right;\n",
       "    }\n",
       "</style>\n",
       "<table border=\"1\" class=\"dataframe\">\n",
       "  <thead>\n",
       "    <tr style=\"text-align: right;\">\n",
       "      <th></th>\n",
       "      <th>Week</th>\n",
       "      <th>Posts</th>\n",
       "      <th>PostsInWeek</th>\n",
       "    </tr>\n",
       "  </thead>\n",
       "  <tbody>\n",
       "    <tr>\n",
       "      <th>0</th>\n",
       "      <td>1</td>\n",
       "      <td>Target exclusively released a  StarWars  toy s...</td>\n",
       "      <td>4</td>\n",
       "    </tr>\n",
       "    <tr>\n",
       "      <th>1</th>\n",
       "      <td>1</td>\n",
       "      <td>Hasbro Why do you always leave the girl charac...</td>\n",
       "      <td>4</td>\n",
       "    </tr>\n",
       "    <tr>\n",
       "      <th>2</th>\n",
       "      <td>1</td>\n",
       "      <td>Oh look they even included some women IN THE B...</td>\n",
       "      <td>4</td>\n",
       "    </tr>\n",
       "    <tr>\n",
       "      <th>3</th>\n",
       "      <td>1</td>\n",
       "      <td>osakadaioh1 damn serious. Disney sexist market...</td>\n",
       "      <td>4</td>\n",
       "    </tr>\n",
       "    <tr>\n",
       "      <th>4</th>\n",
       "      <td>2</td>\n",
       "      <td>TheMarySue Who is missing from this picture?  ...</td>\n",
       "      <td>314</td>\n",
       "    </tr>\n",
       "  </tbody>\n",
       "</table>\n",
       "</div>"
      ],
      "text/plain": [
       "   Week                                              Posts  PostsInWeek\n",
       "0     1  Target exclusively released a  StarWars  toy s...            4\n",
       "1     1  Hasbro Why do you always leave the girl charac...            4\n",
       "2     1  Oh look they even included some women IN THE B...            4\n",
       "3     1  osakadaioh1 damn serious. Disney sexist market...            4\n",
       "4     2  TheMarySue Who is missing from this picture?  ...          314"
      ]
     },
     "execution_count": 3,
     "metadata": {},
     "output_type": "execute_result"
    }
   ],
   "source": [
    "ReyPosts = pd.read_csv('WheresRey.csv', encoding=\"ISO-8859-1\")\n",
    "# to display the first few rows\n",
    "ReyPosts.head()"
   ]
  },
  {
   "cell_type": "code",
   "execution_count": 4,
   "id": "12daf132",
   "metadata": {},
   "outputs": [],
   "source": [
    "def ReyPreprocessing(text): \n",
    "    # get lowercase\n",
    "    text = text.lower()\n",
    "    # remove numbers    # remove numbers\n",
    "\n",
    "    text = re.sub(r'\\d+', '', text)\n",
    "    # remove urls\n",
    "    text = re.sub(r'^https?:\\/\\/.*[\\r\\n]*', '', text)\n",
    "    # remove punctuation\n",
    "    text = text.translate(text.maketrans('', '', string.punctuation))\n",
    "    # strip whitespace\n",
    "    text = text.strip()\n",
    "    # remove stop words\n",
    "    stop_words = stopwords.words('english')\n",
    "    newStopWords = ['html','yet']\n",
    "    stop_words.extend(newStopWords)\n",
    "    stop_words = set(stop_words)\n",
    "    tokens = word_tokenize(text)\n",
    "    words = [w for w in tokens if not w in stop_words]\n",
    "    text = \" \".join(w for w in words)\n",
    "    text = text.replace('theforceawakens', 'the force awakens')\n",
    "    text = text.replace('merchsexismproblem', 'merch sexism problem')\n",
    "    text = text.replace('merchsexismproblem', 'merch sexism problem')\n",
    "    text = text.replace('highlightsdearthfemaletoyhtml', 'highlights dearth female toy')\n",
    "    text = text.replace('highlightsdearthinfemaletoyhtml', 'highlights dearth in female toy')\n",
    "    text = text.replace('merchandise', 'merch')\n",
    "    text = text.replace('merchs', 'merch')\n",
    "    text = text.replace('merch', 'merchandise')\n",
    "    text = text.replace('forceawakens', 'force awakens')\n",
    "    text = text.replace('arewereallygoingtostart', 'are we really going to start')\n",
    "    text = text.replace('makers', 'maker')\n",
    "    text = text.replace('highlights', 'highlight')\n",
    "    text = text.replace('thisway', 'this way')\n",
    "    text = text.replace('figures', 'figure')\n",
    "    text = text.replace('shes', 'she is')\n",
    "\n",
    "    return text"
   ]
  },
  {
   "cell_type": "markdown",
   "id": "208f98e7",
   "metadata": {},
   "source": [
    "##### Find Word Associations"
   ]
  },
  {
   "cell_type": "code",
   "execution_count": 5,
   "id": "6b23b1bc",
   "metadata": {},
   "outputs": [
    {
     "data": {
      "text/plain": [
       "[('whereisrey', 3351),\n",
       " ('starwars', 1352),\n",
       " ('rey', 1164),\n",
       " ('toy', 661),\n",
       " ('figure', 474),\n",
       " ('hasbro', 455),\n",
       " ('force', 409),\n",
       " ('female', 390),\n",
       " ('character', 383),\n",
       " ('disney', 376),\n",
       " ('set', 366),\n",
       " ('action', 366),\n",
       " ('main', 316),\n",
       " ('merchandise', 296),\n",
       " ('girl', 286),\n",
       " ('target', 273),\n",
       " ('awakens', 254),\n",
       " ('conversation', 199),\n",
       " ('sexism', 157),\n",
       " ('view', 150)]"
      ]
     },
     "execution_count": 5,
     "metadata": {},
     "output_type": "execute_result"
    }
   ],
   "source": [
    "posts = ReyPosts.Posts.values\n",
    "# preprocess posts\n",
    "processed_posts = [ReyPreprocessing(text) for text in posts]\n",
    "# Find frequent words and Generate word and frequency list\n",
    "vectorizer = CountVectorizer(stop_words='english', lowercase = True) \n",
    "# Now X is the document-term matrix. \n",
    "x = vectorizer.fit_transform(processed_posts)\n",
    "sum_words = x.sum(axis=0) \n",
    "words_freq = [(word, sum_words[0, idx]) for word, idx in vectorizer.vocabulary_.items()]\n",
    "words_freq =sorted(words_freq, key = lambda x: x[1], reverse=True)\n",
    "words_freq[:20]"
   ]
  },
  {
   "cell_type": "markdown",
   "id": "2ecdd4f1",
   "metadata": {},
   "source": [
    "##### Analyze Co-occurrence of Networks of Words"
   ]
  },
  {
   "cell_type": "code",
   "execution_count": 6,
   "id": "4d628391",
   "metadata": {},
   "outputs": [
    {
     "data": {
      "text/plain": [
       "[('target', 'exclusively'),\n",
       " ('exclusively', 'released'),\n",
       " ('released', 'starwars'),\n",
       " ('starwars', 'toy'),\n",
       " ('toy', 'set'),\n",
       " ('set', 'zero'),\n",
       " ('zero', 'female'),\n",
       " ('female', 'characters'),\n",
       " ('characters', 'whereisrey'),\n",
       " ('whereisrey', 'wheresphasma')]"
      ]
     },
     "execution_count": 6,
     "metadata": {},
     "output_type": "execute_result"
    }
   ],
   "source": [
    "words_in_post = [post.lower().split() for post in processed_posts]\n",
    "posts = [[word for word in post_words] for post_words in words_in_post]\n",
    "# Create list of lists containing bigrams in posts\n",
    "terms_bigram = [list(bigrams(post)) for post in posts]\n",
    "\n",
    "# View bigrams for the first post\n",
    "terms_bigram[0]"
   ]
  },
  {
   "cell_type": "code",
   "execution_count": 7,
   "id": "06dcacfd",
   "metadata": {},
   "outputs": [
    {
     "data": {
      "text/html": [
       "<div>\n",
       "<style scoped>\n",
       "    .dataframe tbody tr th:only-of-type {\n",
       "        vertical-align: middle;\n",
       "    }\n",
       "\n",
       "    .dataframe tbody tr th {\n",
       "        vertical-align: top;\n",
       "    }\n",
       "\n",
       "    .dataframe thead th {\n",
       "        text-align: right;\n",
       "    }\n",
       "</style>\n",
       "<table border=\"1\" class=\"dataframe\">\n",
       "  <thead>\n",
       "    <tr style=\"text-align: right;\">\n",
       "      <th></th>\n",
       "      <th>bigram</th>\n",
       "      <th>count</th>\n",
       "    </tr>\n",
       "  </thead>\n",
       "  <tbody>\n",
       "    <tr>\n",
       "      <th>0</th>\n",
       "      <td>(action, figure)</td>\n",
       "      <td>331</td>\n",
       "    </tr>\n",
       "    <tr>\n",
       "      <th>1</th>\n",
       "      <td>(main, character)</td>\n",
       "      <td>252</td>\n",
       "    </tr>\n",
       "    <tr>\n",
       "      <th>2</th>\n",
       "      <td>(the, force)</td>\n",
       "      <td>251</td>\n",
       "    </tr>\n",
       "    <tr>\n",
       "      <th>3</th>\n",
       "      <td>(force, awakens)</td>\n",
       "      <td>251</td>\n",
       "    </tr>\n",
       "    <tr>\n",
       "      <th>4</th>\n",
       "      <td>(she, is)</td>\n",
       "      <td>245</td>\n",
       "    </tr>\n",
       "    <tr>\n",
       "      <th>5</th>\n",
       "      <td>(character, whereisrey)</td>\n",
       "      <td>145</td>\n",
       "    </tr>\n",
       "    <tr>\n",
       "      <th>6</th>\n",
       "      <td>(view, conversation)</td>\n",
       "      <td>142</td>\n",
       "    </tr>\n",
       "    <tr>\n",
       "      <th>7</th>\n",
       "      <td>(whereisrey, highlight)</td>\n",
       "      <td>142</td>\n",
       "    </tr>\n",
       "    <tr>\n",
       "      <th>8</th>\n",
       "      <td>(starwars, the)</td>\n",
       "      <td>141</td>\n",
       "    </tr>\n",
       "    <tr>\n",
       "      <th>9</th>\n",
       "      <td>(highlight, dearth)</td>\n",
       "      <td>140</td>\n",
       "    </tr>\n",
       "    <tr>\n",
       "      <th>10</th>\n",
       "      <td>(whereisrey, starwars)</td>\n",
       "      <td>138</td>\n",
       "    </tr>\n",
       "    <tr>\n",
       "      <th>11</th>\n",
       "      <td>(whereisrey, view)</td>\n",
       "      <td>135</td>\n",
       "    </tr>\n",
       "    <tr>\n",
       "      <th>12</th>\n",
       "      <td>(female, toy)</td>\n",
       "      <td>128</td>\n",
       "    </tr>\n",
       "    <tr>\n",
       "      <th>13</th>\n",
       "      <td>(black, widow)</td>\n",
       "      <td>121</td>\n",
       "    </tr>\n",
       "    <tr>\n",
       "      <th>14</th>\n",
       "      <td>(is, main)</td>\n",
       "      <td>120</td>\n",
       "    </tr>\n",
       "    <tr>\n",
       "      <th>15</th>\n",
       "      <td>(rey, whereisrey)</td>\n",
       "      <td>109</td>\n",
       "    </tr>\n",
       "    <tr>\n",
       "      <th>16</th>\n",
       "      <td>(sexism, problem)</td>\n",
       "      <td>109</td>\n",
       "    </tr>\n",
       "    <tr>\n",
       "      <th>17</th>\n",
       "      <td>(starwars, rey)</td>\n",
       "      <td>107</td>\n",
       "    </tr>\n",
       "    <tr>\n",
       "      <th>18</th>\n",
       "      <td>(whereisrey, whereisrey)</td>\n",
       "      <td>106</td>\n",
       "    </tr>\n",
       "    <tr>\n",
       "      <th>19</th>\n",
       "      <td>(problem, whereisrey)</td>\n",
       "      <td>104</td>\n",
       "    </tr>\n",
       "  </tbody>\n",
       "</table>\n",
       "</div>"
      ],
      "text/plain": [
       "                      bigram  count\n",
       "0           (action, figure)    331\n",
       "1          (main, character)    252\n",
       "2               (the, force)    251\n",
       "3           (force, awakens)    251\n",
       "4                  (she, is)    245\n",
       "5    (character, whereisrey)    145\n",
       "6       (view, conversation)    142\n",
       "7    (whereisrey, highlight)    142\n",
       "8            (starwars, the)    141\n",
       "9        (highlight, dearth)    140\n",
       "10    (whereisrey, starwars)    138\n",
       "11        (whereisrey, view)    135\n",
       "12             (female, toy)    128\n",
       "13            (black, widow)    121\n",
       "14                (is, main)    120\n",
       "15         (rey, whereisrey)    109\n",
       "16         (sexism, problem)    109\n",
       "17           (starwars, rey)    107\n",
       "18  (whereisrey, whereisrey)    106\n",
       "19     (problem, whereisrey)    104"
      ]
     },
     "execution_count": 7,
     "metadata": {},
     "output_type": "execute_result"
    }
   ],
   "source": [
    "# Flatten list of bigrams in clean posts\n",
    "bigrams = list(itertools.chain(*terms_bigram))\n",
    "\n",
    "# Create counter of words in clean bigrams\n",
    "bigram_counts = collections.Counter(bigrams)\n",
    "\n",
    "bigram_df = pd.DataFrame(bigram_counts.most_common(20),columns=['bigram', 'count'])\n",
    "bigram_df"
   ]
  },
  {
   "cell_type": "code",
   "execution_count": 8,
   "id": "12727246",
   "metadata": {},
   "outputs": [],
   "source": [
    "# Create dictionary of bigrams and their counts\n",
    "d = bigram_df.set_index('bigram').T.to_dict('records')"
   ]
  },
  {
   "cell_type": "code",
   "execution_count": 9,
   "id": "fdd834f9",
   "metadata": {},
   "outputs": [],
   "source": [
    "# Create network plot \n",
    "G = nx.Graph()\n",
    "\n",
    "# Create connections between nodes\n",
    "for k, v in d[0].items():\n",
    "    G.add_edge(k[0], k[1], weight=(v * 10))"
   ]
  },
  {
   "cell_type": "code",
   "execution_count": 10,
   "id": "55bbd8f7",
   "metadata": {},
   "outputs": [
    {
     "data": {
      "image/png": "[encoded data removed]",
      "text/plain": [
       "<Figure size 864x720 with 1 Axes>"
      ]
     },
     "metadata": {},
     "output_type": "display_data"
    }
   ],
   "source": [
    "fig, ax = plt.subplots(figsize=(12, 10))\n",
    "\n",
    "pos = nx.spring_layout(G, k=3)\n",
    "\n",
    "# Plot networks\n",
    "nx.draw_networkx(G, pos,\n",
    "                 font_size=12,\n",
    "                 width=5,\n",
    "                 edge_color='grey',\n",
    "                 node_color='yellow',\n",
    "                 with_labels = True,\n",
    "                 alpha=0.6, \n",
    "                 node_size = 1200,\n",
    "                 ax=ax)\n",
    "    \n",
    "plt.show()"
   ]
  },
  {
   "cell_type": "markdown",
   "id": "bc7a00ce",
   "metadata": {},
   "source": [
    "### Topic Modeling Approaches\n",
    "Topic modeling aims to find distinct groupings of terms, with each group belonging to the same topic. There are multiple ways you can do topic modeling. We will start with the cluster analysis first.\n",
    "\n",
    "##### Topic Modeling via Cluster Analysis of Terms\n",
    "We use two types of cluster analysis in this session. Hierarchical cluster analysis(HCA) and K-means cluster analysis."
   ]
  },
  {
   "cell_type": "code",
   "execution_count": 11,
   "id": "1dc75d55",
   "metadata": {},
   "outputs": [],
   "source": [
    "# we set max_features = 30 to show the first 30 most frequent terms\n",
    "max_terms = 30\n",
    "vectorizer = CountVectorizer(max_features=max_terms, stop_words='english', lowercase = True)\n",
    "x = vectorizer.fit_transform(processed_posts)\n",
    "terms = vectorizer.get_feature_names_out()"
   ]
  },
  {
   "cell_type": "code",
   "execution_count": 12,
   "id": "6507ff24",
   "metadata": {},
   "outputs": [],
   "source": [
    "dt = pd.DataFrame(x.toarray().transpose(), index = vectorizer.get_feature_names_out() )\n",
    "# removeSparseTerms, to remove 95% of sparse, here we keep terms that appear on at lest 5% of ducuments\n",
    "dt = dt[dt.sum(axis=1) >= math.floor(0.05*dt.shape[1])]\n",
    "dist = pdist(dt)"
   ]
  },
  {
   "cell_type": "code",
   "execution_count": 13,
   "id": "6fd32d77",
   "metadata": {},
   "outputs": [
    {
     "data": {
      "image/png": "[encoded data removed]",
      "text/plain": [
       "<Figure size 1080x720 with 1 Axes>"
      ]
     },
     "metadata": {
      "needs_background": "light"
     },
     "output_type": "display_data"
    }
   ],
   "source": [
    "# These are routines for agglomerative clustering.\n",
    "# single(y):       Perform single/min/nearest linkage on the condensed distance matrix y.\n",
    "# complete(y):     Perform complete/max/farthest point linkage on a condensed distance matrix.\n",
    "# average(y):      Perform average/UPGMA linkage on a condensed distance matrix.\n",
    "# weighted(y):     Perform weighted/WPGMA linkage on the condensed distance matrix.\n",
    "# centroid(y):     Perform centroid/UPGMC linkage.\n",
    "# median(y):       Perform median/WPGMC linkage.\n",
    "# ward(y):         Perform Ward’s linkage on a condensed distance matrix.\n",
    "\n",
    "matrix = ward(dist) \n",
    "fig, ax = plt.subplots(figsize=(15, 10)) # set size\n",
    "ax = dendrogram(matrix, orientation=\"top\", distance_sort='descending',show_leaf_counts=True, labels=terms,color_threshold=60)\n",
    "\n",
    "plt.show()\n",
    "\n",
    "#uncomment below to save figure\n",
    "#plt.savefig('ward_clusters.png')"
   ]
  },
  {
   "cell_type": "code",
   "execution_count": 14,
   "id": "944feb18",
   "metadata": {},
   "outputs": [
    {
     "data": {
      "image/png": "[encoded data removed]",
      "text/plain": [
       "<Figure size 1080x720 with 1 Axes>"
      ]
     },
     "metadata": {
      "needs_background": "light"
     },
     "output_type": "display_data"
    }
   ],
   "source": [
    "# These are routines for agglomerative clustering.\n",
    "# single(y):       Perform single/min/nearest linkage on the condensed distance matrix y.\n",
    "# complete(y):     Perform complete/max/farthest point linkage on a condensed distance matrix.\n",
    "# average(y):      Perform average/UPGMA linkage on a condensed distance matrix.\n",
    "# weighted(y):     Perform weighted/WPGMA linkage on the condensed distance matrix.\n",
    "# centroid(y):     Perform centroid/UPGMC linkage.\n",
    "# median(y):       Perform median/WPGMC linkage.\n",
    "# ward(y):         Perform Ward’s linkage on a condensed distance matrix.\n",
    "\n",
    "matrix = single(dist) \n",
    "fig, ax = plt.subplots(figsize=(15, 10)) # set size\n",
    "ax = dendrogram(matrix, orientation=\"top\", distance_sort='descending',show_leaf_counts=True, labels=terms)\n",
    "\n",
    "plt.show()\n",
    "\n",
    "#uncomment below to save figure\n",
    "#plt.savefig('single_clusters.png')"
   ]
  },
  {
   "cell_type": "markdown",
   "id": "25587623",
   "metadata": {},
   "source": [
    "##### K-means Clsutering\n",
    "K-Means Clustering, or KMC, aims to group data based on a pre-determined number of clusters K."
   ]
  },
  {
   "cell_type": "code",
   "execution_count": 15,
   "id": "06426540",
   "metadata": {},
   "outputs": [],
   "source": [
    "#pip install threadpoolctl --upgrade"
   ]
  },
  {
   "cell_type": "code",
   "execution_count": 16,
   "id": "153f26b3",
   "metadata": {},
   "outputs": [
    {
     "name": "stderr",
     "output_type": "stream",
     "text": [
      "C:\\Users\\13193\\anaconda3\\lib\\site-packages\\sklearn\\cluster\\_kmeans.py:870: FutureWarning: The default value of `n_init` will change from 10 to 'auto' in 1.4. Set the value of `n_init` explicitly to suppress the warning\n",
      "  warnings.warn(\n",
      "C:\\Users\\13193\\anaconda3\\lib\\site-packages\\sklearn\\cluster\\_kmeans.py:1382: UserWarning: KMeans is known to have a memory leak on Windows with MKL, when there are less chunks than available threads. You can avoid it by setting the environment variable OMP_NUM_THREADS=1.\n",
      "  warnings.warn(\n"
     ]
    }
   ],
   "source": [
    "num_clusters = 6\n",
    "km = KMeans(n_clusters=num_clusters)\n",
    "km.fit(dt)\n",
    "clusters = km.labels_.tolist()"
   ]
  },
  {
   "cell_type": "code",
   "execution_count": 17,
   "id": "8ab154ae",
   "metadata": {},
   "outputs": [
    {
     "data": {
      "text/html": [
       "<div>\n",
       "<style scoped>\n",
       "    .dataframe tbody tr th:only-of-type {\n",
       "        vertical-align: middle;\n",
       "    }\n",
       "\n",
       "    .dataframe tbody tr th {\n",
       "        vertical-align: top;\n",
       "    }\n",
       "\n",
       "    .dataframe thead th {\n",
       "        text-align: right;\n",
       "    }\n",
       "</style>\n",
       "<table border=\"1\" class=\"dataframe\">\n",
       "  <thead>\n",
       "    <tr style=\"text-align: right;\">\n",
       "      <th></th>\n",
       "      <th>term</th>\n",
       "      <th>cluster</th>\n",
       "    </tr>\n",
       "  </thead>\n",
       "  <tbody>\n",
       "    <tr>\n",
       "      <th>0</th>\n",
       "      <td>action</td>\n",
       "      <td>3</td>\n",
       "    </tr>\n",
       "    <tr>\n",
       "      <th>1</th>\n",
       "      <td>awakens</td>\n",
       "      <td>2</td>\n",
       "    </tr>\n",
       "    <tr>\n",
       "      <th>2</th>\n",
       "      <td>black</td>\n",
       "      <td>2</td>\n",
       "    </tr>\n",
       "    <tr>\n",
       "      <th>3</th>\n",
       "      <td>character</td>\n",
       "      <td>2</td>\n",
       "    </tr>\n",
       "    <tr>\n",
       "      <th>4</th>\n",
       "      <td>characters</td>\n",
       "      <td>2</td>\n",
       "    </tr>\n",
       "    <tr>\n",
       "      <th>5</th>\n",
       "      <td>conversation</td>\n",
       "      <td>2</td>\n",
       "    </tr>\n",
       "    <tr>\n",
       "      <th>6</th>\n",
       "      <td>dearth</td>\n",
       "      <td>0</td>\n",
       "    </tr>\n",
       "    <tr>\n",
       "      <th>7</th>\n",
       "      <td>disney</td>\n",
       "      <td>2</td>\n",
       "    </tr>\n",
       "    <tr>\n",
       "      <th>8</th>\n",
       "      <td>female</td>\n",
       "      <td>0</td>\n",
       "    </tr>\n",
       "    <tr>\n",
       "      <th>9</th>\n",
       "      <td>figure</td>\n",
       "      <td>3</td>\n",
       "    </tr>\n",
       "    <tr>\n",
       "      <th>10</th>\n",
       "      <td>force</td>\n",
       "      <td>2</td>\n",
       "    </tr>\n",
       "    <tr>\n",
       "      <th>11</th>\n",
       "      <td>girl</td>\n",
       "      <td>2</td>\n",
       "    </tr>\n",
       "    <tr>\n",
       "      <th>12</th>\n",
       "      <td>hasbro</td>\n",
       "      <td>2</td>\n",
       "    </tr>\n",
       "    <tr>\n",
       "      <th>13</th>\n",
       "      <td>highlight</td>\n",
       "      <td>0</td>\n",
       "    </tr>\n",
       "    <tr>\n",
       "      <th>14</th>\n",
       "      <td>like</td>\n",
       "      <td>2</td>\n",
       "    </tr>\n",
       "    <tr>\n",
       "      <th>15</th>\n",
       "      <td>main</td>\n",
       "      <td>2</td>\n",
       "    </tr>\n",
       "    <tr>\n",
       "      <th>16</th>\n",
       "      <td>merchandise</td>\n",
       "      <td>0</td>\n",
       "    </tr>\n",
       "    <tr>\n",
       "      <th>17</th>\n",
       "      <td>missing</td>\n",
       "      <td>2</td>\n",
       "    </tr>\n",
       "    <tr>\n",
       "      <th>18</th>\n",
       "      <td>problem</td>\n",
       "      <td>0</td>\n",
       "    </tr>\n",
       "    <tr>\n",
       "      <th>19</th>\n",
       "      <td>really</td>\n",
       "      <td>2</td>\n",
       "    </tr>\n",
       "    <tr>\n",
       "      <th>20</th>\n",
       "      <td>rey</td>\n",
       "      <td>1</td>\n",
       "    </tr>\n",
       "    <tr>\n",
       "      <th>21</th>\n",
       "      <td>set</td>\n",
       "      <td>2</td>\n",
       "    </tr>\n",
       "    <tr>\n",
       "      <th>22</th>\n",
       "      <td>sexism</td>\n",
       "      <td>0</td>\n",
       "    </tr>\n",
       "    <tr>\n",
       "      <th>23</th>\n",
       "      <td>starwars</td>\n",
       "      <td>5</td>\n",
       "    </tr>\n",
       "    <tr>\n",
       "      <th>24</th>\n",
       "      <td>target</td>\n",
       "      <td>2</td>\n",
       "    </tr>\n",
       "    <tr>\n",
       "      <th>25</th>\n",
       "      <td>toy</td>\n",
       "      <td>0</td>\n",
       "    </tr>\n",
       "    <tr>\n",
       "      <th>26</th>\n",
       "      <td>view</td>\n",
       "      <td>2</td>\n",
       "    </tr>\n",
       "    <tr>\n",
       "      <th>27</th>\n",
       "      <td>want</td>\n",
       "      <td>2</td>\n",
       "    </tr>\n",
       "    <tr>\n",
       "      <th>28</th>\n",
       "      <td>whereisrey</td>\n",
       "      <td>4</td>\n",
       "    </tr>\n",
       "    <tr>\n",
       "      <th>29</th>\n",
       "      <td>widow</td>\n",
       "      <td>2</td>\n",
       "    </tr>\n",
       "  </tbody>\n",
       "</table>\n",
       "</div>"
      ],
      "text/plain": [
       "            term  cluster\n",
       "0         action        3\n",
       "1        awakens        2\n",
       "2          black        2\n",
       "3      character        2\n",
       "4     characters        2\n",
       "5   conversation        2\n",
       "6         dearth        0\n",
       "7         disney        2\n",
       "8         female        0\n",
       "9         figure        3\n",
       "10         force        2\n",
       "11          girl        2\n",
       "12        hasbro        2\n",
       "13     highlight        0\n",
       "14          like        2\n",
       "15          main        2\n",
       "16   merchandise        0\n",
       "17       missing        2\n",
       "18       problem        0\n",
       "19        really        2\n",
       "20           rey        1\n",
       "21           set        2\n",
       "22        sexism        0\n",
       "23      starwars        5\n",
       "24        target        2\n",
       "25           toy        0\n",
       "26          view        2\n",
       "27          want        2\n",
       "28    whereisrey        4\n",
       "29         widow        2"
      ]
     },
     "execution_count": 17,
     "metadata": {},
     "output_type": "execute_result"
    }
   ],
   "source": [
    "# show terms and clusters\n",
    "clu = pd.DataFrame(list(zip(terms, clusters)), columns=['term', 'cluster'])\n",
    "clu"
   ]
  },
  {
   "cell_type": "code",
   "execution_count": 18,
   "id": "943ebe46",
   "metadata": {},
   "outputs": [
    {
     "data": {
      "text/plain": [
       "array([[ 2.85714286e-01,  1.42857143e-01,  1.38777878e-17, ...,\n",
       "         2.85714286e-01,  5.55111512e-17,  1.42857143e-01],\n",
       "       [ 0.00000000e+00,  0.00000000e+00,  0.00000000e+00, ...,\n",
       "         1.00000000e+00,  1.00000000e+00,  0.00000000e+00],\n",
       "       [ 1.66666667e-01,  1.66666667e-01,  5.55555556e-02, ...,\n",
       "        -2.77555756e-17,  3.33333333e-01,  0.00000000e+00],\n",
       "       [ 0.00000000e+00,  0.00000000e+00,  0.00000000e+00, ...,\n",
       "         0.00000000e+00,  0.00000000e+00,  0.00000000e+00],\n",
       "       [ 1.00000000e+00,  1.00000000e+00,  1.00000000e+00, ...,\n",
       "         2.00000000e+00,  2.00000000e+00,  1.00000000e+00],\n",
       "       [ 1.00000000e+00,  0.00000000e+00,  1.00000000e+00, ...,\n",
       "         1.00000000e+00,  1.00000000e+00,  2.00000000e+00]])"
      ]
     },
     "execution_count": 18,
     "metadata": {},
     "output_type": "execute_result"
    }
   ],
   "source": [
    "# to find centers\n",
    "km.cluster_centers_"
   ]
  },
  {
   "cell_type": "markdown",
   "id": "20c683b6",
   "metadata": {},
   "source": [
    "For more information about k-means in python: https://scikit-learn.org/stable/modules/generated/sklearn.cluster.KMeans.html"
   ]
  },
  {
   "cell_type": "markdown",
   "id": "df4c5f69",
   "metadata": {},
   "source": [
    "## Topic Modeling with Latent Dirichlet allocation (LDA)\n",
    "Latent Dirichlet allocation (LDA) is one of the most common algorithms for topic modeling. Without diving into the math behind the model, we can understand it as being guided by two principles.\n",
    "\\ Every document is a mixture of topics. We imagine that each document may contain words from several topics in particular proportions. For example, in a two-topic model we could say “Document 1 is 90% topic A and 10% topic B, while Document 2 is 30% topic A and 70% topic B.”\n",
    "\\ Every topic is a mixture of words. For example, we could imagine a two-topic model of American news, with one topic for “politics” and one for “entertainment.” The most common words in the politics topic might be “President”, “Congress”, and “government”, while the entertainment topic may be made up of words such as “movies”, “television”, and “actor”. Importantly, words can be shared between topics; a word like “budget” might appear in both equally.\n",
    "\\ More formally, LDA is a mathematical method for estimating both of these at the same time: finding the mixture of words that is associated with each topic, while also determining the mixture of topics that describes each document. There are a number of existing implementations of this algorithm, and we’ll explore one of them (Gibbs Sampling) in depth.\n",
    "\\ LDA is an important technique for topic modeling. It uses Baysian methods to derive the term-term relationships. It has commonly used nowadays for text corpus understanding and evolvement.\n",
    "\\ To run a LDA method on the Rey corpus, we will use the following codes:\n",
    "\n",
    "##### Define a customized text processing function for LDA"
   ]
  },
  {
   "cell_type": "code",
   "execution_count": 20,
   "id": "a525b885",
   "metadata": {},
   "outputs": [],
   "source": [
    "def LDAPreprocessing(text): \n",
    "    # get lowercase\n",
    "    text = text.lower()\n",
    "    # remove numbers    # remove numbers\n",
    "\n",
    "    text = re.sub(r'\\d+', '', text)\n",
    "    # remove urls\n",
    "    text = re.sub(r'^https?:\\/\\/.*[\\r\\n]*', '', text)\n",
    "    # remove punctuation\n",
    "    text = text.translate(text.maketrans('', '', string.punctuation))\n",
    "    # strip whitespace\n",
    "    text = text.strip()\n",
    "    # remove stop words\n",
    "    stop_words = stopwords.words('english')\n",
    "    newStopWords = ['html','yet']\n",
    "    stop_words.extend(newStopWords)\n",
    "    stop_words = set(stop_words)\n",
    "    tokens = word_tokenize(text)\n",
    "    words = [w for w in tokens if not w in stop_words]\n",
    "    text = \" \".join(w for w in words)\n",
    "    text = text.replace('theforceawakens', 'the force awakens')\n",
    "    text = text.replace('merchsexismproblem', 'merch sexism problem')\n",
    "    text = text.replace('merchsexismproblem', 'merch sexism problem')\n",
    "    text = text.replace('highlightsdearthfemaletoyhtml', 'highlights dearth female toy')\n",
    "    text = text.replace('highlightsdearthinfemaletoyhtml', 'highlights dearth in female toy')\n",
    "    text = text.replace('merchandise', 'merch')\n",
    "    text = text.replace('merchs', 'merch')\n",
    "    text = text.replace('merch', 'merchandise')\n",
    "    text = text.replace('forceawakens', 'force awakens')\n",
    "    text = text.replace('arewereallygoingtostart', 'are we really going to start')\n",
    "    text = text.replace('makers', 'maker')\n",
    "    text = text.replace('highlights', 'highlight')\n",
    "    text = text.replace('thisway', 'this way')\n",
    "    text = text.replace('figures', 'figure')\n",
    "    text = text.replace('shes', 'she is')\n",
    "\n",
    "    return text\n",
    "\n",
    "def lemmatization(texts, allowed_postags=['NOUN', 'ADJ', 'VERB', 'ADV']):\n",
    "    \"\"\"https://spacy.io/api/annotation\"\"\"\n",
    "    # Initialize spacy 'en' model, keeping only tagger component (for efficiency)\n",
    "    nlp = spacy.load(\"en_core_web_sm\", disable=['parser', 'ner'])\n",
    "    texts_out = []\n",
    "    for sent in texts:\n",
    "        doc = nlp(\" \".join(sent)) \n",
    "        texts_out.append([token.lemma_ for token in doc if token.pos_ in allowed_postags])\n",
    "    return texts_out"
   ]
  },
  {
   "cell_type": "code",
   "execution_count": 21,
   "id": "1d54e323",
   "metadata": {},
   "outputs": [],
   "source": [
    "def sent_to_words(sentences):\n",
    "    for sentence in sentences:\n",
    "        yield(gensim.utils.simple_preprocess(str(sentence), deacc=True))  # deacc=True removes punctuations"
   ]
  },
  {
   "cell_type": "code",
   "execution_count": 1,
   "id": "c63ed8da",
   "metadata": {},
   "outputs": [
    {
     "ename": "NameError",
     "evalue": "name 'ReyPosts' is not defined",
     "output_type": "error",
     "traceback": [
      "\u001b[1;31m---------------------------------------------------------------------------\u001b[0m",
      "\u001b[1;31mNameError\u001b[0m                                 Traceback (most recent call last)",
      "\u001b[1;32m~\\AppData\\Local\\Temp/ipykernel_12152/711206997.py\u001b[0m in \u001b[0;36m<module>\u001b[1;34m\u001b[0m\n\u001b[1;32m----> 1\u001b[1;33m \u001b[0mposts\u001b[0m \u001b[1;33m=\u001b[0m \u001b[0mReyPosts\u001b[0m\u001b[1;33m.\u001b[0m\u001b[0mPosts\u001b[0m\u001b[1;33m.\u001b[0m\u001b[0mvalues\u001b[0m\u001b[1;33m\u001b[0m\u001b[1;33m\u001b[0m\u001b[0m\n\u001b[0m\u001b[0;32m      2\u001b[0m \u001b[1;31m# preprocess posts\u001b[0m\u001b[1;33m\u001b[0m\u001b[1;33m\u001b[0m\u001b[0m\n\u001b[0;32m      3\u001b[0m \u001b[0mprocessed_posts\u001b[0m \u001b[1;33m=\u001b[0m \u001b[1;33m[\u001b[0m\u001b[0mReyPreprocessing\u001b[0m\u001b[1;33m(\u001b[0m\u001b[0mtext\u001b[0m\u001b[1;33m)\u001b[0m \u001b[1;32mfor\u001b[0m \u001b[0mtext\u001b[0m \u001b[1;32min\u001b[0m \u001b[0mposts\u001b[0m\u001b[1;33m]\u001b[0m\u001b[1;33m\u001b[0m\u001b[1;33m\u001b[0m\u001b[0m\n\u001b[0;32m      4\u001b[0m \u001b[0mposts_words\u001b[0m \u001b[1;33m=\u001b[0m \u001b[0mlist\u001b[0m\u001b[1;33m(\u001b[0m\u001b[0msent_to_words\u001b[0m\u001b[1;33m(\u001b[0m\u001b[0mprocessed_posts\u001b[0m\u001b[1;33m)\u001b[0m\u001b[1;33m)\u001b[0m\u001b[1;33m\u001b[0m\u001b[1;33m\u001b[0m\u001b[0m\n\u001b[0;32m      5\u001b[0m \u001b[0mprint\u001b[0m\u001b[1;33m(\u001b[0m\u001b[0mposts_words\u001b[0m\u001b[1;33m[\u001b[0m\u001b[1;36m0\u001b[0m\u001b[1;33m]\u001b[0m\u001b[1;33m)\u001b[0m\u001b[1;33m\u001b[0m\u001b[1;33m\u001b[0m\u001b[0m\n",
      "\u001b[1;31mNameError\u001b[0m: name 'ReyPosts' is not defined"
     ]
    }
   ],
   "source": [
    "posts = ReyPosts.Posts.values\n",
    "# preprocess posts\n",
    "processed_posts = [ReyPreprocessing(text) for text in posts]\n",
    "posts_words = list(sent_to_words(processed_posts))\n",
    "print(posts_words[0])"
   ]
  },
  {
   "cell_type": "code",
   "execution_count": 23,
   "id": "64d9b2c0",
   "metadata": {},
   "outputs": [
    {
     "name": "stdout",
     "output_type": "stream",
     "text": [
      "['exclusively', 'release', 'starwar', 'toy', 'set', 'female', 'character']\n"
     ]
    }
   ],
   "source": [
    "# Do lemmatization keeping only noun, adj, vb, adv\n",
    "posts_lemmatized = lemmatization(posts_words, allowed_postags=['NOUN', 'ADJ', 'VERB', 'ADV'])\n",
    "print(posts_lemmatized[0])"
   ]
  },
  {
   "cell_type": "markdown",
   "id": "aecd3e33",
   "metadata": {},
   "source": [
    "The two main inputs to the LDA topic model are the dictionary(id2word) and the corpus. Gensim creates a unique id for each word in the document. The produced corpus shown below is a mapping of (word_id, word_frequency)."
   ]
  },
  {
   "cell_type": "code",
   "execution_count": 24,
   "id": "32a36a68",
   "metadata": {},
   "outputs": [
    {
     "name": "stdout",
     "output_type": "stream",
     "text": [
      "[(0, 1), (1, 1), (2, 1), (3, 1), (4, 1), (5, 1), (6, 1)]\n"
     ]
    }
   ],
   "source": [
    "# Create Dictionary\n",
    "id2word = corpora.Dictionary(posts_lemmatized)\n",
    "# Create Corpus\n",
    "texts = posts_lemmatized\n",
    "# Term Document Frequency\n",
    "corpus = [id2word.doc2bow(text) for text in texts]\n",
    "# View\n",
    "print(corpus[0])"
   ]
  },
  {
   "cell_type": "markdown",
   "id": "e2abf945",
   "metadata": {},
   "source": [
    "### Base Model\n",
    "Now we can train the base LDA model. In addition to the corpus and dictionary, you can set the number of topics as well. Apart from that, alpha and eta are hyperparameters that affect sparsity of the topics, both defaults to 1.0/num_topics prior."
   ]
  },
  {
   "cell_type": "code",
   "execution_count": 25,
   "id": "8090e25b",
   "metadata": {},
   "outputs": [],
   "source": [
    "# Build LDA model\n",
    "# chunksize (int, optional) – Number of documents to be used in each training chunk.\n",
    "# passes (int, optional) – Number of passes through the corpus during training.\n",
    "\n",
    "lda_model = gensim.models.LdaMulticore(corpus=corpus,\n",
    "                                       id2word=id2word,\n",
    "                                       num_topics=6, \n",
    "                                       random_state=100,\n",
    "                                       chunksize=100,\n",
    "                                       passes=10,\n",
    "                                       per_word_topics=True)"
   ]
  },
  {
   "cell_type": "code",
   "execution_count": 26,
   "id": "78a17cd6",
   "metadata": {},
   "outputs": [
    {
     "name": "stdout",
     "output_type": "stream",
     "text": [
      "[(0, '0.097*\"whereisrey\" + 0.051*\"starwar\" + 0.036*\"female\" + 0.033*\"toy\" + 0.025*\"merchandise\" + 0.025*\"figure\" + 0.023*\"highlight\" + 0.023*\"action\" + 0.023*\"sexism\" + 0.022*\"problem\"'), (1, '0.068*\"whereisrey\" + 0.037*\"character\" + 0.033*\"starwar\" + 0.019*\"female\" + 0.018*\"woman\" + 0.017*\"new\" + 0.016*\"force\" + 0.016*\"main\" + 0.014*\"figure\" + 0.013*\"hasbro\"'), (2, '0.069*\"whereisrey\" + 0.059*\"girl\" + 0.035*\"boy\" + 0.021*\"want\" + 0.020*\"play\" + 0.018*\"toy\" + 0.016*\"starwar\" + 0.014*\"come\" + 0.014*\"character\" + 0.014*\"target\"'), (3, '0.110*\"starwar\" + 0.083*\"whereisrey\" + 0.068*\"force\" + 0.050*\"awaken\" + 0.021*\"hasbro\" + 0.020*\"figure\" + 0.012*\"set\" + 0.012*\"action\" + 0.011*\"old\" + 0.011*\"year\"'), (4, '0.133*\"whereisrey\" + 0.023*\"character\" + 0.022*\"figure\" + 0.019*\"disney\" + 0.018*\"find\" + 0.017*\"starwar\" + 0.017*\"toy\" + 0.017*\"include\" + 0.016*\"action\" + 0.016*\"set\"'), (5, '0.093*\"whereisrey\" + 0.058*\"set\" + 0.045*\"starwar\" + 0.043*\"character\" + 0.036*\"main\" + 0.025*\"s\" + 0.024*\"target\" + 0.022*\"black\" + 0.020*\"hasbro\" + 0.020*\"widow\"')]\n"
     ]
    }
   ],
   "source": [
    "# Print the Keyword in the 10 topics\n",
    "print(lda_model.print_topics())"
   ]
  },
  {
   "cell_type": "code",
   "execution_count": 27,
   "id": "90757412",
   "metadata": {},
   "outputs": [
    {
     "name": "stdout",
     "output_type": "stream",
     "text": [
      "\n",
      "Coherence Score:  0.29028207068087114\n"
     ]
    }
   ],
   "source": [
    "# Compute Coherence Score\n",
    "coherence_model_lda = CoherenceModel(model=lda_model, texts=posts_lemmatized, dictionary=id2word, coherence='c_v')\n",
    "coherence_lda = coherence_model_lda.get_coherence()\n",
    "print('\\nCoherence Score: ', coherence_lda)"
   ]
  },
  {
   "cell_type": "markdown",
   "id": "78242f8b",
   "metadata": {},
   "source": [
    "## Hyperparameter Tuning and Model Evaluation (This step is very time consuming)"
   ]
  },
  {
   "cell_type": "code",
   "execution_count": 28,
   "id": "37bd324a",
   "metadata": {},
   "outputs": [],
   "source": [
    "# put previous process into a function\n",
    "def compute_coherence_values(corpus, id2word, k, a, b):\n",
    "    \n",
    "    lda_model = gensim.models.LdaMulticore(corpus=corpus,\n",
    "                                           id2word=id2word,\n",
    "                                           num_topics=k, \n",
    "                                           random_state=100,\n",
    "                                           chunksize=100,\n",
    "                                           passes=10,\n",
    "                                           alpha=a,\n",
    "                                           eta=b,\n",
    "                                           per_word_topics=True)\n",
    "    \n",
    "    coherence_model_lda = CoherenceModel(model=lda_model, texts=posts_lemmatized, dictionary=id2word, coherence='c_v')\n",
    "    \n",
    "    return coherence_model_lda.get_coherence()"
   ]
  },
  {
   "cell_type": "markdown",
   "id": "74950121",
   "metadata": {},
   "source": [
    "we can set different topics and hyperparameters, you can alwasy try a wider selection of hyperparameters"
   ]
  },
  {
   "cell_type": "code",
   "execution_count": 29,
   "id": "885401d3",
   "metadata": {},
   "outputs": [],
   "source": [
    "# Topics range\n",
    "min_topics = 4\n",
    "max_topics = 10\n",
    "step_size = 1\n",
    "topics_range = range(min_topics, max_topics, step_size)\n",
    "# Alpha parameter\n",
    "# this will set alpha select from (0.01, 0.31, 0.61, 0.91)\n",
    "# alpha = list(np.arange(0.01, 1, 0.3))\n",
    "alpha = list(np.arange(0.01, 1, 0.5))\n",
    "alpha.append('symmetric')\n",
    "# Beta parameter\n",
    "# this will set beta select from (0.01, 0.31, 0.61, 0.91)\n",
    "# beta = list(np.arange(0.01, 1, 0.3))\n",
    "beta = list(np.arange(0.01, 1, 0.5))\n",
    "beta.append('symmetric')\n",
    "\n",
    "num_of_docs = len(corpus)\n",
    "model_results = {'Topics': [], 'Alpha': [],'Beta': [],'Coherence': []}"
   ]
  },
  {
   "cell_type": "markdown",
   "id": "4312d44a",
   "metadata": {},
   "source": [
    "Then we run different models with each pares of topics and hyperparameters and show coherence scores"
   ]
  },
  {
   "cell_type": "code",
   "execution_count": 30,
   "id": "348f9e22",
   "metadata": {},
   "outputs": [
    {
     "name": "stdout",
     "output_type": "stream",
     "text": [
      "Wall time: 18min 11s\n"
     ]
    }
   ],
   "source": [
    "%%time \n",
    "# Can take a long time to run\n",
    "\n",
    "# iterate through number of topics\n",
    "for k in topics_range:\n",
    "    # iterate through alpha values\n",
    "    for a in alpha:\n",
    "        # iterare through beta values\n",
    "        for b in beta:\n",
    "            # get the coherence score for the given parameters\n",
    "            cv = compute_coherence_values(corpus=corpus, id2word=id2word, \n",
    "                                          k=k, a=a, b=b)\n",
    "            # Save the model results\n",
    "            model_results['Topics'].append(k)\n",
    "            model_results['Alpha'].append(a)\n",
    "            model_results['Beta'].append(b)\n",
    "            model_results['Coherence'].append(cv)\n",
    "\n",
    "results_df = pd.DataFrame(model_results)"
   ]
  },
  {
   "cell_type": "code",
   "execution_count": 31,
   "id": "509bce2b",
   "metadata": {},
   "outputs": [
    {
     "name": "stdout",
     "output_type": "stream",
     "text": [
      "    Topics      Alpha       Beta  Coherence\n",
      "0        4       0.01       0.01   0.293167\n",
      "1        4       0.01       0.51   0.287006\n",
      "2        4       0.01  symmetric   0.283812\n",
      "3        4       0.51       0.01   0.287137\n",
      "4        4       0.51       0.51   0.269134\n",
      "5        4       0.51  symmetric   0.295721\n",
      "6        4  symmetric       0.01   0.295625\n",
      "7        4  symmetric       0.51   0.267903\n",
      "8        4  symmetric  symmetric   0.282641\n",
      "9        5       0.01       0.01   0.274414\n",
      "10       5       0.01       0.51   0.276810\n",
      "11       5       0.01  symmetric   0.274235\n",
      "12       5       0.51       0.01   0.276323\n",
      "13       5       0.51       0.51   0.275683\n",
      "14       5       0.51  symmetric   0.255900\n",
      "15       5  symmetric       0.01   0.276404\n",
      "16       5  symmetric       0.51   0.282500\n",
      "17       5  symmetric  symmetric   0.277862\n",
      "18       6       0.01       0.01   0.281191\n",
      "19       6       0.01       0.51   0.303119\n",
      "20       6       0.01  symmetric   0.280955\n",
      "21       6       0.51       0.01   0.270939\n",
      "22       6       0.51       0.51   0.286428\n",
      "23       6       0.51  symmetric   0.285217\n",
      "24       6  symmetric       0.01   0.268631\n",
      "25       6  symmetric       0.51   0.279900\n",
      "26       6  symmetric  symmetric   0.292592\n",
      "27       7       0.01       0.01   0.273463\n",
      "28       7       0.01       0.51   0.322996\n",
      "29       7       0.01  symmetric   0.298032\n",
      "30       7       0.51       0.01   0.271651\n",
      "31       7       0.51       0.51   0.310786\n",
      "32       7       0.51  symmetric   0.271364\n",
      "33       7  symmetric       0.01   0.274411\n",
      "34       7  symmetric       0.51   0.326032\n",
      "35       7  symmetric  symmetric   0.294916\n",
      "36       8       0.01       0.01   0.297102\n",
      "37       8       0.01       0.51   0.291454\n",
      "38       8       0.01  symmetric   0.291461\n",
      "39       8       0.51       0.01   0.288743\n",
      "40       8       0.51       0.51   0.326009\n",
      "41       8       0.51  symmetric   0.309040\n",
      "42       8  symmetric       0.01   0.276628\n",
      "43       8  symmetric       0.51   0.300755\n",
      "44       8  symmetric  symmetric   0.282503\n",
      "45       9       0.01       0.01   0.296528\n",
      "46       9       0.01       0.51   0.291367\n",
      "47       9       0.01  symmetric   0.275296\n",
      "48       9       0.51       0.01   0.319494\n",
      "49       9       0.51       0.51   0.342461\n",
      "50       9       0.51  symmetric   0.309719\n",
      "51       9  symmetric       0.01   0.301174\n",
      "52       9  symmetric       0.51   0.326418\n",
      "53       9  symmetric  symmetric   0.312781\n"
     ]
    }
   ],
   "source": [
    "print(results_df)"
   ]
  },
  {
   "cell_type": "code",
   "execution_count": 32,
   "id": "24f56abe",
   "metadata": {},
   "outputs": [
    {
     "data": {
      "image/png": "[encoded data removed]",
      "text/plain": [
       "<Figure size 432x288 with 1 Axes>"
      ]
     },
     "metadata": {
      "needs_background": "light"
     },
     "output_type": "display_data"
    }
   ],
   "source": [
    "# for each topic, find the maximum coherence score and plot\n",
    "ax = results_df.groupby(['Topics'], as_index=False)['Coherence'].max().plot(x='Topics', y='Coherence', rot=0)"
   ]
  },
  {
   "cell_type": "markdown",
   "id": "002f9792",
   "metadata": {},
   "source": [
    "We know from the above graph that number of topics = 9 possibly gives us the highest coherence score. We can then find the best hyperparameters using the table below. You can change number of topics below to any number to see the results. Upon further examination on the visualization outputs, it turns out that 7 is the best number with minimal topic overlap."
   ]
  },
  {
   "cell_type": "code",
   "execution_count": 33,
   "id": "86f65681",
   "metadata": {},
   "outputs": [
    {
     "data": {
      "text/html": [
       "<div>\n",
       "<style scoped>\n",
       "    .dataframe tbody tr th:only-of-type {\n",
       "        vertical-align: middle;\n",
       "    }\n",
       "\n",
       "    .dataframe tbody tr th {\n",
       "        vertical-align: top;\n",
       "    }\n",
       "\n",
       "    .dataframe thead th {\n",
       "        text-align: right;\n",
       "    }\n",
       "</style>\n",
       "<table border=\"1\" class=\"dataframe\">\n",
       "  <thead>\n",
       "    <tr style=\"text-align: right;\">\n",
       "      <th></th>\n",
       "      <th>Topics</th>\n",
       "      <th>Alpha</th>\n",
       "      <th>Beta</th>\n",
       "      <th>Coherence</th>\n",
       "    </tr>\n",
       "  </thead>\n",
       "  <tbody>\n",
       "    <tr>\n",
       "      <th>49</th>\n",
       "      <td>9</td>\n",
       "      <td>0.51</td>\n",
       "      <td>0.51</td>\n",
       "      <td>0.342461</td>\n",
       "    </tr>\n",
       "    <tr>\n",
       "      <th>52</th>\n",
       "      <td>9</td>\n",
       "      <td>symmetric</td>\n",
       "      <td>0.51</td>\n",
       "      <td>0.326418</td>\n",
       "    </tr>\n",
       "    <tr>\n",
       "      <th>48</th>\n",
       "      <td>9</td>\n",
       "      <td>0.51</td>\n",
       "      <td>0.01</td>\n",
       "      <td>0.319494</td>\n",
       "    </tr>\n",
       "    <tr>\n",
       "      <th>53</th>\n",
       "      <td>9</td>\n",
       "      <td>symmetric</td>\n",
       "      <td>symmetric</td>\n",
       "      <td>0.312781</td>\n",
       "    </tr>\n",
       "    <tr>\n",
       "      <th>50</th>\n",
       "      <td>9</td>\n",
       "      <td>0.51</td>\n",
       "      <td>symmetric</td>\n",
       "      <td>0.309719</td>\n",
       "    </tr>\n",
       "    <tr>\n",
       "      <th>51</th>\n",
       "      <td>9</td>\n",
       "      <td>symmetric</td>\n",
       "      <td>0.01</td>\n",
       "      <td>0.301174</td>\n",
       "    </tr>\n",
       "    <tr>\n",
       "      <th>45</th>\n",
       "      <td>9</td>\n",
       "      <td>0.01</td>\n",
       "      <td>0.01</td>\n",
       "      <td>0.296528</td>\n",
       "    </tr>\n",
       "    <tr>\n",
       "      <th>46</th>\n",
       "      <td>9</td>\n",
       "      <td>0.01</td>\n",
       "      <td>0.51</td>\n",
       "      <td>0.291367</td>\n",
       "    </tr>\n",
       "    <tr>\n",
       "      <th>47</th>\n",
       "      <td>9</td>\n",
       "      <td>0.01</td>\n",
       "      <td>symmetric</td>\n",
       "      <td>0.275296</td>\n",
       "    </tr>\n",
       "  </tbody>\n",
       "</table>\n",
       "</div>"
      ],
      "text/plain": [
       "    Topics      Alpha       Beta  Coherence\n",
       "49       9       0.51       0.51   0.342461\n",
       "52       9  symmetric       0.51   0.326418\n",
       "48       9       0.51       0.01   0.319494\n",
       "53       9  symmetric  symmetric   0.312781\n",
       "50       9       0.51  symmetric   0.309719\n",
       "51       9  symmetric       0.01   0.301174\n",
       "45       9       0.01       0.01   0.296528\n",
       "46       9       0.01       0.51   0.291367\n",
       "47       9       0.01  symmetric   0.275296"
      ]
     },
     "execution_count": 33,
     "metadata": {},
     "output_type": "execute_result"
    }
   ],
   "source": [
    "results_df[results_df['Topics'] == 9 ].sort_values(by='Coherence', ascending=False)"
   ]
  },
  {
   "cell_type": "code",
   "execution_count": 34,
   "id": "dc53684f",
   "metadata": {},
   "outputs": [
    {
     "data": {
      "text/html": [
       "<div>\n",
       "<style scoped>\n",
       "    .dataframe tbody tr th:only-of-type {\n",
       "        vertical-align: middle;\n",
       "    }\n",
       "\n",
       "    .dataframe tbody tr th {\n",
       "        vertical-align: top;\n",
       "    }\n",
       "\n",
       "    .dataframe thead th {\n",
       "        text-align: right;\n",
       "    }\n",
       "</style>\n",
       "<table border=\"1\" class=\"dataframe\">\n",
       "  <thead>\n",
       "    <tr style=\"text-align: right;\">\n",
       "      <th></th>\n",
       "      <th>Topics</th>\n",
       "      <th>Alpha</th>\n",
       "      <th>Beta</th>\n",
       "      <th>Coherence</th>\n",
       "    </tr>\n",
       "  </thead>\n",
       "  <tbody>\n",
       "    <tr>\n",
       "      <th>34</th>\n",
       "      <td>7</td>\n",
       "      <td>symmetric</td>\n",
       "      <td>0.51</td>\n",
       "      <td>0.326032</td>\n",
       "    </tr>\n",
       "    <tr>\n",
       "      <th>28</th>\n",
       "      <td>7</td>\n",
       "      <td>0.01</td>\n",
       "      <td>0.51</td>\n",
       "      <td>0.322996</td>\n",
       "    </tr>\n",
       "    <tr>\n",
       "      <th>31</th>\n",
       "      <td>7</td>\n",
       "      <td>0.51</td>\n",
       "      <td>0.51</td>\n",
       "      <td>0.310786</td>\n",
       "    </tr>\n",
       "    <tr>\n",
       "      <th>29</th>\n",
       "      <td>7</td>\n",
       "      <td>0.01</td>\n",
       "      <td>symmetric</td>\n",
       "      <td>0.298032</td>\n",
       "    </tr>\n",
       "    <tr>\n",
       "      <th>35</th>\n",
       "      <td>7</td>\n",
       "      <td>symmetric</td>\n",
       "      <td>symmetric</td>\n",
       "      <td>0.294916</td>\n",
       "    </tr>\n",
       "    <tr>\n",
       "      <th>33</th>\n",
       "      <td>7</td>\n",
       "      <td>symmetric</td>\n",
       "      <td>0.01</td>\n",
       "      <td>0.274411</td>\n",
       "    </tr>\n",
       "    <tr>\n",
       "      <th>27</th>\n",
       "      <td>7</td>\n",
       "      <td>0.01</td>\n",
       "      <td>0.01</td>\n",
       "      <td>0.273463</td>\n",
       "    </tr>\n",
       "    <tr>\n",
       "      <th>30</th>\n",
       "      <td>7</td>\n",
       "      <td>0.51</td>\n",
       "      <td>0.01</td>\n",
       "      <td>0.271651</td>\n",
       "    </tr>\n",
       "    <tr>\n",
       "      <th>32</th>\n",
       "      <td>7</td>\n",
       "      <td>0.51</td>\n",
       "      <td>symmetric</td>\n",
       "      <td>0.271364</td>\n",
       "    </tr>\n",
       "  </tbody>\n",
       "</table>\n",
       "</div>"
      ],
      "text/plain": [
       "    Topics      Alpha       Beta  Coherence\n",
       "34       7  symmetric       0.51   0.326032\n",
       "28       7       0.01       0.51   0.322996\n",
       "31       7       0.51       0.51   0.310786\n",
       "29       7       0.01  symmetric   0.298032\n",
       "35       7  symmetric  symmetric   0.294916\n",
       "33       7  symmetric       0.01   0.274411\n",
       "27       7       0.01       0.01   0.273463\n",
       "30       7       0.51       0.01   0.271651\n",
       "32       7       0.51  symmetric   0.271364"
      ]
     },
     "execution_count": 34,
     "metadata": {},
     "output_type": "execute_result"
    }
   ],
   "source": [
    "results_df[results_df['Topics'] == 7 ].sort_values(by='Coherence', ascending=False)"
   ]
  },
  {
   "cell_type": "markdown",
   "id": "f8862183",
   "metadata": {},
   "source": [
    "## Final Model\n",
    "Now we rerun our final model with best hyperparameters. We will do number of topics = 9 first."
   ]
  },
  {
   "cell_type": "code",
   "execution_count": 35,
   "id": "a5ac2654",
   "metadata": {},
   "outputs": [],
   "source": [
    "lda_model = gensim.models.LdaMulticore(corpus=corpus,\n",
    "                                           id2word=id2word,\n",
    "                                           num_topics=9, \n",
    "                                           random_state=100,\n",
    "                                           chunksize=100,\n",
    "                                           passes=10,\n",
    "                                           alpha=0.51,\n",
    "                                           eta=0.51)\n"
   ]
  },
  {
   "cell_type": "code",
   "execution_count": 36,
   "id": "1c199a7c",
   "metadata": {},
   "outputs": [
    {
     "data": {
      "text/html": [
       "\n",
       "<link rel=\"stylesheet\" type=\"text/css\" href=\"https://cdn.jsdelivr.net/gh/bmabey/pyLDAvis@3.4.0/pyLDAvis/js/ldavis.v1.0.0.css\">\n",
       "\n",
       "\n",
       "<div id=\"ldavis_el147215894294850081221772700\" style=\"background-color:white;\"></div>\n",
       "<script type=\"text/javascript\">\n",
       "\n",
       "var ldavis_el147215894294850081221772700_data = {\"mdsDat\": {\"x\": [0.18956382056954696, -0.011722107206229229, 0.019780402141839636, 0.07093169422928404, 0.048403883247649174, -0.08832731649673262, -0.06967844225230085, -0.08161267992174412, -0.07733925431131275], \"y\": [-0.012332175101989725, 0.15369135523060015, 0.07621119886018228, -0.027118379072935444, -0.0833611505713077, -0.023988324113973225, -0.012302199931202048, -0.03246149742440175, -0.03833882787497254], \"topics\": [1, 2, 3, 4, 5, 6, 7, 8, 9], \"cluster\": [1, 1, 1, 1, 1, 1, 1, 1, 1], \"Freq\": [18.80683996455436, 17.29106107738732, 13.164250925166787, 12.20773678313549, 11.71696522290402, 7.8914978318233295, 6.8509086983291345, 6.34493035174221, 5.725809144957348]}, \"tinfo\": {\"Term\": [\"set\", \"starwar\", \"force\", \"figure\", \"action\", \"girl\", \"awaken\", \"get\", \"female\", \"conversation\", \"target\", \"character\", \"main\", \"view\", \"merchandise\", \"hasbro\", \"boy\", \"black\", \"s\", \"sexism\", \"highlight\", \"widow\", \"include\", \"problem\", \"go\", \"play\", \"see\", \"dearth\", \"ask\", \"make\", \"highlight\", \"sexism\", \"dearth\", \"problem\", \"target\", \"start\", \"way\", \"really\", \"go\", \"hasbro\", \"female\", \"merchandise\", \"thedailybeast\", \"profeminist\", \"well\", \"feminism\", \"lead\", \"isle\", \"beast\", \"omit\", \"reiterate\", \"crazy\", \"gendere\", \"httpwwwgeek\", \"bro\", \"awakenssetat\", \"daily\", \"estrague\", \"exclude\", \"exclusive\", \"toy\", \"literally\", \"starwar\", \"character\", \"sexist\", \"whereisrey\", \"release\", \"main\", \"wheresreyfigure\", \"think\", \"seriously\", \"leave\", \"disney\", \"new\", \"even\", \"want\", \"action\", \"figure\", \"know\", \"see\", \"market\", \"ve\", \"everywhere\", \"item\", \"last\", \"tired\", \"fly\", \"woman\", \"back\", \"night\", \"deal\", \"httpwpmepsnyvjl\", \"game\", \"total\", \"kickass\", \"general\", \"outrage\", \"single\", \"finally\", \"surprised\", \"young\", \"next\", \"package\", \"bunch\", \"awesome\", \"post\", \"still\", \"store\", \"find\", \"damn\", \"want\", \"right\", \"let\", \"movie\", \"m\", \"thing\", \"guess\", \"whereisrey\", \"get\", \"love\", \"hero\", \"rey\", \"buy\", \"even\", \"daughter\", \"starwar\", \"conversation\", \"toy\", \"seriously\", \"female\", \"boy\", \"view\", \"girl\", \"include\", \"lack\", \"millennium\", \"random\", \"falcon\", \"disturb\", \"make\", \"stormtrooper\", \"wrong\", \"fuck\", \"keep\", \"note\", \"clear\", \"rte\", \"understand\", \"rant\", \"d\", \"httpdspymeqmkih\", \"bum\", \"protagonist\", \"demand\", \"case\", \"ffs\", \"complain\", \"bother\", \"disney\", \"speeder\", \"opportunity\", \"male\", \"support\", \"angry\", \"pilot\", \"film\", \"time\", \"whereisrey\", \"always\", \"m\", \"even\", \"find\", \"say\", \"store\", \"main\", \"character\", \"people\", \"marketing\", \"toy\", \"merchandise\", \"buy\", \"want\", \"right\", \"get\", \"look\", \"black\", \"widow\", \"avenger\", \"guardian\", \"ask\", \"question\", \"guy\", \"set\", \"notice\", \"second\", \"omission\", \"s\", \"fan\", \"maybe\", \"twitter\", \"bug\", \"alltoofamiliar\", \"loud\", \"franchise\", \"mom\", \"movement\", \"actually\", \"small\", \"limit\", \"focus\", \"many\", \"abcnew\", \"box\", \"check\", \"bs\", \"hero\", \"main\", \"leave\", \"character\", \"say\", \"whereisrey\", \"rey\", \"miss\", \"excuse\", \"daughter\", \"starwar\", \"toy\", \"buy\", \"sell\", \"movie\", \"awaken\", \"force\", \"upset\", \"apparently\", \"actionfigure\", \"repeat\", \"hashtag\", \"history\", \"actionfigureet\", \"age\", \"huge\", \"wash\", \"trend\", \"like\", \"idea\", \"equality\", \"change\", \"themarysue\", \"world\", \"line\", \"miss\", \"realize\", \"shameful\", \"dailydot\", \"httpdlvritdhlfn\", \"bias\", \"reveal\", \"playset\", \"review\", \"epic\", \"old\", \"good\", \"people\", \"starwar\", \"course\", \"watch\", \"exclude\", \"year\", \"whereisrey\", \"take\", \"daughter\", \"set\", \"toy\", \"fan\", \"gender\", \"also\", \"movie\", \"want\", \"hasbro\", \"find\", \"rey\", \"see\", \"jar\", \"power\", \"play\", \"girl\", \"boy\", \"re\", \"wish\", \"child\", \"matter\", \"dramatic\", \"httpwwwheroic\", \"heroic\", \"com\", \"full\", \"come\", \"central\", \"live\", \"por\", \"accion\", \"insult\", \"list\", \"massively\", \"absurdly\", \"idiotic\", \"level\", \"es\", \"minimachomane\", \"porque\", \"massive\", \"essential\", \"fail\", \"available\", \"son\", \"listen\", \"plastic\", \"raise\", \"talk\", \"tell\", \"want\", \"whereisrey\", \"think\", \"buy\", \"toy\", \"look\", \"kid\", \"doll\", \"starwar\", \"little\", \"daughter\", \"pissed\", \"absolutely\", \"cut\", \"expect\", \"ship\", \"dude\", \"apparel\", \"day\", \"mall\", \"stuff\", \"kick\", \"suppose\", \"quit\", \"toyrus\", \"explain\", \"product\", \"funko\", \"reythat\", \"home\", \"reymond\", \"wewantleia\", \"hamley\", \"pathetic\", \"get\", \"womennmedia\", \"chocolate\", \"inbox\", \"shopping\", \"exact\", \"pull\", \"care\", \"shit\", \"love\", \"watch\", \"old\", \"fucking\", \"representation\", \"year\", \"put\", \"whereisrey\", \"people\", \"stupid\", \"hard\", \"pilot\", \"first\", \"even\", \"company\", \"disney\", \"starwar\", \"marketing\", \"look\", \"movie\", \"version\", \"open\", \"view\", \"follow\", \"conversation\", \"face\", \"god\", \"incl\", \"less\", \"noble\", \"barne\", \"desolate\", \"empty\", \"husk\", \"shelving\", \"mc\", \"upgrade\", \"mean\", \"jakku\", \"lot\", \"presence\", \"bajillion\", \"therefore\", \"erase\", \"early\", \"skywalker\", \"erinkgilson\", \"wheresphasma\", \"pay\", \"wear\", \"new\", \"sake\", \"kid\", \"piss\", \"sell\", \"enough\", \"also\", \"help\", \"whereisrey\", \"starwar\", \"little\", \"leia\", \"gender\", \"tell\", \"girl\", \"show\", \"figure\", \"strong\", \"represent\", \"feel\", \"need\", \"worth\", \"here\", \"other\", \"sure\", \"great\", \"drown\", \"episode\", \"picturehouse\", \"holiday\", \"use\", \"pretty\", \"try\", \"click\", \"mast\", \"lol\", \"embarrassingly\", \"httpmashablecom\", \"arguespeculate\", \"goal\", \"family\", \"job\", \"latch\", \"charge\", \"approach\", \"tell\", \"dollar\", \"today\", \"cool\", \"hard\", \"hasbronew\", \"give\", \"whereisrey\", \"heroine\", \"place\", \"new\", \"brother\", \"starwar\", \"disney\", \"story\", \"hasbro\"], \"Freq\": [320.0, 849.0, 231.0, 324.0, 260.0, 194.0, 154.0, 179.0, 278.0, 135.0, 175.0, 353.0, 223.0, 101.0, 191.0, 194.0, 87.0, 82.0, 136.0, 106.0, 101.0, 76.0, 84.0, 99.0, 115.0, 64.0, 114.0, 85.0, 81.0, 83.0, 98.26538284304745, 102.21636694156996, 82.66246123262145, 95.06636850076437, 165.8567570034018, 51.359786299116756, 53.71324343394294, 87.38959173776016, 105.4124390148386, 169.81639534187005, 233.5950202772514, 159.3365163003003, 14.51170003988422, 9.403588839149656, 27.46775083648734, 9.640310990944675, 52.246069341612255, 7.12709285495728, 6.363045558973067, 6.47915679133534, 5.231099231937045, 5.9315151070343255, 4.906739418887256, 4.50172848531155, 4.570753436907417, 4.381703754738535, 3.9020079384010744, 3.8443721456121196, 29.786045268084482, 6.569382419782246, 185.40648658858788, 12.784181517182883, 380.960850379632, 166.83424607116757, 12.072217128349482, 402.1430129381858, 13.609842816828403, 66.94682742238415, 8.022176280159284, 18.50484012326689, 16.304023979008495, 12.664757535818463, 19.291603720564222, 13.50055823099359, 12.86814188144178, 12.93426204343972, 247.35849787703057, 291.5640559786152, 49.58740299744851, 98.524075390811, 17.68086274253439, 48.9189224546013, 14.019396450323946, 10.662037181544067, 18.186333400852202, 11.359167513815212, 9.6773042940402, 53.23033299886213, 9.037136390942145, 7.4733975261978784, 7.214313371177599, 6.517500356247435, 6.5534702600811645, 7.595879044966989, 6.127784089069906, 6.368319062276388, 9.10593773178395, 8.948187382181343, 14.270925973587119, 7.91107085557309, 5.141570717847018, 8.747994846605659, 4.971684963185218, 4.807882776920064, 12.142668651451679, 6.85254681204047, 29.79092207911668, 47.34079622329356, 96.96517462390004, 9.277956453947166, 58.89302357382919, 25.680216736260565, 17.407817120319233, 34.61528403800898, 34.992142011559885, 21.812957257406097, 12.480744496234404, 342.91688573435306, 59.34107169282949, 22.362519160253406, 26.345690697301958, 30.401686564105958, 28.1018418730677, 25.629311101833473, 22.540496507110255, 71.04544080896586, 29.98320448835169, 41.8481917095598, 18.033386442498717, 25.22815455289684, 19.171357823663097, 19.437823077519635, 18.141068082161073, 78.39155200248871, 36.59807069525243, 18.73198421875753, 14.714001570966163, 17.67142406364098, 13.862308972665327, 68.44843439739834, 11.941224056237264, 12.710902633795703, 21.96544823186583, 12.619093133519705, 7.63174983108331, 6.527710580991882, 6.198276336335311, 5.900420905814457, 5.601436447190135, 6.531360765465482, 5.413812435545598, 5.200622033580801, 24.57325175244284, 11.741741286017483, 4.904741175446856, 5.7606765941699525, 7.025879604486022, 9.563574669811565, 65.09142428527544, 4.7337490953526045, 4.343342803407237, 11.807310225397229, 9.355074018818847, 10.431155196188286, 11.874512877124621, 17.429288868973433, 12.054465084297448, 382.5831078687118, 8.528321957078473, 28.40320347040326, 24.147764809612884, 40.7223186307656, 22.482626902732306, 23.879278831312135, 42.32855984860308, 53.96523923760215, 20.900361395031872, 16.04780691077882, 35.955300010185525, 22.760625254221754, 16.566661571207113, 18.013914795449296, 14.368629948992131, 17.36881886360293, 13.585746536557222, 78.91423685029385, 73.48669820852942, 53.47439865584629, 49.053575064581345, 69.92871722433141, 25.7487259680286, 19.281031509974245, 257.23333221063695, 15.888712744246728, 13.196524569917637, 8.321112111966844, 100.59276949989513, 35.376804524919436, 13.140217282077037, 7.152179313283019, 4.748776717908578, 4.754098844558057, 5.037662410532115, 7.001792480416959, 12.146855854796723, 4.279804387395632, 19.549711393824573, 3.8193326174954145, 3.5777716362883623, 7.072439126062691, 9.22966395988412, 3.1425194097049243, 7.443799929315683, 6.117665567325648, 3.568799561298045, 31.2125659661504, 109.73099957597562, 18.67442948837461, 110.26240013004298, 27.48664325225184, 233.46610638409277, 22.68953368528205, 21.517535868120007, 6.794613893564356, 13.081920322579265, 42.85906770576398, 16.421521890634363, 11.319507393875808, 9.096178834670217, 9.660773720881533, 149.56671342735706, 220.79949410144974, 30.94655161526277, 19.760456152787185, 16.55459478526767, 10.795436170458336, 18.150428999099802, 8.829789258968843, 7.734414419392766, 6.709914909667687, 10.049154432836717, 6.029228986299928, 5.78149693942576, 6.842111776222159, 5.1752980802013, 4.312831386062652, 5.976627352091562, 6.13219600323298, 9.974373054345504, 8.003032705710211, 54.60822373979322, 5.157068397320742, 3.6946842378486924, 3.5455706798196456, 3.2269589354158006, 3.2191690125040506, 3.2191690125040506, 3.2079219039301816, 3.2056050183785803, 3.9826657876515545, 14.954861914251556, 17.218551827344054, 32.474379056210196, 302.51126321839473, 6.4763388453676445, 8.947805952728814, 17.94282852782999, 12.278218061312174, 189.9106254105755, 9.947058935787778, 16.0204397779285, 39.57049419393909, 39.58024822835529, 11.616082005269677, 8.583110830582179, 10.802929763170477, 12.501813643855277, 13.290688983955114, 11.800821374382705, 10.899007270950232, 9.905842160019313, 9.264414276520101, 13.159946764061287, 11.57865147352119, 50.791718774359694, 146.23590724843544, 62.4199089932897, 22.782915265729066, 6.716955059533799, 10.265370109444673, 8.55735733121955, 4.722931627671033, 4.907303268693392, 5.224325986144406, 5.633895218960436, 5.619415832318408, 36.1037500372297, 4.687506143262142, 4.361562903522541, 4.211846480107026, 3.8424546714305015, 4.009888588990194, 4.046280753709999, 3.6172278891499126, 3.3013521994367316, 3.3013521994367316, 3.3013521994367316, 3.296321252959076, 3.296321252959076, 3.296321252959076, 4.739290972183631, 3.5549942236093335, 13.410602080971774, 7.101251666599664, 7.889446405837338, 3.5152471894397137, 4.208775369343983, 3.7467200570719297, 6.280733780748657, 8.545674800533254, 19.063174685901974, 67.00548557676446, 11.723894285104597, 12.53827266482365, 21.241141631645654, 9.893289608011997, 6.786171813649939, 5.191626757443821, 8.083501142333624, 5.234255277352948, 4.808852128788819, 5.9084396485759, 5.623113510512332, 5.1779501235001435, 4.808648973875017, 5.485909836780162, 6.437479431898652, 4.314048307848007, 12.169291701042754, 3.9345721073453004, 12.439010305856192, 3.841189357994583, 3.7195480352262296, 3.5605609990391778, 4.193699984247084, 4.048494724053691, 8.288339966645921, 3.31939367028079, 3.088094938631949, 4.795137112930896, 3.0814553034359626, 4.209993502470272, 3.0523023171940626, 3.5331192427801836, 92.34658358582337, 3.0227458334909194, 2.799439258956594, 2.764303941562193, 3.240631712336081, 2.6962120751972702, 3.139618657050794, 5.736838896718731, 6.544763002745224, 21.684318168611334, 9.151620231194176, 10.09189896940789, 7.95722452807546, 4.212384234750374, 10.11851801516655, 7.877153658940749, 90.92796351842401, 13.388754536607657, 4.761699863722954, 5.005206849133438, 5.439951986700851, 5.2003507152749995, 7.024497125017629, 5.480217654483677, 6.324480498278268, 8.340488968618386, 5.149495891138303, 5.188604499502082, 5.012988024615346, 8.279448588645417, 8.880493645880533, 68.16982344587178, 6.181192573194341, 85.48943650145578, 7.504567887941297, 4.231504542122704, 4.316140156547263, 7.135096281431649, 3.350955314185248, 3.3501245936354076, 3.0241792143757182, 3.0241792143757182, 3.0241792143757182, 3.0241792143757182, 3.0027702395046294, 2.968281873409704, 14.277964876023436, 3.5826419292081315, 7.107160346480505, 3.070424659614708, 2.1692526029944816, 2.126351508422853, 1.961576650066235, 3.7034599174016343, 1.900389333036453, 1.988155341193066, 1.8729073288281592, 2.600300324128088, 2.1984953854509923, 20.837110192203852, 3.7339072992362645, 10.880222492622659, 3.935142893701128, 9.532987340865565, 5.494922064473216, 8.578308584546278, 3.696931683768393, 45.29211281032471, 20.25386940851394, 5.8043954887567955, 4.372578939553646, 4.85876187103932, 4.816443881890871, 6.59846972759626, 3.857346623759619, 4.505944701483769, 13.145578544984158, 8.658212415199689, 11.14716271527752, 30.575383128043182, 6.823373092214789, 9.764497413105754, 6.22413678057396, 5.52550059831184, 10.706542603643737, 4.102281028949227, 3.7386422111902524, 3.40516452757388, 4.302163395058641, 8.831693773751299, 6.423980727784551, 17.110016176989912, 2.9940209056036733, 2.9940209056036733, 3.561909694371582, 2.9663671792509176, 2.9663671792509176, 2.964753257133698, 2.964753257133698, 5.159068365405116, 2.8935804410475963, 2.4713930274990785, 2.4301372049463916, 2.3857003304078317, 13.214680024200387, 2.18579448608247, 8.84849563883653, 6.169590481778462, 6.0527201915590885, 3.475297078091853, 6.144471746014707, 44.92744118886369, 4.092066855728831, 3.7005382159910014, 5.8476230345761095, 3.2708129816567575, 6.72683592210579, 4.634170652786731, 3.6362276062946584, 3.8394839398007026], \"Total\": [320.0, 849.0, 231.0, 324.0, 260.0, 194.0, 154.0, 179.0, 278.0, 135.0, 175.0, 353.0, 223.0, 101.0, 191.0, 194.0, 87.0, 82.0, 136.0, 106.0, 101.0, 76.0, 84.0, 99.0, 115.0, 64.0, 114.0, 85.0, 81.0, 83.0, 101.3856255757113, 106.01821620619816, 85.76736875968442, 99.99170255739477, 175.49010259744583, 54.477375778367175, 57.3893010684479, 95.57436409578845, 115.90970586264905, 194.57854726373316, 278.7558014105046, 191.2528088841683, 17.628186659392767, 12.130872302341432, 35.84231627492115, 12.98365431386902, 70.71618519187159, 9.897700608049515, 9.273791790132956, 9.763256538765301, 8.003586811057913, 9.136092047700409, 7.625701809922386, 7.299459801099011, 7.594160890284977, 7.28794440325735, 6.627038320399238, 6.593841428520452, 51.58801332474554, 11.418774422955417, 346.1358803703248, 22.636866485121576, 849.8586468849427, 353.1080119730392, 22.7979638538314, 1799.1727414302952, 28.11894092556114, 223.88407609160006, 14.739885997637652, 64.37408425754239, 58.19493458896969, 39.89672094951905, 104.96721188442876, 54.94005531554236, 73.92050883696336, 126.97067540510739, 260.08270843206475, 324.72409285701303, 56.63924330157574, 114.48409456853724, 21.195330246887117, 59.05777720803123, 17.77725659685045, 13.608065697811023, 24.057987741925327, 15.032683730867278, 12.87856230983966, 72.36404940177265, 12.341816944818904, 10.265299173351988, 10.189513508198157, 9.279735522891313, 9.332732345988362, 11.039207500061133, 9.0249644871284, 9.422768131521641, 13.485832235117192, 13.300561946347345, 21.346631525654587, 12.004067769969335, 7.919204639884089, 13.728317403621892, 7.852684110298807, 7.622320993799113, 19.344512938071713, 10.9246248660047, 48.550373840006834, 78.54843294162139, 166.66415558265507, 15.12693637763034, 126.97067540510739, 50.980926098054894, 31.8022000349018, 75.3483387300726, 77.69330439343582, 42.7541469559469, 21.580345843447834, 1799.1727414302952, 179.68862811940855, 49.48447520600248, 62.580944138270965, 83.03138052753575, 85.99842390940098, 73.92050883696336, 60.12559658361687, 849.8586468849427, 135.81048539755494, 346.1358803703248, 58.19493458896969, 278.7558014105046, 87.84207596401284, 101.25486617441139, 194.69655389601516, 84.23044984198232, 43.06216813212493, 22.088159230091993, 17.590042377054207, 21.33867375940836, 16.870954265967605, 83.77077882415102, 15.095420085932258, 16.201306086597363, 28.177367796635778, 16.967743649069824, 10.927777454429618, 9.411094995550023, 8.947652122413754, 8.80462011292811, 8.454140340453355, 9.869532841918087, 8.352136252879678, 8.025013692967903, 37.93934308223013, 18.130093181951338, 7.757767699767736, 9.167521399961995, 11.199005188845424, 15.366802536746267, 104.96721188442876, 7.664812087932223, 7.160091062210907, 19.483652903456235, 15.449627268827909, 17.97210383624697, 21.55964750807436, 34.46279672210774, 22.395163383799055, 1799.1727414302952, 15.056812140122439, 77.69330439343582, 73.92050883696336, 166.66415558265507, 69.24683755279626, 78.54843294162139, 223.88407609160006, 353.1080119730392, 73.61588360885114, 44.854198824041866, 346.1358803703248, 191.2528088841683, 85.99842390940098, 126.97067540510739, 50.980926098054894, 179.68862811940855, 59.25876060105122, 82.30860900158622, 76.98380176659325, 56.588516815790506, 52.01213505130059, 81.28295461053175, 29.970984585504343, 22.962942343824587, 320.4251456884944, 19.905922443798655, 16.6512622921559, 11.148074896763701, 136.1390326109963, 52.033328936533756, 20.099980492804633, 11.054461499135744, 7.549722281355524, 7.622765301920351, 8.299886942270774, 11.65482682049576, 20.490200674107772, 7.304532122751858, 33.68218993066855, 6.618196576308324, 6.388356663635707, 12.80951508553502, 17.292102201745752, 5.88863566146204, 14.047345417401047, 12.009812732264896, 7.03814404806669, 62.580944138270965, 223.88407609160006, 39.89672094951905, 353.1080119730392, 69.24683755279626, 1799.1727414302952, 83.03138052753575, 98.02337260527335, 14.104695142134624, 60.12559658361687, 849.8586468849427, 346.1358803703248, 85.99842390940098, 41.136656076574816, 75.3483387300726, 154.41172168867305, 231.2683230015393, 35.9920876555503, 23.789879935186253, 20.032005761373995, 14.056474560022465, 23.637377307088887, 11.788474141810038, 10.57098037790189, 9.56020840422027, 14.387592470246659, 8.888509047502817, 8.609136411719918, 10.402237677007028, 8.701757016372, 7.281483719603796, 10.216879350466401, 10.50614101410823, 17.651126788282838, 14.189948416500407, 98.02337260527335, 9.32547387597164, 6.719524086917607, 6.507291522911391, 5.978179201532339, 5.978383532585324, 5.978383532585324, 5.978193441488924, 5.977417619863968, 7.469266863411727, 28.21633179616596, 35.45953557822295, 73.61588360885114, 849.8586468849427, 13.146025676428144, 20.713092942405808, 51.58801332474554, 31.75740953116197, 1799.1727414302952, 25.4122973338461, 60.12559658361687, 320.4251456884944, 346.1358803703248, 52.033328936533756, 24.66547548292606, 46.55247204775745, 75.3483387300726, 126.97067540510739, 194.57854726373316, 166.66415558265507, 83.03138052753575, 114.48409456853724, 16.051170443152323, 14.575368809681425, 64.58600791585941, 194.69655389601516, 87.84207596401284, 32.418185241743544, 10.081822779745174, 15.828025733474863, 13.494618756067318, 7.4666949397404645, 7.7605661150037335, 8.289111307050064, 9.089416496261403, 9.117434039056782, 58.62058374145103, 7.6568367974428515, 7.1793433112132155, 6.989857641994075, 6.599111568652311, 6.98706428808444, 7.0762839391962284, 6.575030251965099, 6.056525059548727, 6.056525059548727, 6.056525059548727, 6.054887012637807, 6.054887012637807, 6.054887012637807, 8.771477044159578, 6.613453330067693, 26.77958434277097, 13.752587274985864, 18.104855926574547, 6.5641501246064475, 8.494041642670673, 7.227408746866703, 16.308468051981986, 30.226462907243455, 126.97067540510739, 1799.1727414302952, 64.37408425754239, 85.99842390940098, 346.1358803703248, 59.25876060105122, 34.80622568494558, 20.877380577030973, 849.8586468849427, 35.833407229477075, 60.12559658361687, 8.845390308466715, 8.442542404428854, 8.14471817310477, 7.670637880739482, 8.83069786818497, 10.67064300579432, 7.195754633465012, 20.5389155947099, 6.823341735128786, 21.64376231330644, 6.731484755568931, 6.604003679348372, 6.333064803392185, 7.5064571104223745, 7.3658582144213804, 15.19930719440352, 6.11748137015112, 5.853194332021489, 9.098215067742021, 5.853508144112547, 8.002181332226588, 5.857421192093701, 6.860116889732148, 179.68862811940855, 5.928943728106658, 5.567755367602166, 5.569869599569768, 6.539387955778881, 5.467761558910267, 6.412998092447218, 11.737439021074527, 13.875440770698054, 49.48447520600248, 20.713092942405808, 28.21633179616596, 21.00828607403409, 9.1910324115892, 31.75740953116197, 22.21481462679417, 1799.1727414302952, 73.61588360885114, 12.009798697193693, 16.068146381491797, 21.55964750807436, 19.90730836903938, 73.92050883696336, 28.105733237826882, 104.96721188442876, 849.8586468849427, 44.854198824041866, 59.25876060105122, 75.3483387300726, 11.485842249710172, 12.343985845905994, 101.25486617441139, 9.215229125834258, 135.81048539755494, 12.122180724757529, 7.026320917176708, 7.169409877246663, 12.226529369076138, 6.161502955000503, 6.161550049833746, 5.80071017465419, 5.80071017465419, 5.80071017465419, 5.80071017465419, 5.80195761596724, 5.804309241394872, 30.39132301162049, 7.733570414046259, 15.353905789114593, 6.924924453919484, 4.952231525322699, 4.9189483676778085, 4.769557590004821, 9.107944350913403, 4.68727343402797, 4.912034978997368, 4.779104879134084, 6.841377228491492, 5.791589485486178, 54.94005531554236, 10.014175643014553, 34.80622568494558, 12.338398670395259, 41.136656076574816, 19.856154901227367, 46.55247204775745, 12.312497789671701, 1799.1727414302952, 849.8586468849427, 35.833407229477075, 17.674111534515724, 24.66547548292606, 30.226462907243455, 194.69655389601516, 21.197616935262815, 324.72409285701303, 16.363984631186383, 12.008251496744418, 16.352005332682076, 44.9796805138061, 10.062588449951932, 14.418154478231667, 9.648503489408093, 8.574888543927683, 16.635511737693772, 6.977104677671029, 6.6636604443190155, 6.228765101276471, 7.918939604651726, 16.256660331389202, 11.881632658611764, 32.113217247230494, 5.761255308659063, 5.761255308659063, 6.865218338411336, 5.7638652124844985, 5.7638652124844985, 5.763342030491932, 5.763342030491932, 10.830212458285617, 6.150799915923799, 5.272076356749547, 5.297410350786739, 5.215051185210205, 30.226462907243455, 5.064317031572433, 21.06100099948459, 15.48948515166424, 16.068146381491797, 8.41391005061242, 25.044029162427194, 1799.1727414302952, 13.44232012904329, 11.612201632809862, 54.94005531554236, 9.569688119304184, 849.8586468849427, 104.96721188442876, 19.528995820323345, 194.57854726373316], \"Category\": [\"Default\", \"Default\", \"Default\", \"Default\", \"Default\", \"Default\", \"Default\", \"Default\", \"Default\", \"Default\", \"Default\", \"Default\", \"Default\", \"Default\", \"Default\", \"Default\", \"Default\", \"Default\", \"Default\", \"Default\", \"Default\", \"Default\", \"Default\", \"Default\", \"Default\", \"Default\", \"Default\", \"Default\", \"Default\", \"Default\", \"Topic1\", \"Topic1\", \"Topic1\", \"Topic1\", \"Topic1\", \"Topic1\", \"Topic1\", \"Topic1\", \"Topic1\", \"Topic1\", \"Topic1\", \"Topic1\", \"Topic1\", \"Topic1\", \"Topic1\", \"Topic1\", \"Topic1\", \"Topic1\", \"Topic1\", \"Topic1\", \"Topic1\", \"Topic1\", \"Topic1\", \"Topic1\", \"Topic1\", \"Topic1\", \"Topic1\", \"Topic1\", \"Topic1\", \"Topic1\", \"Topic1\", \"Topic1\", \"Topic1\", \"Topic1\", \"Topic1\", \"Topic1\", \"Topic1\", \"Topic1\", \"Topic1\", \"Topic1\", \"Topic1\", \"Topic1\", \"Topic1\", \"Topic1\", \"Topic1\", \"Topic1\", \"Topic2\", \"Topic2\", \"Topic2\", \"Topic2\", \"Topic2\", \"Topic2\", \"Topic2\", \"Topic2\", \"Topic2\", \"Topic2\", \"Topic2\", \"Topic2\", \"Topic2\", \"Topic2\", \"Topic2\", \"Topic2\", \"Topic2\", \"Topic2\", \"Topic2\", \"Topic2\", \"Topic2\", \"Topic2\", \"Topic2\", \"Topic2\", \"Topic2\", \"Topic2\", \"Topic2\", \"Topic2\", \"Topic2\", \"Topic2\", \"Topic2\", \"Topic2\", \"Topic2\", \"Topic2\", \"Topic2\", \"Topic2\", \"Topic2\", \"Topic2\", \"Topic2\", \"Topic2\", \"Topic2\", \"Topic2\", \"Topic2\", \"Topic2\", \"Topic2\", \"Topic2\", \"Topic2\", \"Topic2\", \"Topic2\", \"Topic2\", \"Topic2\", \"Topic2\", \"Topic2\", \"Topic2\", \"Topic2\", \"Topic2\", \"Topic2\", \"Topic3\", \"Topic3\", \"Topic3\", \"Topic3\", \"Topic3\", \"Topic3\", \"Topic3\", \"Topic3\", \"Topic3\", \"Topic3\", \"Topic3\", \"Topic3\", \"Topic3\", \"Topic3\", \"Topic3\", \"Topic3\", \"Topic3\", \"Topic3\", \"Topic3\", \"Topic3\", \"Topic3\", \"Topic3\", \"Topic3\", \"Topic3\", \"Topic3\", \"Topic3\", \"Topic3\", \"Topic3\", \"Topic3\", \"Topic3\", \"Topic3\", \"Topic3\", \"Topic3\", \"Topic3\", \"Topic3\", \"Topic3\", \"Topic3\", \"Topic3\", \"Topic3\", \"Topic3\", \"Topic3\", \"Topic3\", \"Topic3\", \"Topic3\", \"Topic3\", \"Topic3\", \"Topic3\", \"Topic3\", \"Topic3\", \"Topic3\", \"Topic3\", \"Topic3\", \"Topic4\", \"Topic4\", \"Topic4\", \"Topic4\", \"Topic4\", \"Topic4\", \"Topic4\", \"Topic4\", \"Topic4\", \"Topic4\", \"Topic4\", \"Topic4\", \"Topic4\", \"Topic4\", \"Topic4\", \"Topic4\", \"Topic4\", \"Topic4\", \"Topic4\", \"Topic4\", \"Topic4\", \"Topic4\", \"Topic4\", \"Topic4\", \"Topic4\", \"Topic4\", \"Topic4\", \"Topic4\", \"Topic4\", \"Topic4\", \"Topic4\", \"Topic4\", \"Topic4\", \"Topic4\", \"Topic4\", \"Topic4\", \"Topic4\", \"Topic4\", \"Topic4\", \"Topic4\", \"Topic4\", \"Topic4\", \"Topic4\", \"Topic4\", \"Topic4\", \"Topic5\", \"Topic5\", \"Topic5\", \"Topic5\", \"Topic5\", \"Topic5\", \"Topic5\", \"Topic5\", \"Topic5\", \"Topic5\", \"Topic5\", \"Topic5\", \"Topic5\", \"Topic5\", \"Topic5\", \"Topic5\", \"Topic5\", \"Topic5\", \"Topic5\", \"Topic5\", \"Topic5\", \"Topic5\", \"Topic5\", \"Topic5\", \"Topic5\", \"Topic5\", \"Topic5\", \"Topic5\", \"Topic5\", \"Topic5\", \"Topic5\", \"Topic5\", \"Topic5\", \"Topic5\", \"Topic5\", \"Topic5\", \"Topic5\", \"Topic5\", \"Topic5\", \"Topic5\", \"Topic5\", \"Topic5\", \"Topic5\", \"Topic5\", \"Topic5\", \"Topic5\", \"Topic5\", \"Topic5\", \"Topic5\", \"Topic5\", \"Topic5\", \"Topic5\", \"Topic6\", \"Topic6\", \"Topic6\", \"Topic6\", \"Topic6\", \"Topic6\", \"Topic6\", \"Topic6\", \"Topic6\", \"Topic6\", \"Topic6\", \"Topic6\", \"Topic6\", \"Topic6\", \"Topic6\", \"Topic6\", \"Topic6\", \"Topic6\", \"Topic6\", \"Topic6\", \"Topic6\", \"Topic6\", \"Topic6\", \"Topic6\", \"Topic6\", \"Topic6\", \"Topic6\", \"Topic6\", \"Topic6\", \"Topic6\", \"Topic6\", \"Topic6\", \"Topic6\", \"Topic6\", \"Topic6\", \"Topic6\", \"Topic6\", \"Topic6\", \"Topic6\", \"Topic6\", \"Topic6\", \"Topic6\", \"Topic6\", \"Topic6\", \"Topic6\", \"Topic6\", \"Topic6\", \"Topic6\", \"Topic6\", \"Topic7\", \"Topic7\", \"Topic7\", \"Topic7\", \"Topic7\", \"Topic7\", \"Topic7\", \"Topic7\", \"Topic7\", \"Topic7\", \"Topic7\", \"Topic7\", \"Topic7\", \"Topic7\", \"Topic7\", \"Topic7\", \"Topic7\", \"Topic7\", \"Topic7\", \"Topic7\", \"Topic7\", \"Topic7\", \"Topic7\", \"Topic7\", \"Topic7\", \"Topic7\", \"Topic7\", \"Topic7\", \"Topic7\", \"Topic7\", \"Topic7\", \"Topic7\", \"Topic7\", \"Topic7\", \"Topic7\", \"Topic7\", \"Topic7\", \"Topic7\", \"Topic7\", \"Topic7\", \"Topic7\", \"Topic7\", \"Topic7\", \"Topic7\", \"Topic7\", \"Topic7\", \"Topic7\", \"Topic7\", \"Topic7\", \"Topic7\", \"Topic7\", \"Topic7\", \"Topic8\", \"Topic8\", \"Topic8\", \"Topic8\", \"Topic8\", \"Topic8\", \"Topic8\", \"Topic8\", \"Topic8\", \"Topic8\", \"Topic8\", \"Topic8\", \"Topic8\", \"Topic8\", \"Topic8\", \"Topic8\", \"Topic8\", \"Topic8\", \"Topic8\", \"Topic8\", \"Topic8\", \"Topic8\", \"Topic8\", \"Topic8\", \"Topic8\", \"Topic8\", \"Topic8\", \"Topic8\", \"Topic8\", \"Topic8\", \"Topic8\", \"Topic8\", \"Topic8\", \"Topic8\", \"Topic8\", \"Topic8\", \"Topic8\", \"Topic8\", \"Topic8\", \"Topic8\", \"Topic8\", \"Topic8\", \"Topic8\", \"Topic8\", \"Topic8\", \"Topic8\", \"Topic8\", \"Topic9\", \"Topic9\", \"Topic9\", \"Topic9\", \"Topic9\", \"Topic9\", \"Topic9\", \"Topic9\", \"Topic9\", \"Topic9\", \"Topic9\", \"Topic9\", \"Topic9\", \"Topic9\", \"Topic9\", \"Topic9\", \"Topic9\", \"Topic9\", \"Topic9\", \"Topic9\", \"Topic9\", \"Topic9\", \"Topic9\", \"Topic9\", \"Topic9\", \"Topic9\", \"Topic9\", \"Topic9\", \"Topic9\", \"Topic9\", \"Topic9\", \"Topic9\", \"Topic9\", \"Topic9\", \"Topic9\", \"Topic9\", \"Topic9\", \"Topic9\", \"Topic9\", \"Topic9\", \"Topic9\", \"Topic9\", \"Topic9\", \"Topic9\"], \"logprob\": [30.0, 29.0, 28.0, 27.0, 26.0, 25.0, 24.0, 23.0, 22.0, 21.0, 20.0, 19.0, 18.0, 17.0, 16.0, 15.0, 14.0, 13.0, 12.0, 11.0, 10.0, 9.0, 8.0, 7.0, 6.0, 5.0, 4.0, 3.0, 2.0, 1.0, -3.8531, -3.8137, -4.026, -3.8862, -3.3297, -4.502, -4.4572, -3.9704, -3.7829, -3.3061, -2.9872, -3.3698, -5.7659, -6.1997, -5.1278, -6.1749, -4.4848, -6.4769, -6.5903, -6.5722, -6.7862, -6.6605, -6.8502, -6.9364, -6.9211, -6.9634, -7.0793, -7.0942, -5.0468, -6.5584, -3.2183, -5.8926, -2.4981, -3.3238, -5.9499, -2.444, -5.83, -4.2369, -6.3586, -5.5228, -5.6494, -5.902, -5.4811, -5.8381, -5.8861, -5.8809, -2.8459, -2.6815, -4.453, -3.7665, -5.4843, -4.4666, -5.7163, -5.9901, -5.4561, -5.9268, -6.087, -4.3822, -6.1554, -6.3454, -6.3807, -6.4823, -6.4768, -6.3292, -6.5439, -6.5054, -6.1479, -6.1653, -5.6986, -6.2885, -6.7194, -6.188, -6.753, -6.7865, -5.8601, -6.4322, -4.9626, -4.4994, -3.7824, -6.1291, -4.2811, -5.1111, -5.4999, -4.8125, -4.8017, -5.2743, -5.8326, -2.5193, -4.2735, -5.2494, -5.0855, -4.9423, -5.0209, -5.113, -5.2415, -4.0935, -4.9561, -4.6227, -5.4646, -5.1288, -5.4034, -5.3896, -5.4586, -3.7224, -4.4841, -5.1539, -5.3953, -5.2121, -5.4549, -3.858, -5.6041, -5.5416, -4.9946, -5.5489, -6.0518, -6.208, -6.2598, -6.3091, -6.3611, -6.2075, -6.3951, -6.4353, -4.8824, -5.6209, -6.4939, -6.333, -6.1345, -5.8261, -3.9083, -6.5294, -6.6155, -5.6154, -5.8482, -5.7393, -5.6097, -5.2259, -5.5947, -2.1371, -5.9407, -4.7376, -4.8999, -4.3773, -4.9714, -4.9111, -4.3386, -4.0958, -5.0443, -5.3085, -4.5018, -4.9591, -5.2767, -5.193, -5.419, -5.2294, -5.4751, -3.6403, -3.7116, -4.0295, -4.1157, -3.7612, -4.7603, -5.0495, -2.4587, -5.2431, -5.4287, -5.8899, -3.3976, -4.4426, -5.433, -6.0412, -6.4508, -6.4497, -6.3917, -6.0625, -5.5116, -6.5548, -5.0357, -6.6686, -6.7339, -6.0525, -5.7862, -6.8636, -6.0013, -6.1975, -6.7364, -4.5678, -3.3106, -5.0815, -3.3058, -4.695, -2.5556, -4.8868, -4.9398, -6.0925, -5.4374, -4.2507, -5.2101, -5.5821, -5.8008, -5.7406, -2.9599, -2.5704, -4.5354, -4.9839, -5.161, -5.5885, -5.0689, -5.7895, -5.9219, -6.064, -5.6601, -6.171, -6.213, -6.0445, -6.3237, -6.506, -6.1798, -6.1541, -5.6676, -5.8878, -3.9674, -6.3273, -6.6607, -6.7019, -6.7961, -6.7985, -6.7985, -6.802, -6.8027, -6.5857, -5.2626, -5.1216, -4.4872, -2.2555, -6.0995, -5.7762, -5.0804, -5.4598, -2.7211, -5.6704, -5.1938, -4.2895, -4.2893, -5.5152, -5.8178, -5.5878, -5.4418, -5.3806, -5.4995, -5.579, -5.6745, -5.7414, -4.9952, -5.1232, -3.6446, -2.5872, -3.4385, -4.4464, -5.6677, -5.2436, -5.4256, -6.0199, -5.9817, -5.9191, -5.8436, -5.8461, -3.986, -6.0275, -6.0995, -6.1345, -6.2263, -6.1836, -6.1746, -6.2867, -6.378, -6.378, -6.378, -6.3796, -6.3796, -6.3796, -6.0165, -6.304, -4.9763, -5.6121, -5.5069, -6.3153, -6.1352, -6.2515, -5.7349, -5.427, -4.6246, -3.3676, -5.1107, -5.0436, -4.5164, -5.2805, -5.6575, -5.9253, -5.4826, -5.9172, -6.0019, -5.6546, -5.7041, -5.7866, -5.8606, -5.7288, -5.5688, -5.9691, -4.9321, -6.0612, -4.9101, -6.0852, -6.1174, -6.1611, -5.9974, -6.0326, -5.3161, -6.2312, -6.3034, -5.8634, -6.3056, -5.9935, -6.3151, -6.1688, -2.9054, -6.3248, -6.4016, -6.4142, -6.2552, -6.4391, -6.2869, -5.6841, -5.5523, -4.3544, -5.217, -5.1192, -5.3569, -5.9929, -5.1166, -5.367, -2.9209, -4.8366, -5.8704, -5.8205, -5.7372, -5.7822, -5.4816, -5.7298, -5.5865, -5.3099, -5.7921, -5.7845, -5.8189, -5.2405, -5.1704, -3.1322, -5.5327, -2.9059, -5.3387, -5.9117, -5.8919, -5.3892, -6.145, -6.1452, -6.2476, -6.2476, -6.2476, -6.2476, -6.2547, -6.2663, -4.6955, -6.0781, -5.3931, -6.2324, -6.5799, -6.5998, -6.6805, -6.045, -6.7122, -6.667, -6.7268, -6.3986, -6.5665, -4.3175, -6.0368, -4.9673, -5.9843, -5.0995, -5.6504, -5.205, -6.0467, -3.5411, -4.3459, -5.5956, -5.8789, -5.7735, -5.7822, -5.4674, -6.0043, -5.8488, -4.6755, -5.0931, -4.8404, -3.8314, -5.3312, -4.9728, -5.4231, -5.5422, -4.8807, -5.84, -5.9329, -6.0263, -5.7925, -5.0732, -5.3915, -4.4119, -6.155, -6.155, -5.9813, -6.1642, -6.1642, -6.1648, -6.1648, -5.6108, -6.1891, -6.3468, -6.3636, -6.3821, -4.6702, -6.4696, -5.0713, -5.4319, -5.4511, -6.0059, -5.436, -3.4465, -5.8425, -5.9431, -5.4855, -6.0665, -5.3455, -5.7181, -5.9606, -5.9062], \"loglift\": [30.0, 29.0, 28.0, 27.0, 26.0, 25.0, 24.0, 23.0, 22.0, 21.0, 20.0, 19.0, 18.0, 17.0, 16.0, 15.0, 14.0, 13.0, 12.0, 11.0, 10.0, 9.0, 8.0, 7.0, 6.0, 5.0, 4.0, 3.0, 2.0, 1.0, 1.6397, 1.6344, 1.6341, 1.6204, 1.6145, 1.612, 1.6048, 1.5814, 1.576, 1.5348, 1.4942, 1.4884, 1.4764, 1.4163, 1.4048, 1.3732, 1.3682, 1.3426, 1.2943, 1.2609, 1.2457, 1.239, 1.23, 1.1876, 1.1632, 1.1622, 1.1413, 1.1314, 1.1217, 1.1181, 1.0467, 1.0996, 0.8686, 0.9212, 1.0352, 0.1727, 0.9453, 0.4637, 1.0626, 0.4243, 0.3986, 0.5235, -0.023, 0.2674, -0.0773, -0.6131, 1.7048, 1.6473, 1.622, 1.6048, 1.5737, 1.5666, 1.5175, 1.511, 1.4752, 1.4748, 1.4692, 1.4479, 1.4433, 1.4376, 1.4097, 1.4016, 1.4014, 1.3811, 1.3678, 1.3632, 1.3623, 1.3586, 1.3523, 1.338, 1.323, 1.3043, 1.2979, 1.2942, 1.2893, 1.2886, 1.2666, 1.2486, 1.2134, 1.2661, 0.9867, 1.0692, 1.1524, 0.9772, 0.9573, 1.082, 1.2074, 0.0974, 0.6471, 0.9607, 0.8898, 0.7503, 0.6365, 0.6957, 0.7739, -0.7268, 0.2444, -0.3578, 0.5834, -0.6474, 0.2329, 0.1046, -0.6183, 1.9558, 1.865, 1.8629, 1.8491, 1.8391, 1.8312, 1.8257, 1.7933, 1.785, 1.7786, 1.7316, 1.6687, 1.6618, 1.6605, 1.6274, 1.616, 1.6148, 1.5941, 1.5939, 1.5933, 1.5932, 1.5692, 1.5631, 1.5614, 1.5534, 1.5498, 1.5457, 1.5278, 1.5268, 1.526, 1.4836, 1.4312, 1.3459, 1.4083, 0.4795, 1.4592, 1.0214, 0.9089, 0.6185, 0.9027, 0.837, 0.362, 0.1492, 0.7686, 0.9998, -0.2369, -0.1009, 0.3807, 0.0749, 0.7613, -0.3089, 0.5548, 2.061, 2.0566, 2.0465, 2.0445, 1.9526, 1.9513, 1.9283, 1.8834, 1.8777, 1.8706, 1.8106, 1.8005, 1.7173, 1.6781, 1.6677, 1.6395, 1.631, 1.6038, 1.5935, 1.5802, 1.5685, 1.5591, 1.5534, 1.5234, 1.5091, 1.4753, 1.4751, 1.468, 1.4286, 1.424, 1.4075, 1.39, 1.344, 0.9392, 1.1791, 0.0611, 0.8058, 0.5868, 1.3727, 0.5779, -0.8841, -0.9451, 0.0753, 0.5941, 0.0491, 2.1123, 2.0978, 1.9931, 1.9586, 1.9535, 1.8802, 1.88, 1.8551, 1.8317, 1.7901, 1.7853, 1.756, 1.746, 1.7252, 1.6245, 1.6204, 1.6079, 1.6057, 1.5734, 1.5714, 1.5591, 1.5518, 1.546, 1.5369, 1.5276, 1.5251, 1.5251, 1.5216, 1.521, 1.5153, 1.5093, 1.4217, 1.3257, 1.1112, 1.4362, 1.3048, 1.088, 1.1938, -0.1044, 1.2062, 0.8216, 0.0526, -0.0244, 0.6446, 1.0885, 0.6834, 0.3479, -0.1128, -0.6585, -0.5832, 0.018, -0.3701, 2.3408, 2.3092, 2.2991, 2.2532, 2.1977, 2.1867, 2.1333, 2.1064, 2.0839, 2.0814, 2.0811, 2.0778, 2.0611, 2.0554, 2.0547, 2.0487, 2.041, 2.0328, 1.9986, 1.9841, 1.9804, 1.9418, 1.9326, 1.9326, 1.9326, 1.9313, 1.9313, 1.9313, 1.9238, 1.9186, 1.8478, 1.8784, 1.7087, 1.9149, 1.8372, 1.8824, 1.5852, 1.2761, 0.6432, -0.7509, 0.8363, 0.6138, -0.2515, 0.7493, 0.9045, 1.1478, -2.1159, 0.6157, 0.0134, 2.2773, 2.2744, 2.2278, 2.2138, 2.2047, 2.1754, 2.1692, 2.1574, 2.1302, 2.1269, 2.1198, 2.1067, 2.1049, 2.0986, 2.0823, 2.0744, 2.0694, 2.0414, 2.0403, 2.0391, 2.0385, 2.029, 2.0172, 2.0151, 2.0071, 1.9932, 1.9802, 1.9787, 1.9738, 1.9666, 1.9649, 1.9293, 1.8557, 1.864, 1.6526, 1.71, 1.9006, 1.537, 1.644, -0.3042, 0.9763, 1.7557, 1.5144, 1.3037, 1.3384, 0.3272, 1.046, -0.1284, -1.9432, 0.5163, 0.2453, -0.0293, 2.4302, 2.4282, 2.3619, 2.3582, 2.2946, 2.278, 2.2504, 2.2501, 2.2189, 2.1484, 2.1482, 2.1062, 2.1062, 2.1062, 2.1062, 2.0989, 2.0869, 2.0021, 1.988, 1.9872, 1.9442, 1.9321, 1.9188, 1.869, 1.8576, 1.8547, 1.853, 1.8208, 1.7902, 1.7889, 1.788, 1.771, 1.5947, 1.6147, 1.2954, 1.4728, 1.0662, 1.5544, -0.9244, -0.9792, 0.9372, 1.3608, 1.1329, 0.9208, -0.6271, 1.0536, -1.5201, 2.6412, 2.5331, 2.477, 2.4742, 2.4717, 2.4705, 2.4218, 2.4207, 2.4195, 2.3291, 2.2822, 2.2563, 2.25, 2.25, 2.2452, 2.2306, 2.2056, 2.2056, 2.204, 2.1959, 2.1959, 2.1955, 2.1955, 2.1186, 2.1061, 2.1025, 2.0809, 2.0781, 2.0328, 2.0199, 1.993, 1.9397, 1.8839, 1.976, 1.4551, -0.8298, 1.6708, 1.7166, 0.62, 1.7866, -1.9788, -0.26, 1.1792, -1.0653]}, \"token.table\": {\"Topic\": [4, 7, 6, 6, 1, 2, 3, 4, 5, 6, 7, 8, 9, 1, 5, 5, 1, 2, 3, 4, 7, 5, 4, 1, 2, 3, 4, 5, 6, 8, 9, 2, 3, 1, 2, 3, 6, 7, 9, 7, 1, 5, 9, 9, 1, 2, 3, 4, 5, 6, 9, 2, 3, 4, 6, 4, 1, 2, 3, 4, 5, 9, 1, 2, 3, 1, 2, 5, 8, 8, 1, 5, 1, 4, 1, 2, 3, 7, 1, 2, 4, 7, 1, 2, 3, 4, 5, 6, 9, 1, 2, 7, 9, 3, 4, 4, 3, 2, 1, 2, 3, 4, 5, 6, 7, 8, 9, 2, 4, 6, 7, 3, 3, 6, 1, 5, 1, 2, 3, 4, 5, 6, 7, 8, 9, 9, 2, 4, 6, 8, 6, 9, 7, 3, 9, 3, 6, 1, 2, 3, 4, 5, 6, 7, 8, 9, 1, 2, 4, 5, 6, 7, 8, 9, 2, 3, 5, 1, 2, 3, 4, 5, 6, 7, 8, 9, 3, 4, 9, 2, 4, 5, 1, 2, 2, 7, 1, 3, 1, 5, 1, 2, 3, 7, 1, 2, 3, 4, 5, 6, 7, 9, 1, 2, 3, 4, 5, 7, 2, 1, 2, 3, 4, 9, 8, 1, 2, 3, 4, 5, 6, 7, 8, 9, 1, 3, 2, 3, 4, 5, 6, 7, 8, 9, 9, 6, 9, 2, 5, 7, 8, 5, 7, 8, 9, 8, 1, 2, 3, 4, 5, 8, 4, 5, 9, 5, 8, 8, 6, 2, 6, 1, 1, 2, 3, 4, 5, 6, 7, 9, 1, 2, 3, 9, 7, 1, 3, 4, 5, 6, 9, 1, 4, 5, 6, 1, 2, 4, 8, 7, 1, 3, 7, 2, 5, 6, 8, 1, 2, 3, 4, 5, 6, 7, 9, 3, 5, 8, 3, 9, 1, 2, 3, 4, 5, 6, 9, 2, 3, 4, 9, 1, 2, 3, 4, 5, 6, 7, 8, 9, 1, 2, 1, 3, 4, 1, 2, 3, 4, 5, 6, 7, 8, 9, 1, 2, 3, 4, 5, 7, 9, 2, 5, 7, 8, 1, 2, 3, 4, 5, 6, 7, 9, 1, 2, 4, 5, 7, 8, 2, 3, 2, 4, 6, 8, 1, 2, 3, 4, 5, 6, 7, 8, 9, 3, 4, 9, 1, 3, 4, 5, 7, 1, 3, 4, 5, 7, 1, 4, 6, 7, 2, 1, 2, 3, 4, 5, 8, 9, 1, 2, 3, 1, 2, 3, 4, 5, 6, 7, 8, 9, 1, 2, 3, 4, 5, 6, 7, 8, 9, 1, 2, 3, 4, 6, 7, 9, 1, 2, 3, 4, 5, 6, 7, 8, 9, 9, 8, 1, 2, 4, 5, 6, 7, 8, 1, 2, 9, 4, 1, 2, 3, 4, 5, 6, 1, 3, 4, 5, 7, 2, 3, 5, 7, 9, 1, 2, 3, 4, 5, 6, 7, 8, 9, 2, 4, 8, 9, 2, 5, 7, 2, 8, 3, 5, 7, 9, 2, 4, 5, 7, 9, 6, 8, 1, 2, 3, 4, 6, 7, 9, 1, 2, 5, 1, 5, 9, 6, 7, 9, 5, 1, 3, 9, 2, 1, 6, 3, 5, 8, 3, 5, 6, 7, 8, 1, 2, 3, 4, 5, 6, 2, 6, 1, 2, 5, 7, 8, 6, 1, 9, 3, 6, 9, 7, 2, 1, 2, 3, 4, 5, 6, 8, 9, 1, 2, 3, 4, 5, 6, 7, 8, 1, 2, 3, 4, 5, 6, 8, 2, 3, 6, 7, 8, 9, 1, 2, 3, 4, 5, 9, 1, 3, 4, 5, 6, 1, 2, 5, 8, 2, 3, 8, 1, 2, 3, 4, 8, 9, 6, 4, 5, 8, 4, 3, 5, 6, 5, 6, 1, 3, 5, 7, 9, 1, 2, 3, 5, 6, 7, 8, 9, 6, 7, 9, 1, 2, 3, 4, 5, 6, 7, 1, 2, 3, 4, 8, 9, 1, 4, 1, 2, 3, 4, 5, 6, 7, 9, 1, 2, 3, 4, 5, 6, 7, 9, 1, 2, 3, 4, 5, 6, 7, 9, 1, 2, 3, 4, 5, 6, 7, 1, 3, 8, 7, 1, 2, 3, 4, 6, 1, 2, 3, 1, 2, 3, 5, 7, 9, 2, 6, 2, 6, 9, 1, 2, 5, 6, 7, 1, 2, 3, 4, 7, 8, 8, 1, 2, 3, 6, 8, 1, 2, 3, 4, 5, 8, 9, 3, 5, 7, 6, 1, 2, 3, 4, 5, 7, 9, 2, 4, 9, 4, 1, 2, 3, 4, 5, 6, 7, 1, 2, 3, 5, 6, 7, 8, 9, 1, 2, 3, 4, 5, 6, 7, 8, 9, 1, 2, 3, 5, 2, 8, 3, 6, 4, 5, 2, 4, 5, 7, 4, 1, 3, 4, 7, 8, 3, 3, 9, 2, 3, 6, 7, 2, 2, 7, 2, 3, 8, 9, 1, 2, 3, 4, 5, 6, 7, 9, 9, 1, 3, 5, 7, 9, 2, 5, 7, 8, 7, 2, 3, 9, 3, 4, 6, 1, 2, 5, 6, 8, 5, 6, 6, 2, 7, 8, 6, 4, 8, 1, 2, 4, 9, 1, 2, 5, 1, 3, 5, 7, 1, 1, 3, 5, 4, 7, 1, 2, 3, 5, 7, 1, 2, 3, 4, 6, 7, 2, 6, 3, 3, 1, 2, 3, 4, 6, 8, 5, 7, 1, 2, 3, 4, 5, 6, 8, 1, 1, 2, 3, 6, 1, 5, 4, 9, 3, 6, 7, 5, 5, 1, 2, 3, 4, 5, 8, 7, 7, 1, 2, 3, 4, 5, 6, 7, 3, 1, 2, 3, 4, 5, 6, 7, 8, 9, 1, 8, 1, 2, 3, 4, 5, 8, 9, 2, 3, 4, 1, 2, 3, 4, 5, 6, 8, 9, 1, 2, 3, 4, 8, 9, 1, 2, 3, 4, 5, 6, 7, 8, 9, 1, 2, 3, 4, 5, 6, 7, 8, 9, 1, 2, 4, 1, 2, 4, 5, 6, 7, 8, 5, 8, 5, 7, 1, 2, 7, 2, 7, 1, 2, 3, 6, 8, 2, 3, 6, 8, 4, 2, 5, 6, 3, 1, 1, 2, 3, 4, 5, 6, 7, 8, 9, 1, 2, 3, 4, 5, 7, 9, 1, 2, 3, 4, 5, 7, 9, 1, 3, 1, 2, 3, 4, 5, 6, 9, 3, 9, 1, 2, 3, 7, 9, 4, 5, 7, 1, 3, 4, 8, 9, 7, 9, 1, 2, 2, 3, 4, 5, 9, 2, 3, 6, 7, 1, 2, 3, 4, 5, 6, 7, 8, 1, 2, 6, 7, 8, 9, 1, 2, 2, 5, 8, 8, 1, 2, 3, 4, 5, 6, 7, 8, 9, 1, 2, 3, 4, 5, 6, 7, 8, 1, 2, 3, 4, 5, 7, 8, 2, 3, 5, 1, 2, 5, 7, 9, 1, 2, 3, 1, 2, 3, 4, 5, 6, 7, 8, 9, 1, 5, 7, 5, 1, 2, 5, 6, 9, 3, 4, 9, 3, 8, 2, 3, 5, 1, 2, 3, 4, 6, 8, 9, 1, 2, 3, 4, 9, 2, 8, 1, 2, 3, 4, 5, 6, 7, 8, 9, 1, 2, 3, 4, 5, 6, 7, 8, 5, 5, 7, 1, 6, 4, 8, 1, 2, 3, 4, 6, 2, 7, 1, 2, 3, 4, 5, 6, 7, 8, 9, 8, 1, 5, 1, 4, 5, 6, 1, 2, 3, 4, 5, 6, 7, 8, 9, 7, 1, 3, 4, 5, 3, 9, 3, 7, 1, 2, 4, 5, 7, 8, 9, 2], \"Freq\": [0.509455869316791, 0.7106863919158373, 0.49533354035581756, 0.6061421993531914, 0.007689861475440658, 0.9496978922169214, 0.011534792213160987, 0.003844930737720329, 0.007689861475440658, 0.003844930737720329, 0.003844930737720329, 0.007689861475440658, 0.003844930737720329, 0.04992011343807691, 0.8486419284473075, 0.7567888420948735, 0.029689280954071008, 0.17813568572442603, 0.17813568572442603, 0.5937856190814201, 0.029689280954071008, 0.7322016115161162, 0.6559299416893216, 0.04296227272202068, 0.19333022724909307, 0.19333022724909307, 0.08592454544404136, 0.23629249997111373, 0.04296227272202068, 0.19333022724909307, 0.02148113636101034, 0.2656604839573613, 0.5977360889040629, 0.05564178846903576, 0.11128357693807152, 0.5564178846903576, 0.05564178846903576, 0.05564178846903576, 0.11128357693807152, 0.555883323397015, 0.04203468040714897, 0.8406936081429794, 0.3835053442374574, 0.5205313139716495, 0.02460540478115029, 0.012302702390575146, 0.012302702390575146, 0.8611891673402602, 0.036908107171725435, 0.012302702390575146, 0.02460540478115029, 0.0727135905415316, 0.2908543621661264, 0.0727135905415316, 0.5089951337907213, 0.936585777155602, 0.006476192280377607, 0.006476192280377607, 0.006476192280377607, 0.006476192280377607, 0.9714288420566412, 0.006476192280377607, 0.548851607349282, 0.6203309454425673, 0.20677698181418908, 0.08102534695426673, 0.7292281225884006, 0.08102534695426673, 0.4038583393714968, 0.4868904700499751, 0.646984549123027, 0.5018078856347084, 0.01214939739755204, 0.9598023944066111, 0.06507534652109467, 0.06507534652109467, 0.6507534652109468, 0.13015069304218935, 0.07118782732866077, 0.07118782732866077, 0.49831479130062545, 0.21356348198598232, 0.011384066109841032, 0.2162972560869796, 0.022768132219682064, 0.011384066109841032, 0.011384066109841032, 0.705812098810144, 0.022768132219682064, 0.6584005885885795, 0.1044966134249222, 0.31348984027476656, 0.31348984027476656, 0.14208291179756263, 0.5683316471902505, 0.6622760167414091, 0.623051896395063, 0.6559681761064096, 0.04651248032422065, 0.32558736226954454, 0.19767804137793776, 0.12790932089160678, 0.0930249606484413, 0.15116556105371712, 0.011628120081055163, 0.023256240162110326, 0.03488436024316549, 0.1703949214482825, 0.1703949214482825, 0.08519746072414125, 0.5111847643448475, 0.6445153030490586, 0.13060223515982075, 0.6530111757991037, 0.19575448934989134, 0.587263468049674, 0.47294310618120705, 0.03115194112570825, 0.1529277109807496, 0.3115194112570825, 0.002831994647791659, 0.008495983943374976, 0.002831994647791659, 0.008495983943374976, 0.005663989295583318, 0.37754296298812723, 0.16653049007391357, 0.4995914702217407, 0.08326524503695679, 0.08326524503695679, 0.6317907342575828, 0.18953722027727485, 0.5388167765876527, 0.7438029265786719, 0.5207198499762811, 0.11001806336097737, 0.6601083801658643, 0.08529427175363428, 0.051176563052180574, 0.051176563052180574, 0.01705885435072686, 0.10235312610436115, 0.6141187566261669, 0.051176563052180574, 0.01705885435072686, 0.01705885435072686, 0.24905950471980057, 0.035579929245685794, 0.17789964622842896, 0.07115985849137159, 0.07115985849137159, 0.17789964622842896, 0.10673978773705739, 0.07115985849137159, 0.0892936455638071, 0.6250555189466498, 0.0892936455638071, 0.007363201722405474, 0.22089605167216422, 0.05890561377924379, 0.014726403444810948, 0.007363201722405474, 0.029452806889621895, 0.022089605167216423, 0.6258721464044653, 0.014726403444810948, 0.19367977506196649, 0.258239700082622, 0.38735955012393297, 0.07606861758935086, 0.30427447035740346, 0.4564117055361052, 0.6567359401233511, 0.10945599002055852, 0.12277895671113191, 0.6138947835556595, 0.10132191827284662, 0.7092534279099263, 0.6035878784173117, 0.6146950672052237, 0.1322144782044296, 0.5949651519199333, 0.0661072391022148, 0.0661072391022148, 0.016631851604321242, 0.38253258689938857, 0.016631851604321242, 0.21621407085617614, 0.26610962566913987, 0.08315925802160622, 0.016631851604321242, 0.016631851604321242, 0.0486880622002052, 0.0486880622002052, 0.1947522488008208, 0.0486880622002052, 0.0486880622002052, 0.5842567464024623, 0.6869807861158458, 0.9677340135333004, 0.16547074358043154, 0.6618829743217262, 0.05515691452681051, 0.05515691452681051, 0.5171780540093688, 0.1810089041987647, 0.01905356886302786, 0.6192409880484055, 0.01905356886302786, 0.028580353294541793, 0.01905356886302786, 0.057160706589083586, 0.00952678443151393, 0.047633922157569654, 0.05927346990781773, 0.8298285787094483, 0.5268860219036319, 0.04789872926396654, 0.04789872926396654, 0.04789872926396654, 0.23949364631983266, 0.04789872926396654, 0.04789872926396654, 0.04789872926396654, 0.39491998378683946, 0.6696403215013088, 0.5733037104633505, 0.09371506473011841, 0.09371506473011841, 0.5622903883807104, 0.09371506473011841, 0.21958851777563038, 0.10979425888781519, 0.43917703555126075, 0.5204840657102837, 0.5171780540093688, 0.050362217910487145, 0.40289774328389716, 0.050362217910487145, 0.050362217910487145, 0.15108665373146143, 0.25181108955243575, 0.13388194829381572, 0.5355277931752629, 0.6002706820708622, 0.5493385900501128, 0.4193261035764071, 0.40716322431568575, 0.49546754443780316, 0.1512069338198179, 0.6048277352792716, 0.6066266596431533, 0.17586459028133006, 0.3517291805626601, 0.3246730897501478, 0.013528045406256158, 0.013528045406256158, 0.013528045406256158, 0.0946963178437931, 0.013528045406256158, 0.05625164909737352, 0.7875230873632293, 0.05625164909737352, 0.05625164909737352, 0.5486705972229529, 0.5815304383045453, 0.019384347943484845, 0.019384347943484845, 0.3489182629827272, 0.019384347943484845, 0.019384347943484845, 0.6130255087558034, 0.08757507267940048, 0.08757507267940048, 0.17515014535880097, 0.1417967548993985, 0.07089837744969925, 0.49628864214789475, 0.1417967548993985, 0.6518362719943676, 0.1357615054335599, 0.1357615054335599, 0.5430460217342395, 0.0824934079688869, 0.0824934079688869, 0.0824934079688869, 0.6599472637510952, 0.03734187906728827, 0.03734187906728827, 0.03734187906728827, 0.03734187906728827, 0.29873503253830613, 0.4854444278747475, 0.03734187906728827, 0.03734187906728827, 0.843538834838022, 0.04686326860211233, 0.04686326860211233, 0.2770028761259305, 0.46167146020988414, 0.03843690267135216, 0.01921845133567608, 0.01921845133567608, 0.6726457967486628, 0.23062141602811295, 0.01921845133567608, 0.01921845133567608, 0.06115457888222073, 0.06115457888222073, 0.06115457888222073, 0.672700367704428, 0.8394444126936903, 0.08968423212539427, 0.014349477140063082, 0.03228632356514193, 0.0035873692850157705, 0.0035873692850157705, 0.0035873692850157705, 0.007174738570031541, 0.007174738570031541, 0.7701991872440791, 0.07701991872440792, 0.10908073800669237, 0.6544844280401542, 0.10908073800669237, 0.024636299480010157, 0.8992249310203707, 0.021556762045008886, 0.009238612305003809, 0.015397687175006348, 0.0030795374350012696, 0.012318149740005079, 0.015397687175006348, 0.0030795374350012696, 0.2901679768080181, 0.029016797680801808, 0.4932855605736307, 0.029016797680801808, 0.058033595361603615, 0.058033595361603615, 0.029016797680801808, 0.6558411795872648, 0.18738319416778998, 0.046845798541947495, 0.046845798541947495, 0.054000813603477915, 0.5820087688374842, 0.24600370641584385, 0.006000090400386435, 0.06600099440425079, 0.018000271201159306, 0.018000271201159306, 0.018000271201159306, 0.1506984241358172, 0.0502328080452724, 0.4018624643621792, 0.0502328080452724, 0.251164040226362, 0.0502328080452724, 0.7764841881736799, 0.07764841881736799, 0.07806696766603109, 0.5464687736622177, 0.15613393533206218, 0.6510961277326697, 0.008647963430714582, 0.004323981715357291, 0.008647963430714582, 0.004323981715357291, 0.9555999590939613, 0.004323981715357291, 0.004323981715357291, 0.004323981715357291, 0.008647963430714582, 0.08580136070674477, 0.6006095249472134, 0.08580136070674477, 0.07097895071088893, 0.7807684578197782, 0.035489475355444465, 0.035489475355444465, 0.035489475355444465, 0.04760026574638015, 0.42840239171742134, 0.04760026574638015, 0.04760026574638015, 0.3808021259710412, 0.10967998185851993, 0.10967998185851993, 0.6580798911511196, 0.49039789718654936, 0.7500482967358345, 0.04054249838776553, 0.16216999355106212, 0.04054249838776553, 0.16216999355106212, 0.3648824854898898, 0.20271249193882765, 0.04054249838776553, 0.6556773559509127, 0.6367555601764645, 0.10612592669607741, 0.011130364903620607, 0.3283457646568079, 0.09460810168077517, 0.022260729807241215, 0.005565182451810304, 0.005565182451810304, 0.5119967855665479, 0.005565182451810304, 0.011130364903620607, 0.03081718643671793, 0.0924515593101538, 0.0462257796550769, 0.010272395478905978, 0.015408593218358965, 0.7498848699601364, 0.010272395478905978, 0.035953384176170916, 0.010272395478905978, 0.19964838595146464, 0.3194374175223434, 0.039929677190292924, 0.039929677190292924, 0.039929677190292924, 0.07985935438058585, 0.23957806314175756, 0.9058775468244492, 0.025882215623555693, 0.008627405207851897, 0.008627405207851897, 0.017254810415703793, 0.008627405207851897, 0.017254810415703793, 0.008627405207851897, 0.008627405207851897, 0.5205313139716495, 0.5692879740550288, 0.056402317948808, 0.225609271795232, 0.056402317948808, 0.479419702564868, 0.084603476923212, 0.028201158974404, 0.056402317948808, 0.18033710337881667, 0.060112367792938895, 0.6612360457223279, 0.9420878406869924, 0.04633846034045915, 0.5560615240855099, 0.13901538102137748, 0.04633846034045915, 0.0926769206809183, 0.04633846034045915, 0.0435484262002221, 0.0435484262002221, 0.8274200978042198, 0.0435484262002221, 0.5121707832875968, 0.12446986432135779, 0.062234932160678894, 0.062234932160678894, 0.31117466080339445, 0.37340959296407333, 0.8736831597862676, 0.010278625409250208, 0.010278625409250208, 0.005139312704625104, 0.061671752455501244, 0.005139312704625104, 0.005139312704625104, 0.010278625409250208, 0.020557250818500416, 0.23770161410917706, 0.11885080705458853, 0.11885080705458853, 0.35655242116376556, 0.04230587797488423, 0.7615058035479161, 0.1269176339246527, 0.48730973215143075, 0.3248731547676205, 0.06935700415124463, 0.06935700415124463, 0.06935700415124463, 0.6935700415124463, 0.4154619326700102, 0.4953584581834737, 0.0159793051026927, 0.0159793051026927, 0.0319586102053854, 0.6032009723101914, 0.12064019446203827, 0.07439191972815867, 0.07439191972815867, 0.14878383945631735, 0.14878383945631735, 0.07439191972815867, 0.07439191972815867, 0.2975676789126347, 0.9666064537602224, 0.009863331160818596, 0.7634575850728474, 0.12627953361490246, 0.12627953361490246, 0.5051181344596098, 0.10991166866845435, 0.5495583433422717, 0.10991166866845435, 0.501825037167008, 0.1197298475171806, 0.598649237585903, 0.5204840657102837, 0.7543318430500906, 0.6849821954286531, 0.644282894560147, 0.13900866348111904, 0.6950433174055952, 0.5171780540093688, 0.11491932010035916, 0.5745966005017957, 0.49533354035581756, 0.5386122504971621, 0.5579259755666471, 0.02374438227211219, 0.011872191136056094, 0.9260309086123754, 0.011872191136056094, 0.011872191136056094, 0.011872191136056094, 0.1431216257313353, 0.5724865029253412, 0.7072349707473574, 0.8083441279806172, 0.12930638068332953, 0.12930638068332953, 0.5172255227333181, 0.8099097848372796, 0.16258047955861823, 0.48774143867585473, 0.7661596184424122, 0.05893535526480094, 0.05893535526480094, 0.5942225445420218, 0.6648225606380312, 0.17238295396662687, 0.11492196931108459, 0.11492196931108459, 0.028730492327771147, 0.028730492327771147, 0.201113446294398, 0.3160354156054826, 0.028730492327771147, 0.017655603106762893, 0.8827801553381447, 0.017655603106762893, 0.035311206213525785, 0.017655603106762893, 0.017655603106762893, 0.017655603106762893, 0.017655603106762893, 0.023222239923725234, 0.023222239923725234, 0.8592228771778336, 0.023222239923725234, 0.023222239923725234, 0.023222239923725234, 0.023222239923725234, 0.7481922508685876, 0.04156623615936598, 0.08313247231873196, 0.04156623615936598, 0.04156623615936598, 0.379357176312424, 0.7353337833327737, 0.1696924115383324, 0.028282068589722063, 0.028282068589722063, 0.014141034294861032, 0.014141034294861032, 0.32584131453932713, 0.025064716503025167, 0.47622961355747817, 0.10025886601210067, 0.050129433006050335, 0.11315986074288405, 0.5092193733429782, 0.056579930371442023, 0.2263197214857681, 0.08178935900888136, 0.16357871801776272, 0.5725255130621696, 0.031444365449639806, 0.5345542126438767, 0.31444365449639805, 0.031444365449639806, 0.031444365449639806, 0.031444365449639806, 0.49533354035581756, 0.09613316202247399, 0.6729321341573179, 0.09613316202247399, 0.6261391169295707, 0.28188967870726755, 0.5637793574145351, 0.5652684423590763, 0.15234264619442336, 0.6093705847776935, 0.5742844314845629, 0.04417572549881253, 0.04417572549881253, 0.17670290199525013, 0.13252717649643758, 0.05581383838807188, 0.3348830303284313, 0.16744151516421565, 0.02790691919403594, 0.1395345959701797, 0.02790691919403594, 0.16744151516421565, 0.08372075758210783, 0.5571540218382525, 0.14566179117784733, 0.5826471647113893, 0.050625426005733595, 0.2868774140324904, 0.2362519880267568, 0.0337502840038224, 0.1350011360152896, 0.168751420019112, 0.084375710009556, 0.06513000755214784, 0.19539002265644353, 0.1302600151042957, 0.1302600151042957, 0.45591005286503494, 0.06513000755214784, 0.12048356886731387, 0.6024178443365694, 0.020208358193898754, 0.4445838802657726, 0.020208358193898754, 0.020208358193898754, 0.04041671638779751, 0.020208358193898754, 0.4445838802657726, 0.020208358193898754, 0.051484488029292175, 0.45048927025630653, 0.3603914162050452, 0.012871122007323044, 0.012871122007323044, 0.051484488029292175, 0.025742244014646087, 0.025742244014646087, 0.29926201617209963, 0.004466597256299994, 0.18759708476459977, 0.49132569819299937, 0.004466597256299994, 0.004466597256299994, 0.004466597256299994, 0.004466597256299994, 0.011937336790185138, 0.11937336790185137, 0.8117389017325893, 0.011937336790185138, 0.011937336790185138, 0.011937336790185138, 0.011937336790185138, 0.10265015548728118, 0.6159009329236871, 0.15397523323092177, 0.5862230202258076, 0.057829868707290163, 0.11565973741458033, 0.057829868707290163, 0.5204688183656114, 0.17348960612187048, 0.047180203769029094, 0.8492436678425238, 0.047180203769029094, 0.1783556547600622, 0.2675334821400933, 0.3567113095201244, 0.022294456845007776, 0.1114722842250389, 0.04458891369001555, 0.22801176927569855, 0.5700294231892463, 0.15209055497518464, 0.6083622199007386, 0.5207198499762811, 0.07410361256411115, 0.07410361256411115, 0.07410361256411115, 0.6669325130770003, 0.07410361256411115, 0.04975129206508329, 0.09950258413016658, 0.04975129206508329, 0.6467667968460827, 0.09950258413016658, 0.04975129206508329, 0.5170668589070471, 0.03290412857701647, 0.03290412857701647, 0.39484954292419766, 0.03290412857701647, 0.4606578000782306, 0.8313603388502278, 0.005228681376416526, 0.12025967165758011, 0.026143406882082634, 0.005228681376416526, 0.005228681376416526, 0.005228681376416526, 0.8601893802954474, 0.04527312527870776, 0.04527312527870776, 0.49546754443780316, 0.04080659432222813, 0.04080659432222813, 0.0918148372250133, 0.22443626877225473, 0.5610906719306368, 0.010201648580557032, 0.030604945741671098, 0.24401908402577033, 0.5856458016618488, 0.04880381680515406, 0.5476052309416183, 0.06635846369369824, 0.4645092458558877, 0.09290184917117755, 0.1327169273873965, 0.17253200560361545, 0.01327169273873965, 0.06635846369369824, 0.022232261069374627, 0.17785808855499702, 0.022232261069374627, 0.022232261069374627, 0.044464522138749255, 0.022232261069374627, 0.022232261069374627, 0.6892000931506135, 0.2548231871917946, 0.09100828113992664, 0.03640331245597066, 0.01820165622798533, 0.054604968683955986, 0.03640331245597066, 0.01820165622798533, 0.3822347807876919, 0.10920993736791197, 0.07284213866851401, 0.655579248016626, 0.07284213866851401, 0.07284213866851401, 0.681909010325926, 0.4868941915487169, 0.7320793302536709, 0.09150991628170886, 0.8037808870788865, 0.05023630544243041, 0.03544046785471527, 0.03544046785471527, 0.531607017820729, 0.3544046785471527, 0.7176126886555462, 0.6145490468448536, 0.10242484114080894, 0.10242484114080894, 0.0810111103887615, 0.7290999934988535, 0.5586521128356812, 0.10364301584155276, 0.6218580950493166, 0.6673670443981903, 0.07415189382202114, 0.07415189382202114, 0.07415189382202114, 0.6367249630533962, 0.1457701109286849, 0.5830804437147395, 0.14616939931851963, 0.14616939931851963, 0.4385081979555589, 0.14616939931851963, 0.013584024954633105, 0.02716804990926621, 0.2852645240472952, 0.013584024954633105, 0.43468879854825937, 0.013584024954633105, 0.17659232441023037, 0.02716804990926621, 0.4816364000281862, 0.0463829475702461, 0.5565953708429532, 0.0463829475702461, 0.2319147378512305, 0.0463829475702461, 0.08104779450832619, 0.32419117803330477, 0.16209558901665239, 0.32419117803330477, 0.6783194173191953, 0.2583489414723567, 0.1722326276482378, 0.3444652552964756, 0.23545917057349927, 0.11772958528674964, 0.47091834114699854, 0.015483229762439692, 0.13934906786195722, 0.015483229762439692, 0.7896447178844243, 0.015483229762439692, 0.5018238418281799, 0.5722577203816808, 0.49546754443780316, 0.6407542671586494, 0.09153632387980705, 0.09153632387980705, 0.8233067826063665, 0.14440590748018967, 0.433217722440569, 0.0841635176521977, 0.0841635176521977, 0.1683270353043954, 0.5049811059131862, 0.95007883224581, 0.010000829813113789, 0.010000829813113789, 0.06579247246007412, 0.13158494492014824, 0.19737741738022235, 0.526339779680593, 0.7419087247553394, 0.2372207652750683, 0.658946570208523, 0.05271572561668184, 0.1559333069469848, 0.4677999208409544, 0.4051350484439669, 0.04501500538266299, 0.04501500538266299, 0.04501500538266299, 0.3601200430613039, 0.033365603894229635, 0.033365603894229635, 0.033365603894229635, 0.8675057012499704, 0.033365603894229635, 0.6316057271129575, 0.13836217585362523, 0.5534487034145009, 0.8527551940163114, 0.7097114263989435, 0.030846884011025446, 0.06169376802205089, 0.09254065203307633, 0.030846884011025446, 0.7094783322535853, 0.06169376802205089, 0.5361657827258713, 0.21446631309034853, 0.9102859414560699, 0.020926113596691262, 0.010463056798345631, 0.010463056798345631, 0.020926113596691262, 0.010463056798345631, 0.010463056798345631, 0.6247199059666476, 0.4978850390226998, 0.03556321707304999, 0.3556321707304999, 0.07112643414609998, 0.07114159355746749, 0.7825575291321425, 0.08327607064784678, 0.7494846358306211, 0.10880170531648602, 0.21760341063297203, 0.43520682126594407, 0.5018078856347084, 0.5018889746017566, 0.04817455731298455, 0.36130917984738414, 0.15656731126719978, 0.27700370454966117, 0.12043639328246138, 0.036130917984738414, 0.5125131675126132, 0.5125406452998982, 0.039230358353107814, 0.5099946585904016, 0.2746125084717547, 0.09807589588276953, 0.019615179176553907, 0.039230358353107814, 0.019615179176553907, 0.6705669730911953, 0.058763455612757295, 0.11018147927391994, 0.014690863903189324, 0.7418886271110608, 0.03672715975797331, 0.022036295854783988, 0.014690863903189324, 0.007345431951594662, 0.007345431951594662, 0.3994337769370186, 0.3994337769370186, 0.014441092695930904, 0.20217529774303267, 0.3177040393104799, 0.3899095027901344, 0.014441092695930904, 0.014441092695930904, 0.014441092695930904, 0.06005550705132316, 0.06005550705132316, 0.7807215916672011, 0.01746967565702043, 0.8647489450225113, 0.008734837828510216, 0.008734837828510216, 0.07861354045659194, 0.008734837828510216, 0.008734837828510216, 0.008734837828510216, 0.07292765834966211, 0.19447375559909896, 0.21878297504898633, 0.21878297504898633, 0.2430921944988737, 0.04861843889977474, 0.2749380184548339, 0.3093052707616881, 0.1718362615342712, 0.0859181307671356, 0.06873450461370847, 0.01718362615342712, 0.051550878460281356, 0.01718362615342712, 0.01718362615342712, 0.03120853695334396, 0.0062417073906687924, 0.028087683258009564, 0.8020593997009398, 0.12483414781337585, 0.0031208536953343962, 0.0031208536953343962, 0.0031208536953343962, 0.0031208536953343962, 0.9620988132984335, 0.009432341306847386, 0.009432341306847386, 0.5263627961223954, 0.08772713268706592, 0.13159069903059886, 0.08772713268706592, 0.04386356634353296, 0.04386356634353296, 0.08772713268706592, 0.595280253223244, 0.5171780540093688, 0.11324133323627529, 0.5662066661813765, 0.14413956522545718, 0.21620934783818577, 0.5044884782891002, 0.15291950970981869, 0.458758529129456, 0.14152534264403174, 0.0943502284293545, 0.4717511421467725, 0.04717511421467725, 0.188700456858709, 0.6766631392195889, 0.15036958649324197, 0.07518479324662099, 0.42668729020174023, 0.604394256634672, 0.2761690024089578, 0.16570140144537468, 0.44187040385433246, 0.6523317131116879, 0.9361684418773337, 0.44830984705104887, 0.08354330483103535, 0.01058999638703265, 0.05059664940471155, 0.3565298783634326, 0.0094133301218068, 0.0094133301218068, 0.023533325304517, 0.00823666385658095, 0.22656880122590733, 0.6179149124342928, 0.061791491243429274, 0.020597163747809757, 0.020597163747809757, 0.020597163747809757, 0.041194327495619514, 0.025461997459407446, 0.598356940296075, 0.30554396951288937, 0.025461997459407446, 0.012730998729703723, 0.012730998729703723, 0.012730998729703723, 0.06624525811851512, 0.7949430974221814, 0.2048236395154173, 0.10241181975770865, 0.2048236395154173, 0.051205909878854323, 0.051205909878854323, 0.2048236395154173, 0.2048236395154173, 0.061109810509978484, 0.7944275366297202, 0.04620268812438431, 0.18481075249753723, 0.04620268812438431, 0.5544322574926117, 0.13860806437315293, 0.16653068468727425, 0.2497960270309114, 0.41632671171818564, 0.0647264806198697, 0.5825383255788272, 0.1294529612397394, 0.0647264806198697, 0.0647264806198697, 0.6056931816238308, 0.6997175495941468, 0.16661018900638122, 0.6664407560255249, 0.15740410823355527, 0.15740410823355527, 0.1967551352919441, 0.3935102705838882, 0.03935102705838882, 0.36790702724961427, 0.12263567574987141, 0.36790702724961427, 0.06131783787493571, 0.9459222915880616, 0.005698327057759407, 0.005698327057759407, 0.005698327057759407, 0.005698327057759407, 0.011396654115518814, 0.011396654115518814, 0.011396654115518814, 0.0330835931107361, 0.0330835931107361, 0.2977523379966249, 0.0330835931107361, 0.16541796555368052, 0.43008671043956936, 0.8509099823950185, 0.0567273321596679, 0.09518242698790587, 0.5710945619274352, 0.09518242698790587, 0.406590972400099, 0.023389543967053814, 0.5145699672751839, 0.18711635173643051, 0.04677908793410763, 0.023389543967053814, 0.023389543967053814, 0.04677908793410763, 0.07016863190116145, 0.07016863190116145, 0.29514982961134495, 0.2330130233773776, 0.10873941090944288, 0.13980781402642656, 0.015534201558491839, 0.18641041870190206, 0.031068403116983678, 0.015534201558491839, 0.044652498526686915, 0.13395749558006073, 0.5358299823202429, 0.044652498526686915, 0.08930499705337383, 0.13395749558006073, 0.044652498526686915, 0.7317389361031531, 0.066521721463923, 0.066521721463923, 0.04748112399901943, 0.18992449599607772, 0.14244337199705828, 0.14244337199705828, 0.4273301159911749, 0.09058621282319969, 0.7246897025855975, 0.09058621282319969, 0.5344721841667258, 0.12133963100001342, 0.1040053980000115, 0.04622462133333845, 0.11556155333334611, 0.06066981550000671, 0.008667116500000958, 0.002889038833333653, 0.005778077666667306, 0.13321863900501682, 0.13321863900501682, 0.5328745560200673, 0.6969340144072976, 0.031139826081618836, 0.3425380868978072, 0.031139826081618836, 0.031139826081618836, 0.5293770433875202, 0.09046121333709305, 0.6332284933596514, 0.09046121333709305, 0.6814604063598388, 0.5168573684194417, 0.02778388432397005, 0.0555677686479401, 0.8613004140430716, 0.06151324931536819, 0.06151324931536819, 0.06151324931536819, 0.12302649863073638, 0.12302649863073638, 0.06151324931536819, 0.5536192438383136, 0.050797712711612715, 0.8296959742896743, 0.016932570903870906, 0.06773028361548362, 0.016932570903870906, 0.08706370662762963, 0.6965096530210371, 0.009876068556324998, 0.18764530257017498, 0.05925641133794999, 0.009876068556324998, 0.009876068556324998, 0.009876068556324998, 0.009876068556324998, 0.6715726618300999, 0.029628205668974995, 0.10238584585395595, 0.4646742234910308, 0.1417650173362467, 0.023627502889374447, 0.10238584585395595, 0.14964085163270485, 0.00787583429645815, 0.00787583429645815, 0.6750288454378826, 0.4345077784870239, 0.4345077784870239, 0.9409419350759213, 0.017424850649554097, 0.1726641714689926, 0.3453283429379852, 0.7532995298881363, 0.02789998258844949, 0.11159993035379796, 0.02789998258844949, 0.02789998258844949, 0.12496592597480573, 0.4998637038992229, 0.2234360218688176, 0.19064317288807076, 0.2128756128750178, 0.12950396292396643, 0.10560408993799839, 0.03723933697813627, 0.05057880097030449, 0.025011494985315404, 0.025011494985315404, 0.41848840956224753, 0.5427450389563496, 0.2713725194781748, 0.012989745596507358, 0.9482514285450372, 0.09918841283433825, 0.6943188898403678, 0.04145704980305471, 0.7324078798539665, 0.013819016601018237, 0.013819016601018237, 0.06909508300509118, 0.027638033202036474, 0.05527606640407295, 0.027638033202036474, 0.013819016601018237, 0.5059923213266887, 0.056653606990337835, 0.1699608209710135, 0.11330721398067567, 0.5665360699033783, 0.09937800844918555, 0.6956460591442989, 0.8024044438463104, 0.06172341875740849, 0.03148871443745277, 0.09446614331235831, 0.09446614331235831, 0.37786457324943323, 0.3148871443745277, 0.03148871443745277, 0.03148871443745277, 0.6313765368327675], \"Term\": [\"abcnew\", \"absolutely\", \"absurdly\", \"accion\", \"action\", \"action\", \"action\", \"action\", \"action\", \"action\", \"action\", \"action\", \"action\", \"actionfigure\", \"actionfigure\", \"actionfigureet\", \"actually\", \"actually\", \"actually\", \"actually\", \"actually\", \"age\", \"alltoofamiliar\", \"also\", \"also\", \"also\", \"also\", \"also\", \"also\", \"also\", \"also\", \"always\", \"always\", \"angry\", \"angry\", \"angry\", \"angry\", \"angry\", \"angry\", \"apparel\", \"apparently\", \"apparently\", \"approach\", \"arguespeculate\", \"ask\", \"ask\", \"ask\", \"ask\", \"ask\", \"ask\", \"ask\", \"available\", \"available\", \"available\", \"available\", \"avenger\", \"awaken\", \"awaken\", \"awaken\", \"awaken\", \"awaken\", \"awaken\", \"awakenssetat\", \"awesome\", \"awesome\", \"back\", \"back\", \"back\", \"bajillion\", \"barne\", \"beast\", \"bias\", \"black\", \"black\", \"bother\", \"bother\", \"bother\", \"bother\", \"box\", \"box\", \"box\", \"box\", \"boy\", \"boy\", \"boy\", \"boy\", \"boy\", \"boy\", \"boy\", \"bro\", \"brother\", \"brother\", \"brother\", \"bs\", \"bs\", \"bug\", \"bum\", \"bunch\", \"buy\", \"buy\", \"buy\", \"buy\", \"buy\", \"buy\", \"buy\", \"buy\", \"buy\", \"care\", \"care\", \"care\", \"care\", \"case\", \"central\", \"central\", \"change\", \"change\", \"character\", \"character\", \"character\", \"character\", \"character\", \"character\", \"character\", \"character\", \"character\", \"charge\", \"check\", \"check\", \"check\", \"check\", \"child\", \"child\", \"chocolate\", \"clear\", \"click\", \"com\", \"com\", \"come\", \"come\", \"come\", \"come\", \"come\", \"come\", \"come\", \"come\", \"come\", \"company\", \"company\", \"company\", \"company\", \"company\", \"company\", \"company\", \"company\", \"complain\", \"complain\", \"complain\", \"conversation\", \"conversation\", \"conversation\", \"conversation\", \"conversation\", \"conversation\", \"conversation\", \"conversation\", \"conversation\", \"cool\", \"cool\", \"cool\", \"course\", \"course\", \"course\", \"crazy\", \"crazy\", \"cut\", \"cut\", \"d\", \"d\", \"daily\", \"dailydot\", \"damn\", \"damn\", \"damn\", \"damn\", \"daughter\", \"daughter\", \"daughter\", \"daughter\", \"daughter\", \"daughter\", \"daughter\", \"daughter\", \"day\", \"day\", \"day\", \"day\", \"day\", \"day\", \"deal\", \"dearth\", \"demand\", \"demand\", \"demand\", \"demand\", \"desolate\", \"disney\", \"disney\", \"disney\", \"disney\", \"disney\", \"disney\", \"disney\", \"disney\", \"disney\", \"disturb\", \"disturb\", \"doll\", \"doll\", \"doll\", \"doll\", \"doll\", \"doll\", \"doll\", \"doll\", \"dollar\", \"dramatic\", \"drown\", \"dude\", \"dude\", \"dude\", \"dude\", \"early\", \"early\", \"early\", \"embarrassingly\", \"empty\", \"enough\", \"enough\", \"enough\", \"enough\", \"enough\", \"enough\", \"epic\", \"epic\", \"episode\", \"equality\", \"erase\", \"erinkgilson\", \"es\", \"essential\", \"essential\", \"estrague\", \"even\", \"even\", \"even\", \"even\", \"even\", \"even\", \"even\", \"even\", \"everywhere\", \"everywhere\", \"everywhere\", \"everywhere\", \"exact\", \"exclude\", \"exclude\", \"exclude\", \"exclude\", \"exclude\", \"exclude\", \"exclusive\", \"exclusive\", \"exclusive\", \"exclusive\", \"excuse\", \"excuse\", \"excuse\", \"excuse\", \"expect\", \"explain\", \"explain\", \"explain\", \"face\", \"face\", \"face\", \"face\", \"fail\", \"fail\", \"fail\", \"fail\", \"fail\", \"fail\", \"fail\", \"fail\", \"falcon\", \"falcon\", \"falcon\", \"family\", \"family\", \"fan\", \"fan\", \"fan\", \"fan\", \"fan\", \"fan\", \"fan\", \"feel\", \"feel\", \"feel\", \"feel\", \"female\", \"female\", \"female\", \"female\", \"female\", \"female\", \"female\", \"female\", \"female\", \"feminism\", \"feminism\", \"ffs\", \"ffs\", \"ffs\", \"figure\", \"figure\", \"figure\", \"figure\", \"figure\", \"figure\", \"figure\", \"figure\", \"figure\", \"film\", \"film\", \"film\", \"film\", \"film\", \"film\", \"film\", \"finally\", \"finally\", \"finally\", \"finally\", \"find\", \"find\", \"find\", \"find\", \"find\", \"find\", \"find\", \"find\", \"first\", \"first\", \"first\", \"first\", \"first\", \"first\", \"fly\", \"fly\", \"focus\", \"focus\", \"focus\", \"follow\", \"force\", \"force\", \"force\", \"force\", \"force\", \"force\", \"force\", \"force\", \"force\", \"franchise\", \"franchise\", \"franchise\", \"fuck\", \"fuck\", \"fuck\", \"fuck\", \"fuck\", \"fucking\", \"fucking\", \"fucking\", \"fucking\", \"fucking\", \"full\", \"full\", \"full\", \"funko\", \"game\", \"gender\", \"gender\", \"gender\", \"gender\", \"gender\", \"gender\", \"gender\", \"gendere\", \"general\", \"general\", \"get\", \"get\", \"get\", \"get\", \"get\", \"get\", \"get\", \"get\", \"get\", \"girl\", \"girl\", \"girl\", \"girl\", \"girl\", \"girl\", \"girl\", \"girl\", \"girl\", \"give\", \"give\", \"give\", \"give\", \"give\", \"give\", \"give\", \"go\", \"go\", \"go\", \"go\", \"go\", \"go\", \"go\", \"go\", \"go\", \"goal\", \"god\", \"good\", \"good\", \"good\", \"good\", \"good\", \"good\", \"good\", \"great\", \"great\", \"great\", \"guardian\", \"guess\", \"guess\", \"guess\", \"guess\", \"guess\", \"guess\", \"guy\", \"guy\", \"guy\", \"guy\", \"hamley\", \"hard\", \"hard\", \"hard\", \"hard\", \"hard\", \"hasbro\", \"hasbro\", \"hasbro\", \"hasbro\", \"hasbro\", \"hasbro\", \"hasbro\", \"hasbro\", \"hasbro\", \"hasbronew\", \"hasbronew\", \"hasbronew\", \"hasbronew\", \"hashtag\", \"hashtag\", \"hashtag\", \"help\", \"help\", \"here\", \"here\", \"here\", \"here\", \"hero\", \"hero\", \"hero\", \"hero\", \"hero\", \"heroic\", \"heroic\", \"heroine\", \"heroine\", \"heroine\", \"heroine\", \"heroine\", \"heroine\", \"heroine\", \"highlight\", \"highlight\", \"history\", \"holiday\", \"holiday\", \"holiday\", \"home\", \"home\", \"home\", \"httpdlvritdhlfn\", \"httpdspymeqmkih\", \"httpdspymeqmkih\", \"httpmashablecom\", \"httpwpmepsnyvjl\", \"httpwwwgeek\", \"httpwwwheroic\", \"huge\", \"huge\", \"husk\", \"idea\", \"idea\", \"idiotic\", \"inbox\", \"incl\", \"include\", \"include\", \"include\", \"include\", \"include\", \"include\", \"insult\", \"insult\", \"isle\", \"item\", \"jakku\", \"jakku\", \"jakku\", \"jar\", \"job\", \"job\", \"keep\", \"keep\", \"keep\", \"kick\", \"kickass\", \"kid\", \"kid\", \"kid\", \"kid\", \"kid\", \"kid\", \"kid\", \"kid\", \"know\", \"know\", \"know\", \"know\", \"know\", \"know\", \"know\", \"know\", \"lack\", \"lack\", \"lack\", \"lack\", \"lack\", \"lack\", \"lack\", \"last\", \"last\", \"last\", \"last\", \"last\", \"latch\", \"lead\", \"lead\", \"lead\", \"lead\", \"lead\", \"lead\", \"leave\", \"leave\", \"leave\", \"leave\", \"leave\", \"leia\", \"leia\", \"leia\", \"leia\", \"less\", \"less\", \"less\", \"let\", \"let\", \"let\", \"let\", \"let\", \"let\", \"level\", \"like\", \"like\", \"like\", \"limit\", \"line\", \"line\", \"list\", \"listen\", \"listen\", \"literally\", \"literally\", \"literally\", \"literally\", \"literally\", \"little\", \"little\", \"little\", \"little\", \"little\", \"little\", \"little\", \"little\", \"live\", \"lol\", \"lol\", \"look\", \"look\", \"look\", \"look\", \"look\", \"look\", \"look\", \"lot\", \"lot\", \"lot\", \"lot\", \"lot\", \"lot\", \"loud\", \"loud\", \"love\", \"love\", \"love\", \"love\", \"love\", \"love\", \"love\", \"love\", \"m\", \"m\", \"m\", \"m\", \"m\", \"m\", \"m\", \"m\", \"main\", \"main\", \"main\", \"main\", \"main\", \"main\", \"main\", \"main\", \"make\", \"make\", \"make\", \"make\", \"make\", \"make\", \"make\", \"male\", \"male\", \"male\", \"mall\", \"many\", \"many\", \"many\", \"many\", \"many\", \"market\", \"market\", \"market\", \"marketing\", \"marketing\", \"marketing\", \"marketing\", \"marketing\", \"marketing\", \"massive\", \"massive\", \"massively\", \"massively\", \"mast\", \"matter\", \"matter\", \"matter\", \"matter\", \"matter\", \"maybe\", \"maybe\", \"maybe\", \"maybe\", \"maybe\", \"maybe\", \"mc\", \"mean\", \"mean\", \"mean\", \"mean\", \"mean\", \"merchandise\", \"merchandise\", \"merchandise\", \"merchandise\", \"merchandise\", \"merchandise\", \"merchandise\", \"millennium\", \"millennium\", \"millennium\", \"minimachomane\", \"miss\", \"miss\", \"miss\", \"miss\", \"miss\", \"miss\", \"miss\", \"mom\", \"mom\", \"mom\", \"movement\", \"movie\", \"movie\", \"movie\", \"movie\", \"movie\", \"movie\", \"movie\", \"need\", \"need\", \"need\", \"need\", \"need\", \"need\", \"need\", \"need\", \"new\", \"new\", \"new\", \"new\", \"new\", \"new\", \"new\", \"new\", \"new\", \"next\", \"next\", \"next\", \"next\", \"night\", \"noble\", \"note\", \"note\", \"notice\", \"notice\", \"old\", \"old\", \"old\", \"old\", \"omission\", \"omit\", \"omit\", \"omit\", \"open\", \"open\", \"opportunity\", \"other\", \"other\", \"outrage\", \"outrage\", \"outrage\", \"outrage\", \"package\", \"pathetic\", \"pathetic\", \"pay\", \"pay\", \"pay\", \"pay\", \"people\", \"people\", \"people\", \"people\", \"people\", \"people\", \"people\", \"people\", \"picturehouse\", \"pilot\", \"pilot\", \"pilot\", \"pilot\", \"pilot\", \"piss\", \"piss\", \"piss\", \"piss\", \"pissed\", \"place\", \"place\", \"place\", \"plastic\", \"plastic\", \"plastic\", \"play\", \"play\", \"play\", \"play\", \"play\", \"playset\", \"por\", \"porque\", \"post\", \"post\", \"post\", \"power\", \"presence\", \"presence\", \"pretty\", \"pretty\", \"pretty\", \"pretty\", \"problem\", \"problem\", \"problem\", \"product\", \"product\", \"product\", \"product\", \"profeminist\", \"protagonist\", \"protagonist\", \"protagonist\", \"pull\", \"pull\", \"put\", \"put\", \"put\", \"put\", \"put\", \"question\", \"question\", \"question\", \"question\", \"question\", \"quit\", \"raise\", \"raise\", \"random\", \"rant\", \"re\", \"re\", \"re\", \"re\", \"re\", \"re\", \"realize\", \"realize\", \"really\", \"really\", \"really\", \"really\", \"really\", \"really\", \"really\", \"reiterate\", \"release\", \"release\", \"release\", \"release\", \"repeat\", \"repeat\", \"represent\", \"represent\", \"representation\", \"representation\", \"representation\", \"reveal\", \"review\", \"rey\", \"rey\", \"rey\", \"rey\", \"rey\", \"rey\", \"reymond\", \"reythat\", \"right\", \"right\", \"right\", \"right\", \"right\", \"right\", \"right\", \"rte\", \"s\", \"s\", \"s\", \"s\", \"s\", \"s\", \"s\", \"s\", \"s\", \"sake\", \"sake\", \"say\", \"say\", \"say\", \"say\", \"say\", \"say\", \"say\", \"second\", \"second\", \"second\", \"see\", \"see\", \"see\", \"see\", \"see\", \"see\", \"see\", \"see\", \"sell\", \"sell\", \"sell\", \"sell\", \"sell\", \"sell\", \"seriously\", \"seriously\", \"seriously\", \"seriously\", \"seriously\", \"seriously\", \"seriously\", \"seriously\", \"seriously\", \"set\", \"set\", \"set\", \"set\", \"set\", \"set\", \"set\", \"set\", \"set\", \"sexism\", \"sexism\", \"sexism\", \"sexist\", \"sexist\", \"sexist\", \"sexist\", \"sexist\", \"sexist\", \"sexist\", \"shameful\", \"shelving\", \"ship\", \"ship\", \"shit\", \"shit\", \"shit\", \"shopping\", \"shopping\", \"show\", \"show\", \"show\", \"show\", \"show\", \"single\", \"single\", \"single\", \"skywalker\", \"small\", \"son\", \"son\", \"son\", \"speeder\", \"start\", \"starwar\", \"starwar\", \"starwar\", \"starwar\", \"starwar\", \"starwar\", \"starwar\", \"starwar\", \"starwar\", \"still\", \"still\", \"still\", \"still\", \"still\", \"still\", \"still\", \"store\", \"store\", \"store\", \"store\", \"store\", \"store\", \"store\", \"stormtrooper\", \"stormtrooper\", \"story\", \"story\", \"story\", \"story\", \"story\", \"story\", \"story\", \"strong\", \"strong\", \"stuff\", \"stuff\", \"stuff\", \"stuff\", \"stuff\", \"stupid\", \"stupid\", \"stupid\", \"support\", \"support\", \"support\", \"support\", \"support\", \"suppose\", \"sure\", \"surprised\", \"surprised\", \"take\", \"take\", \"take\", \"take\", \"take\", \"talk\", \"talk\", \"talk\", \"talk\", \"target\", \"target\", \"target\", \"target\", \"target\", \"target\", \"target\", \"target\", \"tell\", \"tell\", \"tell\", \"tell\", \"tell\", \"tell\", \"thedailybeast\", \"thedailybeast\", \"themarysue\", \"themarysue\", \"themarysue\", \"therefore\", \"thing\", \"thing\", \"thing\", \"thing\", \"thing\", \"thing\", \"thing\", \"thing\", \"thing\", \"think\", \"think\", \"think\", \"think\", \"think\", \"think\", \"think\", \"think\", \"time\", \"time\", \"time\", \"time\", \"time\", \"time\", \"time\", \"tired\", \"tired\", \"tired\", \"today\", \"today\", \"today\", \"today\", \"today\", \"total\", \"total\", \"total\", \"toy\", \"toy\", \"toy\", \"toy\", \"toy\", \"toy\", \"toy\", \"toy\", \"toy\", \"toyrus\", \"toyrus\", \"toyrus\", \"trend\", \"try\", \"try\", \"try\", \"try\", \"try\", \"twitter\", \"twitter\", \"twitter\", \"understand\", \"upgrade\", \"upset\", \"upset\", \"upset\", \"use\", \"use\", \"use\", \"use\", \"use\", \"use\", \"use\", \"ve\", \"ve\", \"ve\", \"ve\", \"ve\", \"version\", \"version\", \"view\", \"view\", \"view\", \"view\", \"view\", \"view\", \"view\", \"view\", \"view\", \"want\", \"want\", \"want\", \"want\", \"want\", \"want\", \"want\", \"want\", \"wash\", \"watch\", \"watch\", \"way\", \"way\", \"wear\", \"wear\", \"well\", \"well\", \"well\", \"well\", \"well\", \"wewantleia\", \"wewantleia\", \"whereisrey\", \"whereisrey\", \"whereisrey\", \"whereisrey\", \"whereisrey\", \"whereisrey\", \"whereisrey\", \"whereisrey\", \"whereisrey\", \"wheresphasma\", \"wheresreyfigure\", \"wheresreyfigure\", \"widow\", \"widow\", \"wish\", \"wish\", \"woman\", \"woman\", \"woman\", \"woman\", \"woman\", \"woman\", \"woman\", \"woman\", \"woman\", \"womennmedia\", \"world\", \"world\", \"world\", \"world\", \"worth\", \"worth\", \"wrong\", \"wrong\", \"year\", \"year\", \"year\", \"year\", \"year\", \"year\", \"year\", \"young\"]}, \"R\": 30, \"lambda.step\": 0.01, \"plot.opts\": {\"xlab\": \"PC1\", \"ylab\": \"PC2\"}, \"topic.order\": [7, 1, 5, 6, 4, 3, 9, 8, 2]};\n",
       "\n",
       "function LDAvis_load_lib(url, callback){\n",
       "  var s = document.createElement('script');\n",
       "  s.src = url;\n",
       "  s.async = true;\n",
       "  s.onreadystatechange = s.onload = callback;\n",
       "  s.onerror = function(){console.warn(\"failed to load library \" + url);};\n",
       "  document.getElementsByTagName(\"head\")[0].appendChild(s);\n",
       "}\n",
       "\n",
       "if(typeof(LDAvis) !== \"undefined\"){\n",
       "   // already loaded: just create the visualization\n",
       "   !function(LDAvis){\n",
       "       new LDAvis(\"#\" + \"ldavis_el147215894294850081221772700\", ldavis_el147215894294850081221772700_data);\n",
       "   }(LDAvis);\n",
       "}else if(typeof define === \"function\" && define.amd){\n",
       "   // require.js is available: use it to load d3/LDAvis\n",
       "   require.config({paths: {d3: \"https://d3js.org/d3.v5\"}});\n",
       "   require([\"d3\"], function(d3){\n",
       "      window.d3 = d3;\n",
       "      LDAvis_load_lib(\"https://cdn.jsdelivr.net/gh/bmabey/pyLDAvis@3.4.0/pyLDAvis/js/ldavis.v3.0.0.js\", function(){\n",
       "        new LDAvis(\"#\" + \"ldavis_el147215894294850081221772700\", ldavis_el147215894294850081221772700_data);\n",
       "      });\n",
       "    });\n",
       "}else{\n",
       "    // require.js not available: dynamically load d3 & LDAvis\n",
       "    LDAvis_load_lib(\"https://d3js.org/d3.v5.js\", function(){\n",
       "         LDAvis_load_lib(\"https://cdn.jsdelivr.net/gh/bmabey/pyLDAvis@3.4.0/pyLDAvis/js/ldavis.v3.0.0.js\", function(){\n",
       "                 new LDAvis(\"#\" + \"ldavis_el147215894294850081221772700\", ldavis_el147215894294850081221772700_data);\n",
       "            })\n",
       "         });\n",
       "}\n",
       "</script>"
      ],
      "text/plain": [
       "PreparedData(topic_coordinates=              x         y  topics  cluster       Freq\n",
       "topic                                                \n",
       "6      0.189564 -0.012332       1        1  18.806840\n",
       "0     -0.011722  0.153691       2        1  17.291061\n",
       "4      0.019780  0.076211       3        1  13.164251\n",
       "5      0.070932 -0.027118       4        1  12.207737\n",
       "3      0.048404 -0.083361       5        1  11.716965\n",
       "2     -0.088327 -0.023988       6        1   7.891498\n",
       "8     -0.069678 -0.012302       7        1   6.850909\n",
       "7     -0.081613 -0.032461       8        1   6.344930\n",
       "1     -0.077339 -0.038339       9        1   5.725809, topic_info=         Term        Freq       Total Category  logprob  loglift\n",
       "4         set  320.000000  320.000000  Default  30.0000  30.0000\n",
       "5     starwar  849.000000  849.000000  Default  29.0000  29.0000\n",
       "26      force  231.000000  231.000000  Default  28.0000  28.0000\n",
       "189    figure  324.000000  324.000000  Default  27.0000  27.0000\n",
       "188    action  260.000000  260.000000  Default  26.0000  26.0000\n",
       "...       ...         ...         ...      ...      ...      ...\n",
       "1468  brother    3.270813    9.569688   Topic9  -6.0665   1.7866\n",
       "5     starwar    6.726836  849.858647   Topic9  -5.3455  -1.9788\n",
       "25     disney    4.634171  104.967212   Topic9  -5.7181  -0.2600\n",
       "62      story    3.636228   19.528996   Topic9  -5.9606   1.1792\n",
       "39     hasbro    3.839484  194.578547   Topic9  -5.9062  -1.0653\n",
       "\n",
       "[474 rows x 6 columns], token_table=      Topic      Freq        Term\n",
       "term                             \n",
       "1346      4  0.509456      abcnew\n",
       "325       7  0.710686  absolutely\n",
       "2416      6  0.495334    absurdly\n",
       "1997      6  0.606142      accion\n",
       "188       1  0.007690      action\n",
       "...     ...       ...         ...\n",
       "528       5  0.377865        year\n",
       "528       7  0.314887        year\n",
       "528       8  0.031489        year\n",
       "528       9  0.031489        year\n",
       "751       2  0.631377       young\n",
       "\n",
       "[1222 rows x 3 columns], R=30, lambda_step=0.01, plot_opts={'xlab': 'PC1', 'ylab': 'PC2'}, topic_order=[7, 1, 5, 6, 4, 3, 9, 8, 2])"
      ]
     },
     "execution_count": 36,
     "metadata": {},
     "output_type": "execute_result"
    }
   ],
   "source": [
    "# Visualize the topics\n",
    "pyLDAvis.enable_notebook()\n",
    "LDAvis_prepared = pyLDAvis.gensim.prepare(lda_model, corpus, id2word)\n",
    "LDAvis_prepared"
   ]
  },
  {
   "cell_type": "markdown",
   "id": "68589a07",
   "metadata": {},
   "source": [
    "Now we do number of topics = 7"
   ]
  },
  {
   "cell_type": "code",
   "execution_count": 37,
   "id": "2f6af716",
   "metadata": {},
   "outputs": [],
   "source": [
    "lda_model = gensim.models.LdaMulticore(corpus=corpus,\n",
    "                                           id2word=id2word,\n",
    "                                           num_topics=7, \n",
    "                                           random_state=100,\n",
    "                                           chunksize=100,\n",
    "                                           passes=10,\n",
    "                                           alpha='symmetric',\n",
    "                                           eta=0.51)"
   ]
  },
  {
   "cell_type": "code",
   "execution_count": 38,
   "id": "64e12011",
   "metadata": {},
   "outputs": [
    {
     "data": {
      "text/html": [
       "\n",
       "<link rel=\"stylesheet\" type=\"text/css\" href=\"https://cdn.jsdelivr.net/gh/bmabey/pyLDAvis@3.4.0/pyLDAvis/js/ldavis.v1.0.0.css\">\n",
       "\n",
       "\n",
       "<div id=\"ldavis_el147215893617740328492386863\" style=\"background-color:white;\"></div>\n",
       "<script type=\"text/javascript\">\n",
       "\n",
       "var ldavis_el147215893617740328492386863_data = {\"mdsDat\": {\"x\": [-0.14244506510022475, -0.00792843787104304, -0.031909172935785296, -0.005835041524798745, -0.04123624534930672, 0.10736489449219522, 0.12198906828896344], \"y\": [0.017133236751942532, 0.1145511160166117, -0.02606760113525867, 0.03333983264347844, -0.12243877758815304, 0.02204729532690231, -0.03856510201552354], \"topics\": [1, 2, 3, 4, 5, 6, 7], \"cluster\": [1, 1, 1, 1, 1, 1, 1], \"Freq\": [25.442228757742054, 22.80389984037508, 15.20752176628889, 14.449566425798038, 12.093373672565608, 6.12109783846423, 3.882311698766097]}, \"tinfo\": {\"Term\": [\"force\", \"set\", \"awaken\", \"starwar\", \"action\", \"character\", \"main\", \"girl\", \"target\", \"black\", \"figure\", \"widow\", \"female\", \"boy\", \"highlight\", \"sexism\", \"avenger\", \"merchandise\", \"play\", \"dearth\", \"guardian\", \"conversation\", \"include\", \"hasbro\", \"miss\", \"problem\", \"view\", \"go\", \"way\", \"people\", \"highlight\", \"dearth\", \"way\", \"start\", \"sexism\", \"target\", \"problem\", \"profeminist\", \"studio\", \"go\", \"really\", \"merchandise\", \"wheresreyfigure\", \"lead\", \"thedailybeast\", \"beast\", \"change\", \"reiterate\", \"princess\", \"exclusion\", \"female\", \"httpwwwgeek\", \"hasbro\", \"awakenssetat\", \"daily\", \"crazy\", \"suppose\", \"bit\", \"well\", \"estrague\", \"toy\", \"starwar\", \"character\", \"whereisrey\", \"pack\", \"release\", \"disney\", \"sexist\", \"main\", \"protagonist\", \"come\", \"find\", \"seriously\", \"think\", \"set\", \"leave\", \"see\", \"s\", \"figure\", \"movie\", \"want\", \"get\", \"item\", \"action\", \"night\", \"help\", \"tired\", \"market\", \"view\", \"wheresleia\", \"conversation\", \"total\", \"barbie\", \"game\", \"back\", \"post\", \"love\", \"pic\", \"research\", \"superhero\", \"single\", \"figure\", \"niece\", \"grow\", \"leia\", \"teach\", \"vote\", \"httpwpmepsnyvjl\", \"hear\", \"legit\", \"xwe\", \"cough\", \"ve\", \"woman\", \"know\", \"thing\", \"last\", \"see\", \"want\", \"let\", \"find\", \"boy\", \"get\", \"need\", \"m\", \"whereisrey\", \"play\", \"right\", \"store\", \"say\", \"daughter\", \"girl\", \"still\", \"buy\", \"starwar\", \"hero\", \"female\", \"toy\", \"rey\", \"s\", \"movie\", \"awaken\", \"force\", \"actionfigure\", \"actionfigureet\", \"world\", \"watch\", \"upset\", \"people\", \"dailydot\", \"idea\", \"huge\", \"miss\", \"stupid\", \"age\", \"wash\", \"apparently\", \"float\", \"line\", \"hashtag\", \"rant\", \"mad\", \"min\", \"course\", \"wonder\", \"dad\", \"immediately\", \"bro\", \"plot\", \"shameful\", \"hair\", \"awakensrey\", \"twitter\", \"like\", \"starwar\", \"fan\", \"ship\", \"wait\", \"angry\", \"exclude\", \"daughter\", \"whereisrey\", \"old\", \"set\", \"toy\", \"good\", \"movie\", \"hasbro\", \"girl\", \"ask\", \"disney\", \"make\", \"see\", \"want\", \"find\", \"also\", \"new\", \"buy\", \"s\", \"random\", \"keep\", \"stormtrooper\", \"fuck\", \"disturb\", \"millennium\", \"include\", \"demand\", \"nephew\", \"case\", \"fucking\", \"alone\", \"however\", \"follow\", \"bother\", \"fight\", \"loud\", \"save\", \"ffs\", \"scale\", \"httpdspymeqmkih\", \"protag\", \"mistake\", \"several\", \"rather\", \"mind\", \"ploy\", \"drown\", \"datum\", \"pretend\", \"falcon\", \"wrong\", \"make\", \"lack\", \"time\", \"even\", \"mean\", \"sell\", \"film\", \"store\", \"whereisrey\", \"character\", \"buy\", \"main\", \"get\", \"m\", \"disney\", \"protagonist\", \"figure\", \"toy\", \"find\", \"merchandise\", \"action\", \"set\", \"conversation\", \"girl\", \"hasbro\", \"starwar\", \"view\", \"black\", \"widow\", \"guardian\", \"avenger\", \"omission\", \"guy\", \"notice\", \"second\", \"franchise\", \"option\", \"mention\", \"slave\", \"abcnew\", \"glass\", \"movement\", \"whereswidow\", \"sure\", \"dollar\", \"mom\", \"set\", \"annoying\", \"question\", \"business\", \"brilliant\", \"robot\", \"alltoofamiliar\", \"fabric\", \"httpnerdistwxzn\", \"reaction\", \"excited\", \"actually\", \"main\", \"seem\", \"hero\", \"d\", \"ask\", \"character\", \"s\", \"fan\", \"check\", \"focus\", \"rey\", \"leave\", \"whereisrey\", \"box\", \"finally\", \"bad\", \"feel\", \"miss\", \"starwar\", \"say\", \"maybe\", \"get\", \"daughter\", \"toy\", \"female\", \"merchandise\", \"girl\", \"figure\", \"jar\", \"power\", \"heroic\", \"dramatic\", \"httpwwwheroic\", \"wish\", \"equal\", \"central\", \"cut\", \"rte\", \"sand\", \"bink\", \"chocolate\", \"development\", \"social\", \"lesson\", \"insult\", \"com\", \"essential\", \"cover\", \"version\", \"encontre\", \"sort\", \"engage\", \"wout\", \"monopoly\", \"full\", \"il\", \"desolate\", \"empty\", \"fashion\", \"play\", \"boy\", \"identity\", \"girl\", \"son\", \"come\", \"agree\", \"marketing\", \"look\", \"whereisrey\", \"tell\", \"toy\", \"target\", \"think\", \"starwar\", \"get\", \"conversation\", \"need\", \"exclude\", \"mean\", \"want\", \"seriously\", \"s\", \"strong\", \"true\", \"geek\", \"family\", \"episode\", \"latch\", \"therefore\", \"inbox\", \"pissed\", \"turn\", \"approach\", \"dope\", \"beat\", \"aware\", \"certain\", \"worth\", \"side\", \"recognize\", \"relative\", \"arguespeculate\", \"goal\", \"es\", \"minimachomane\", \"porque\", \"bottom\", \"flip\", \"yawn\", \"click\", \"mast\", \"embarrassingly\", \"member\", \"stuff\", \"totally\", \"child\", \"tell\", \"hard\", \"apparel\", \"vader\", \"shit\", \"swtfa\", \"holiday\", \"watch\", \"whereisrey\", \"try\", \"get\", \"bad\", \"ask\", \"woman\", \"use\", \"star\", \"people\", \"force\", \"even\", \"miss\", \"new\", \"figure\"], \"Freq\": [249.0, 331.0, 165.0, 919.0, 298.0, 373.0, 234.0, 202.0, 196.0, 88.0, 371.0, 83.0, 310.0, 87.0, 108.0, 119.0, 60.0, 204.0, 69.0, 94.0, 55.0, 161.0, 84.0, 223.0, 100.0, 112.0, 125.0, 130.0, 69.0, 73.0, 105.67942690436477, 91.89716506831843, 66.93544275948356, 61.85652267923597, 112.20064753015924, 179.52600156909904, 99.80024555575893, 9.97338109956157, 12.705516246656206, 103.17856229130126, 86.00517304945744, 158.26982545360423, 13.010560483357171, 55.38758943148975, 15.182516244378789, 7.13779176524922, 8.792901910271048, 6.351882678891532, 13.553439628289489, 6.372368808244323, 230.7953778087379, 5.6095977183452055, 162.01509347917965, 5.389352677455655, 5.168459807683042, 5.27679350332909, 5.478984326556941, 6.072119818444675, 26.825651485774927, 4.782971346474087, 186.7758370905628, 393.65617395883004, 168.75351770598363, 700.3513471234658, 12.98415562007613, 18.284933747587658, 57.768669900445374, 15.033979586825795, 74.52043342904415, 18.89090179584146, 25.0916265906295, 42.397523102392704, 23.339068536761868, 23.496912627749673, 45.219328564051246, 19.129162753698612, 28.33892722994274, 28.34421491433963, 38.18589707101159, 21.286022934485622, 23.055212973574044, 22.562229784304087, 14.630715324159526, 243.55049193342023, 9.358447861770147, 9.584386675173338, 14.263919893619192, 18.409590741794787, 97.61554828939126, 7.199538951898024, 124.5056287066753, 8.202217837477964, 8.131749314987642, 6.381451121542643, 9.076628698141006, 7.232098496933081, 40.93640964610153, 5.852728286637596, 5.297611060538578, 5.175413703093777, 9.97525030135271, 264.371735756348, 7.521606693177944, 4.7652983974967595, 14.351159910076744, 4.7646879959365265, 4.814763809847334, 4.362315014575112, 8.067527355009267, 4.772251155707744, 4.1820938721808005, 4.12184622466423, 45.23136895728379, 49.6178329222839, 39.338960972864086, 28.592189908658437, 15.30935892877584, 73.03932069554246, 78.26681142730344, 22.980350859926613, 83.51395532381466, 45.84892924947301, 93.2617838007962, 28.777895837648604, 40.40355883578165, 466.02383564689853, 32.99920939957978, 27.124995108798977, 38.03231061079206, 31.440515176981723, 30.918199760275627, 62.98855518799094, 26.113741176554985, 34.73078556038141, 117.27864162805645, 27.097937351367346, 49.00556125121859, 47.281151668992365, 28.27752218286556, 29.722385505397686, 27.267774801446183, 159.3500864991042, 228.49808157599168, 17.107551290744453, 9.83862545197604, 14.381055128359934, 13.467009197531151, 24.255716070393266, 50.79461651075057, 4.7104936936455735, 6.550437785751083, 7.987230308672479, 68.03282141763972, 8.254199401158198, 6.2628934305186466, 3.834242772736387, 15.457902215181955, 3.608181971968759, 10.34702247279012, 14.598351252678393, 4.604431929454952, 11.219697229538028, 3.3546288368767643, 8.846326892069095, 14.181593165956855, 3.1698384793131362, 3.3024153575031114, 4.465056589204687, 3.1272644215791825, 4.004315738698347, 3.178757522560635, 3.361110498148958, 6.70247425591511, 6.159133650306491, 317.1984369678241, 25.32516401644116, 5.085438436982549, 9.641642951763062, 9.36048694002078, 19.660464168730442, 22.862364719269316, 255.74977637646865, 12.174468087003836, 60.96143362513251, 59.20332661149008, 13.900810425342735, 20.5289544514762, 28.721010314697075, 24.751880612600807, 16.890420870898776, 18.93391633736987, 17.12281703333171, 19.031549412733106, 17.73427700344346, 17.73132223105511, 13.562218626947748, 13.971676995578832, 15.114538127970844, 15.40661406446947, 16.485859712155044, 14.643358072890527, 10.984842949306422, 24.703979452197803, 12.536098354694065, 16.168218962047735, 66.98999152682345, 14.00324547793701, 7.551590255006673, 6.125444044463326, 14.285611778499637, 5.407814338472008, 5.015211239776303, 6.550940434773656, 9.810400503635112, 4.614286311077956, 4.583919193101674, 4.4005389576927, 6.10719899670797, 4.131857168025132, 5.720749536010732, 4.232564776801438, 4.349367471875111, 6.336081018071144, 5.542843022093663, 4.9640095078252715, 3.644803266869769, 3.6449167934528273, 3.5585180917783994, 4.6995808217164345, 10.215960548700876, 9.348710264189569, 47.94157995007598, 22.40364250534458, 13.3134679032097, 30.33879102215586, 15.044882537959987, 20.20087875631571, 16.594868434404237, 29.428788449519455, 282.70369162354206, 70.29528236013162, 27.074765858797562, 47.49496471500266, 42.35320158124991, 24.84993983424065, 29.326140530566285, 14.95550479930677, 45.36066163886383, 40.580105288632275, 25.63049227038787, 25.10995217053629, 27.274665455033286, 26.06621392545474, 20.521575608892498, 20.597659964732433, 20.145527503454723, 20.32514644572135, 16.606519410738528, 85.22777278954347, 79.90664597094803, 53.26721720544705, 57.455803598124724, 8.626185176294488, 15.981183551412764, 13.661048342856475, 12.105673645985359, 6.839254415594438, 3.8067939094702035, 3.633305620768651, 3.5133667134271804, 3.2675428589953563, 3.2579803703900514, 4.519097013853105, 3.239016987308035, 5.525720589977001, 3.105088397713742, 11.199989183426705, 196.09112665043693, 3.094639222012275, 17.226064492942964, 2.9563677035199247, 2.7862638755373954, 2.714491115109068, 3.1668475236970672, 2.93855385806942, 2.511707475382539, 2.4186757242943324, 4.411850527745003, 19.921012081242257, 109.21065511223948, 8.920752547219083, 31.059781363728472, 5.291772516922675, 33.899779448245134, 116.32048606572728, 46.95697896756906, 20.496670011474222, 5.765244354004808, 5.5929146189161925, 24.705284366578933, 15.117051666624508, 216.6554872633657, 6.634279545613452, 7.220511141444235, 7.91094598288413, 7.143676254215057, 17.40977690457891, 53.37533130638292, 12.661690607454473, 7.769227238571308, 17.13819751213643, 11.388134683774945, 19.533238881434276, 17.07733131508256, 12.652290406514792, 12.356215286081353, 9.64903023684207, 12.088462418260313, 10.987837167318572, 5.065137036000365, 4.582020049109423, 4.519445095776294, 5.111774258453361, 4.184877013993904, 4.382176728569885, 3.9679912526698278, 2.933906782879776, 2.8484818512157255, 2.705540568721699, 2.5222405159498362, 2.4868078321316474, 2.4868078321316474, 3.8945728011012175, 3.3471214690624413, 4.449117866139106, 3.1967854403049145, 5.34303213064688, 4.664550338933079, 2.0839030696516714, 2.0763319278600605, 2.1761337093778903, 2.1761337093778903, 4.994910202623953, 3.0167742426631334, 1.636655630727641, 1.616986212958797, 1.616986212958797, 1.9336490077713857, 27.896829557061395, 32.22390839647477, 2.8645963286598457, 63.69830183845023, 5.5236390361716525, 13.469583588660052, 3.2923465329126205, 8.01467562199361, 10.123103813180467, 49.88471432363842, 6.236018256296297, 16.17400329982701, 11.727589814083053, 6.678873183293471, 16.068667262192914, 8.666476229816697, 7.954684292713999, 5.597181052368909, 5.392848334000508, 4.768347786319001, 5.574298427701442, 5.020293255842128, 4.513565595875159, 8.234054463715793, 3.8751641625175877, 3.5428091122235026, 3.677839629756847, 3.2931788558928226, 2.2398700626107626, 2.173170797088363, 2.0986682761156823, 3.5884377178137012, 4.7115294072957, 1.932338573238091, 1.8102078735983176, 1.9035626215738846, 1.864238649189165, 1.6984505298222679, 3.2169007425263962, 1.4768434630387721, 1.539481353181797, 2.2463724044113067, 1.2827766692003246, 1.2827766692003246, 1.2827351459424645, 1.2827351459424645, 1.2827351459424645, 1.2827191155158377, 1.2773062861138882, 1.2773062861138882, 1.2767860765053634, 1.2767860765053634, 1.2751549805960742, 1.7549660215402878, 6.706740872278271, 3.0869785876114966, 4.346891526867956, 8.757346367049418, 3.95727824175547, 1.6938257517404016, 1.554707920706821, 3.5708754948646537, 3.404753074309141, 1.881176798723834, 2.9043120988425604, 23.37243148723107, 3.6555878390849825, 6.458383253705916, 2.648263215161499, 3.6968897879996128, 3.3503578291573457, 2.2440183807901066, 2.1737456659987897, 2.6995260704214314, 3.10738398483868, 2.4627417519392707, 2.4617469749091447, 2.344803231507251, 2.455188971905035], \"Total\": [249.0, 331.0, 165.0, 919.0, 298.0, 373.0, 234.0, 202.0, 196.0, 88.0, 371.0, 83.0, 310.0, 87.0, 108.0, 119.0, 60.0, 204.0, 69.0, 94.0, 55.0, 161.0, 84.0, 223.0, 100.0, 112.0, 125.0, 130.0, 69.0, 73.0, 108.12165080997143, 94.30819688295595, 69.46674975631228, 64.24390305767714, 119.53274162919678, 196.34145570351714, 112.07710894491149, 12.017625573770044, 15.914337639890318, 130.42459060416925, 109.36486049812494, 204.23573064484785, 16.983795499470887, 72.34649122013619, 19.861922910514906, 9.370732752430843, 11.563045272932815, 8.407795083095026, 18.12575184256649, 8.565021946414978, 310.5572449295738, 7.708366736178693, 223.31346579004816, 7.4797365942931915, 7.219792057481346, 7.455593234247525, 7.774707641088409, 8.648639278834064, 38.341219532177654, 6.83639190625373, 370.11169440370867, 919.445488885208, 373.3705530844931, 1994.7412838446103, 20.644296942556664, 30.60248732549785, 117.16805425912862, 24.51025231736666, 234.12909896081243, 39.71771513825543, 64.1411773759131, 172.51403578949018, 59.621215109927284, 67.4075507855884, 331.30206937173375, 45.6820989377925, 132.30743275646682, 136.5630555052633, 371.49428791380274, 79.57416069769657, 143.01320664572626, 197.76008410011144, 16.74287198811726, 298.0182297478625, 11.482812282050109, 11.950870488686277, 18.12839127091273, 23.488140474051352, 125.838763989249, 9.322046835548162, 161.38610171393807, 10.806731586894893, 10.725392599149883, 8.493577380829544, 12.222868767095498, 9.842395373237917, 55.98330978547243, 8.018098106258009, 7.34258184570061, 7.229662899558279, 13.948048086805256, 371.49428791380274, 10.661099611137123, 6.794649479768997, 20.485339765132025, 6.801907823542475, 7.01060211796645, 6.385218936200006, 11.887007617561652, 7.0398486441279, 6.204987755710803, 6.144769884511911, 69.48106862339299, 79.4188068703861, 62.69204305919311, 47.0694670046631, 24.249193809893786, 132.30743275646682, 143.01320664572626, 38.0624972660298, 172.51403578949018, 87.03799981799723, 197.76008410011144, 51.53442668881482, 86.85691734088869, 1994.7412838446103, 69.30720716427587, 54.131076356201426, 86.3179421151851, 68.40464212748029, 67.65718821172347, 202.1609558757782, 54.972591214041735, 94.92337504698496, 919.445488885208, 68.0891169211098, 310.5572449295738, 370.11169440370867, 88.61505512674623, 136.5630555052633, 79.57416069769657, 165.50379629225154, 249.30576667339474, 20.367371096998856, 12.23417902693681, 18.342055884003262, 18.306217473486463, 33.33332911186142, 73.45341696729213, 6.817903799617336, 9.594385022815645, 11.718195448633187, 100.72521164687133, 12.226822917608832, 9.432717033902842, 5.908657973833509, 23.9971819856816, 5.682664541184268, 16.60186462556373, 23.494504455038815, 7.464455939502771, 18.343502207219114, 5.503967364537678, 14.5882282125927, 23.471471835886724, 5.253743611476695, 5.523405481173431, 7.49175603001466, 5.250575080784108, 6.7238227505032455, 5.442430035298025, 5.761099188145603, 11.911337871372739, 10.975925156302315, 919.445488885208, 57.418429036964554, 9.06410315324761, 19.629898509208644, 19.643209163598584, 54.79981340422741, 67.65718821172347, 1994.7412838446103, 29.473747073301087, 331.30206937173375, 370.11169440370867, 37.59233625406832, 79.57416069769657, 223.31346579004816, 202.1609558757782, 81.53011651236119, 117.16805425912862, 95.76201486704683, 132.30743275646682, 143.01320664572626, 172.51403578949018, 51.49052829319724, 61.02943725460937, 94.92337504698496, 136.5630555052633, 18.77475824932457, 17.12068156426738, 13.339208734849224, 30.41420440314471, 15.582650283735369, 20.323592436067983, 84.3469032761967, 18.04263303557468, 9.797831897237243, 8.316434582902433, 20.071074423995974, 7.633200583408549, 7.127162258950292, 9.460950199542658, 14.333470596100513, 6.839028616296528, 6.837648802648569, 6.567678712343971, 9.125461923657744, 6.212628259459447, 8.608057050279758, 6.37718323022585, 6.610265918174424, 9.63789186928842, 8.491355001716977, 7.848973064438777, 5.763335110983249, 5.767932706182992, 5.650117435466316, 7.592890402678369, 16.846190564457952, 15.692612066286586, 95.76201486704683, 42.01430682868428, 24.075723561275606, 71.0702634502241, 31.034350726173283, 45.40098083006971, 39.45068962127646, 86.3179421151851, 1994.7412838446103, 373.3705530844931, 94.92337504698496, 234.12909896081243, 197.76008410011144, 86.85691734088869, 117.16805425912862, 39.71771513825543, 371.49428791380274, 370.11169440370867, 172.51403578949018, 204.23573064484785, 298.0182297478625, 331.30206937173375, 161.38610171393807, 202.1609558757782, 223.31346579004816, 919.445488885208, 125.838763989249, 88.48651618271457, 83.57251521674017, 55.72228131122711, 60.200506505107114, 10.99234784108287, 23.396452709156296, 20.3600072708564, 18.066622601628154, 10.593177827229256, 5.934932053641473, 5.757625801240523, 5.7200774092409175, 5.362113298014477, 5.351362999812898, 7.435404744841432, 5.364119445444862, 9.16093512875292, 5.20113821793351, 18.77376363857437, 331.30206937173375, 5.243930671108945, 29.711009754005488, 5.133411809124482, 4.8899676412414355, 4.892562330611012, 5.8002826319895195, 5.387299604795163, 4.624657316725555, 4.519571544770974, 8.274121057240515, 37.79659833421475, 234.12909896081243, 17.765359680093603, 68.0891169211098, 10.235188347433365, 81.53011651236119, 373.3705530844931, 136.5630555052633, 57.418429036964554, 11.52658998488118, 11.206973379778447, 88.61505512674623, 45.6820989377925, 1994.7412838446103, 15.062658480202254, 17.321620171834876, 21.352697936357096, 17.923960721407102, 100.72521164687133, 919.445488885208, 68.40464212748029, 22.94122558511274, 197.76008410011144, 67.65718821172347, 370.11169440370867, 310.5572449295738, 204.23573064484785, 202.1609558757782, 371.49428791380274, 14.35493208598763, 13.51138168691947, 7.329732257053983, 6.838751088568953, 6.778954286838168, 7.946976349514129, 6.511113240987632, 6.990637383014847, 6.4424589705315185, 5.111427186323028, 5.0237906159433265, 4.933369574005897, 4.6832420900917695, 4.652348778572471, 4.652348778572471, 7.313931886569112, 6.314164784250375, 8.405513212710023, 6.057173009789313, 10.521299890699408, 9.374765692790739, 4.256346241275416, 4.251469295860074, 4.595330861899701, 4.595330861899701, 11.03754622667133, 6.846856970837145, 3.8007663603822253, 3.777984732746778, 3.777984732746778, 4.518917750425093, 69.30720716427587, 87.03799981799723, 6.838403508998521, 202.1609558757782, 16.3899239584295, 64.1411773759131, 8.83408997674555, 39.32539554037335, 58.87355360479322, 1994.7412838446103, 30.89018434647044, 370.11169440370867, 196.34145570351714, 67.4075507855884, 919.445488885208, 197.76008410011144, 161.38610171393807, 51.53442668881482, 54.79981340422741, 31.034350726173283, 143.01320664572626, 59.621215109927284, 136.5630555052633, 11.31726897288147, 6.3229706210607075, 5.823221702199129, 6.540709789171087, 5.907072890491259, 4.5197311268630065, 4.441053132309991, 4.328780170499778, 7.534918463274272, 9.963956728758674, 4.17489988017875, 4.030632770990618, 4.286411150460468, 4.206082791678796, 3.93741855116943, 8.116708845796515, 3.7413610297079964, 3.9466603163369522, 6.104512887213778, 3.5031886868966833, 3.5031886868966833, 3.5031824038108508, 3.5031824038108508, 3.5031824038108508, 3.503181846150504, 3.5073966517290014, 3.5073966517290014, 3.5077546280772274, 3.5077546280772274, 3.509454923211745, 4.920574567795523, 20.970825631009774, 9.317434556015966, 13.837634420680544, 30.89018434647044, 15.244075990390924, 5.031937346686834, 4.5695435705169825, 14.664384966534298, 15.629582065078006, 6.54652927680911, 18.306217473486463, 1994.7412838446103, 37.08846829887529, 197.76008410011144, 21.352697936357096, 81.53011651236119, 79.4188068703861, 15.288709825205757, 13.266678468775659, 73.45341696729213, 249.30576667339474, 71.0702634502241, 100.72521164687133, 61.02943725460937, 371.49428791380274], \"Category\": [\"Default\", \"Default\", \"Default\", \"Default\", \"Default\", \"Default\", \"Default\", \"Default\", \"Default\", \"Default\", \"Default\", \"Default\", \"Default\", \"Default\", \"Default\", \"Default\", \"Default\", \"Default\", \"Default\", \"Default\", \"Default\", \"Default\", \"Default\", \"Default\", \"Default\", \"Default\", \"Default\", \"Default\", \"Default\", \"Default\", \"Topic1\", \"Topic1\", \"Topic1\", \"Topic1\", \"Topic1\", \"Topic1\", \"Topic1\", \"Topic1\", \"Topic1\", \"Topic1\", \"Topic1\", \"Topic1\", \"Topic1\", \"Topic1\", \"Topic1\", \"Topic1\", \"Topic1\", \"Topic1\", \"Topic1\", \"Topic1\", \"Topic1\", \"Topic1\", \"Topic1\", \"Topic1\", \"Topic1\", \"Topic1\", \"Topic1\", \"Topic1\", \"Topic1\", \"Topic1\", \"Topic1\", \"Topic1\", \"Topic1\", \"Topic1\", \"Topic1\", \"Topic1\", \"Topic1\", \"Topic1\", \"Topic1\", \"Topic1\", \"Topic1\", \"Topic1\", \"Topic1\", \"Topic1\", \"Topic1\", \"Topic1\", \"Topic1\", \"Topic1\", \"Topic1\", \"Topic1\", \"Topic1\", \"Topic1\", \"Topic2\", \"Topic2\", \"Topic2\", \"Topic2\", \"Topic2\", \"Topic2\", \"Topic2\", \"Topic2\", \"Topic2\", \"Topic2\", \"Topic2\", \"Topic2\", \"Topic2\", \"Topic2\", \"Topic2\", \"Topic2\", \"Topic2\", \"Topic2\", \"Topic2\", \"Topic2\", \"Topic2\", \"Topic2\", \"Topic2\", \"Topic2\", \"Topic2\", \"Topic2\", \"Topic2\", \"Topic2\", \"Topic2\", \"Topic2\", \"Topic2\", \"Topic2\", \"Topic2\", \"Topic2\", \"Topic2\", \"Topic2\", \"Topic2\", \"Topic2\", \"Topic2\", \"Topic2\", \"Topic2\", \"Topic2\", \"Topic2\", \"Topic2\", \"Topic2\", \"Topic2\", \"Topic2\", \"Topic2\", \"Topic2\", \"Topic2\", \"Topic2\", \"Topic2\", \"Topic2\", \"Topic2\", \"Topic2\", \"Topic2\", \"Topic2\", \"Topic2\", \"Topic2\", \"Topic3\", \"Topic3\", \"Topic3\", \"Topic3\", \"Topic3\", \"Topic3\", \"Topic3\", \"Topic3\", \"Topic3\", \"Topic3\", \"Topic3\", \"Topic3\", \"Topic3\", \"Topic3\", \"Topic3\", \"Topic3\", \"Topic3\", \"Topic3\", \"Topic3\", \"Topic3\", \"Topic3\", \"Topic3\", \"Topic3\", \"Topic3\", \"Topic3\", \"Topic3\", \"Topic3\", \"Topic3\", \"Topic3\", \"Topic3\", \"Topic3\", \"Topic3\", \"Topic3\", \"Topic3\", \"Topic3\", \"Topic3\", \"Topic3\", \"Topic3\", \"Topic3\", \"Topic3\", \"Topic3\", \"Topic3\", \"Topic3\", \"Topic3\", \"Topic3\", \"Topic3\", \"Topic3\", \"Topic3\", \"Topic3\", \"Topic3\", \"Topic3\", \"Topic3\", \"Topic3\", \"Topic3\", \"Topic3\", \"Topic3\", \"Topic3\", \"Topic3\", \"Topic4\", \"Topic4\", \"Topic4\", \"Topic4\", \"Topic4\", \"Topic4\", \"Topic4\", \"Topic4\", \"Topic4\", \"Topic4\", \"Topic4\", \"Topic4\", \"Topic4\", \"Topic4\", \"Topic4\", \"Topic4\", \"Topic4\", \"Topic4\", \"Topic4\", \"Topic4\", \"Topic4\", \"Topic4\", \"Topic4\", \"Topic4\", \"Topic4\", \"Topic4\", \"Topic4\", \"Topic4\", \"Topic4\", \"Topic4\", \"Topic4\", \"Topic4\", \"Topic4\", \"Topic4\", \"Topic4\", \"Topic4\", \"Topic4\", \"Topic4\", \"Topic4\", \"Topic4\", \"Topic4\", \"Topic4\", \"Topic4\", \"Topic4\", \"Topic4\", \"Topic4\", \"Topic4\", \"Topic4\", \"Topic4\", \"Topic4\", \"Topic4\", \"Topic4\", \"Topic4\", \"Topic4\", \"Topic4\", \"Topic4\", \"Topic4\", \"Topic4\", \"Topic4\", \"Topic5\", \"Topic5\", \"Topic5\", \"Topic5\", \"Topic5\", \"Topic5\", \"Topic5\", \"Topic5\", \"Topic5\", \"Topic5\", \"Topic5\", \"Topic5\", \"Topic5\", \"Topic5\", \"Topic5\", \"Topic5\", \"Topic5\", \"Topic5\", \"Topic5\", \"Topic5\", \"Topic5\", \"Topic5\", \"Topic5\", \"Topic5\", \"Topic5\", \"Topic5\", \"Topic5\", \"Topic5\", \"Topic5\", \"Topic5\", \"Topic5\", \"Topic5\", \"Topic5\", \"Topic5\", \"Topic5\", \"Topic5\", \"Topic5\", \"Topic5\", \"Topic5\", \"Topic5\", \"Topic5\", \"Topic5\", \"Topic5\", \"Topic5\", \"Topic5\", \"Topic5\", \"Topic5\", \"Topic5\", \"Topic5\", \"Topic5\", \"Topic5\", \"Topic5\", \"Topic5\", \"Topic5\", \"Topic5\", \"Topic5\", \"Topic5\", \"Topic5\", \"Topic5\", \"Topic6\", \"Topic6\", \"Topic6\", \"Topic6\", \"Topic6\", \"Topic6\", \"Topic6\", \"Topic6\", \"Topic6\", \"Topic6\", \"Topic6\", \"Topic6\", \"Topic6\", \"Topic6\", \"Topic6\", \"Topic6\", \"Topic6\", \"Topic6\", \"Topic6\", \"Topic6\", \"Topic6\", \"Topic6\", \"Topic6\", \"Topic6\", \"Topic6\", \"Topic6\", \"Topic6\", \"Topic6\", \"Topic6\", \"Topic6\", \"Topic6\", \"Topic6\", \"Topic6\", \"Topic6\", \"Topic6\", \"Topic6\", \"Topic6\", \"Topic6\", \"Topic6\", \"Topic6\", \"Topic6\", \"Topic6\", \"Topic6\", \"Topic6\", \"Topic6\", \"Topic6\", \"Topic6\", \"Topic6\", \"Topic6\", \"Topic6\", \"Topic6\", \"Topic6\", \"Topic6\", \"Topic6\", \"Topic7\", \"Topic7\", \"Topic7\", \"Topic7\", \"Topic7\", \"Topic7\", \"Topic7\", \"Topic7\", \"Topic7\", \"Topic7\", \"Topic7\", \"Topic7\", \"Topic7\", \"Topic7\", \"Topic7\", \"Topic7\", \"Topic7\", \"Topic7\", \"Topic7\", \"Topic7\", \"Topic7\", \"Topic7\", \"Topic7\", \"Topic7\", \"Topic7\", \"Topic7\", \"Topic7\", \"Topic7\", \"Topic7\", \"Topic7\", \"Topic7\", \"Topic7\", \"Topic7\", \"Topic7\", \"Topic7\", \"Topic7\", \"Topic7\", \"Topic7\", \"Topic7\", \"Topic7\", \"Topic7\", \"Topic7\", \"Topic7\", \"Topic7\", \"Topic7\", \"Topic7\", \"Topic7\", \"Topic7\", \"Topic7\", \"Topic7\", \"Topic7\", \"Topic7\", \"Topic7\", \"Topic7\", \"Topic7\", \"Topic7\"], \"logprob\": [30.0, 29.0, 28.0, 27.0, 26.0, 25.0, 24.0, 23.0, 22.0, 21.0, 20.0, 19.0, 18.0, 17.0, 16.0, 15.0, 14.0, 13.0, 12.0, 11.0, 10.0, 9.0, 8.0, 7.0, 6.0, 5.0, 4.0, 3.0, 2.0, 1.0, -4.0826, -4.2223, -4.5393, -4.6182, -4.0227, -3.5527, -4.1398, -6.4431, -6.201, -4.1065, -4.2886, -3.6787, -6.1772, -4.7286, -6.0229, -6.7776, -6.5691, -6.8942, -6.1364, -6.891, -3.3015, -7.0185, -3.6553, -7.0586, -7.1004, -7.0797, -7.0421, -6.9393, -5.4536, -7.1779, -3.5131, -2.7675, -3.6146, -2.1914, -6.1793, -5.8369, -4.6866, -6.0327, -4.4319, -5.8043, -5.5205, -4.9959, -5.5929, -5.5861, -4.9315, -5.7918, -5.3988, -5.3986, -5.1005, -5.685, -5.6051, -5.6267, -5.9504, -3.1382, -6.3972, -6.3734, -5.9758, -5.7207, -4.0525, -6.6595, -3.8092, -6.5291, -6.5377, -6.7801, -6.4278, -6.655, -4.9215, -6.8666, -6.9663, -6.9896, -6.3334, -3.0562, -6.6157, -7.0722, -5.9697, -7.0723, -7.0618, -7.1605, -6.5457, -7.0707, -7.2027, -7.2172, -4.8217, -4.7292, -4.9613, -5.2804, -5.9051, -4.3425, -4.2734, -5.4989, -4.2085, -4.8082, -4.0981, -5.2739, -4.9346, -2.4893, -5.137, -5.3331, -4.9951, -5.1854, -5.2022, -4.4906, -5.3711, -5.0859, -3.869, -5.3341, -4.7416, -4.7774, -5.2915, -5.2416, -5.3278, -3.1573, -2.7969, -5.3889, -5.9421, -5.5625, -5.6281, -5.0397, -4.3006, -6.6786, -6.3488, -6.1505, -4.0084, -6.1177, -6.3937, -6.8844, -5.4903, -6.9452, -5.8917, -5.5475, -6.7014, -5.8107, -7.018, -6.0484, -5.5764, -7.0747, -7.0337, -6.7321, -7.0882, -6.841, -7.0719, -7.0161, -6.3259, -6.4104, -2.4689, -4.9966, -6.602, -5.9623, -5.9919, -5.2498, -5.0989, -2.6842, -5.729, -4.1181, -4.1474, -5.5964, -5.2065, -4.8708, -5.0195, -5.4016, -5.2874, -5.388, -5.2823, -5.3529, -5.353, -5.6211, -5.5913, -5.5127, -5.4936, -5.3748, -5.4933, -5.7807, -4.9703, -5.6486, -5.3942, -3.9727, -5.538, -6.1555, -6.3648, -5.518, -6.4894, -6.5648, -6.2976, -5.8938, -6.6481, -6.6547, -6.6955, -6.3678, -6.7585, -6.4332, -6.7344, -6.7072, -6.331, -6.4647, -6.575, -6.884, -6.8839, -6.9079, -6.6298, -5.8533, -5.942, -4.3073, -5.068, -5.5885, -4.7648, -5.4662, -5.1715, -5.3682, -4.7953, -2.5329, -3.9246, -4.8787, -4.3166, -4.4312, -4.9644, -4.7988, -5.4722, -4.3626, -4.474, -4.9335, -4.954, -4.8713, -4.9166, -5.1558, -5.1521, -5.1743, -5.1654, -5.3675, -3.5539, -3.6184, -4.0239, -3.9482, -5.8444, -5.2278, -5.3847, -5.5056, -6.0766, -6.6625, -6.7091, -6.7427, -6.8152, -6.8181, -6.4909, -6.824, -6.2898, -6.8662, -5.5833, -2.7207, -6.8696, -5.1528, -6.9153, -6.9745, -7.0006, -6.8465, -6.9213, -7.0783, -7.116, -6.515, -5.0075, -3.306, -5.8109, -4.5633, -6.3331, -4.4758, -3.2429, -4.15, -4.979, -6.2474, -6.2777, -4.7922, -5.2834, -2.6209, -6.107, -6.0223, -5.931, -6.033, -5.1422, -4.0219, -5.4607, -5.9491, -5.1579, -5.5667, -5.0271, -5.1615, -5.4614, -5.4851, -5.7324, -4.8261, -4.9215, -5.696, -5.7962, -5.8099, -5.6868, -5.8869, -5.8408, -5.9401, -6.242, -6.2715, -6.323, -6.3932, -6.4073, -6.4073, -5.9587, -6.1102, -5.8256, -6.1562, -5.6425, -5.7783, -6.5841, -6.5877, -6.5408, -6.5408, -5.7099, -6.2141, -6.8257, -6.8378, -6.8378, -6.6589, -3.9898, -3.8456, -6.2659, -3.1642, -5.6093, -4.7179, -6.1267, -5.2371, -5.0035, -3.4086, -5.488, -4.5349, -4.8564, -5.4194, -4.5415, -5.1589, -5.2446, -5.5961, -5.6333, -5.7563, -5.6002, -5.7048, -5.8112, -4.7547, -5.5084, -5.5981, -5.5607, -5.6712, -6.0566, -6.0868, -6.1217, -5.5853, -5.313, -6.2043, -6.2696, -6.2193, -6.2402, -6.3333, -5.6946, -6.4731, -6.4316, -6.0537, -6.614, -6.614, -6.614, -6.614, -6.614, -6.614, -6.6183, -6.6183, -6.6187, -6.6187, -6.62, -6.3006, -4.9599, -5.7358, -5.3936, -4.6931, -5.4875, -6.336, -6.4217, -5.5902, -5.6378, -6.2311, -5.7968, -3.7115, -5.5668, -4.9976, -5.8891, -5.5555, -5.654, -6.0548, -6.0866, -5.8699, -5.7292, -5.9617, -5.9622, -6.0108, -5.9648], \"loglift\": [30.0, 29.0, 28.0, 27.0, 26.0, 25.0, 24.0, 23.0, 22.0, 21.0, 20.0, 19.0, 18.0, 17.0, 16.0, 15.0, 14.0, 13.0, 12.0, 11.0, 10.0, 9.0, 8.0, 7.0, 6.0, 5.0, 4.0, 3.0, 2.0, 1.0, 1.3459, 1.3429, 1.3316, 1.3309, 1.3055, 1.2792, 1.2527, 1.1823, 1.1436, 1.1344, 1.1285, 1.1138, 1.1023, 1.1016, 1.1001, 1.0966, 1.0949, 1.0884, 1.0781, 1.073, 1.0719, 1.0509, 1.0479, 1.041, 1.0345, 1.0231, 1.0188, 1.0151, 1.0116, 1.0116, 0.6849, 0.5205, 0.5746, 0.3221, 0.9051, 0.8538, 0.6616, 0.88, 0.224, 0.6256, 0.4302, -0.0346, 0.4309, 0.3149, -0.6227, 0.4983, -0.1721, -0.2036, -0.9063, 0.0501, -0.4563, -0.802, 1.3434, 1.2764, 1.2737, 1.2576, 1.2385, 1.2346, 1.2243, 1.2199, 1.2188, 1.2025, 1.2014, 1.1923, 1.1806, 1.1701, 1.1652, 1.1634, 1.1518, 1.144, 1.143, 1.1381, 1.1294, 1.1235, 1.1224, 1.1223, 1.1025, 1.0973, 1.0906, 1.0895, 1.0837, 1.0789, 1.049, 1.0079, 1.0122, 0.9797, 1.0183, 0.8841, 0.8754, 0.9736, 0.7528, 0.8372, 0.7266, 0.8956, 0.7129, 0.0242, 0.7362, 0.7873, 0.6586, 0.7009, 0.6951, 0.3121, 0.7339, 0.4728, -0.581, 0.5569, -0.3682, -0.5795, 0.336, -0.0466, 0.4073, 1.8455, 1.7962, 1.709, 1.6655, 1.6401, 1.5764, 1.5655, 1.5145, 1.5136, 1.5017, 1.5001, 1.491, 1.4905, 1.4738, 1.4509, 1.4436, 1.4292, 1.4106, 1.4075, 1.4002, 1.3918, 1.3883, 1.3832, 1.3795, 1.3781, 1.369, 1.3659, 1.3652, 1.3651, 1.3456, 1.3445, 1.3084, 1.3056, 0.8191, 1.0648, 1.3054, 1.1724, 1.1421, 0.8583, 0.7984, -0.1707, 0.9992, 0.1906, 0.0506, 0.8885, 0.5285, -0.1676, -0.2168, 0.3092, 0.0607, 0.1619, -0.0557, -0.2041, -0.3918, 0.5493, 0.4091, 0.046, -0.2986, 1.8045, 1.7782, 1.7403, 1.7266, 1.717, 1.7058, 1.7041, 1.6811, 1.6741, 1.6287, 1.5945, 1.5898, 1.5831, 1.5669, 1.5554, 1.541, 1.5346, 1.5341, 1.5329, 1.5266, 1.5259, 1.5246, 1.5159, 1.5151, 1.508, 1.4763, 1.4763, 1.4755, 1.4722, 1.4548, 1.4343, 1.4166, 1.2426, 1.3057, 1.3421, 1.0833, 1.2104, 1.1247, 1.0685, 0.8584, -0.0194, 0.2646, 0.68, 0.3393, 0.3935, 0.6831, 0.5494, 0.9578, -0.1684, -0.276, 0.0278, -0.1615, -0.4567, -0.6079, -0.1278, -0.3494, -0.4711, -1.8774, -0.0907, 2.075, 2.0677, 2.0675, 2.0658, 1.8701, 1.7313, 1.7135, 1.7121, 1.675, 1.6684, 1.6521, 1.6251, 1.6172, 1.6163, 1.6146, 1.6081, 1.607, 1.5967, 1.596, 1.5881, 1.5851, 1.5674, 1.5607, 1.55, 1.5234, 1.5073, 1.5064, 1.5021, 1.4873, 1.4837, 1.4721, 1.3499, 1.4236, 1.3276, 1.4528, 1.2349, 0.9463, 1.045, 1.0824, 1.4197, 1.4175, 0.8352, 1.0066, -0.1074, 1.2925, 1.2375, 1.1196, 1.1926, 0.3571, -0.7339, 0.4257, 1.0297, -0.3332, 0.3306, -0.8292, -0.7881, -0.6689, -0.6824, -1.5382, 2.6216, 2.5867, 2.4239, 2.393, 2.388, 2.3522, 2.3514, 2.3264, 2.3088, 2.2383, 2.226, 2.1927, 2.1746, 2.1671, 2.1671, 2.1632, 2.1587, 2.1572, 2.1543, 2.1158, 2.0954, 2.0793, 2.0768, 2.0459, 2.0459, 2.0005, 1.9738, 1.9509, 1.9448, 1.9448, 1.9446, 1.8834, 1.7998, 1.9233, 1.6385, 1.7058, 1.2328, 1.8064, 1.2028, 1.0329, -0.8951, 1.1933, -0.337, -0.0245, 0.4816, -1.2535, -0.3342, -0.2166, 0.5734, 0.4748, 0.9203, -0.4513, 0.3189, -0.6163, 2.9307, 2.7591, 2.7518, 2.673, 2.6644, 2.5467, 2.534, 2.5248, 2.5069, 2.4998, 2.4784, 2.4483, 2.437, 2.4351, 2.4079, 2.3232, 2.3192, 2.3073, 2.249, 2.2441, 2.2441, 2.2441, 2.2441, 2.2441, 2.244, 2.2386, 2.2386, 2.2381, 2.2381, 2.2363, 2.2178, 2.1087, 2.144, 2.0908, 1.9882, 1.9001, 2.1599, 2.1706, 1.8361, 1.7247, 2.0017, 1.4077, -1.198, 0.9317, -0.1729, 1.1615, 0.1553, 0.0831, 1.3299, 1.4399, -0.0548, -1.1362, -0.1137, -0.4628, -0.0104, -1.7706]}, \"token.table\": {\"Topic\": [5, 1, 2, 3, 4, 5, 7, 1, 2, 3, 3, 4, 1, 2, 4, 5, 3, 6, 2, 5, 6, 2, 4, 5, 2, 4, 1, 2, 3, 4, 5, 6, 7, 1, 2, 3, 4, 5, 5, 1, 3, 7, 1, 2, 3, 4, 7, 7, 1, 2, 3, 4, 5, 6, 7, 1, 4, 5, 1, 3, 4, 5, 3, 4, 1, 7, 1, 2, 1, 2, 3, 4, 5, 7, 2, 5, 1, 1, 7, 6, 1, 5, 1, 4, 5, 1, 2, 4, 7, 1, 2, 5, 7, 1, 2, 3, 4, 5, 6, 7, 5, 1, 3, 5, 1, 2, 3, 4, 5, 6, 4, 4, 6, 7, 1, 4, 1, 2, 3, 4, 5, 6, 7, 2, 5, 2, 6, 7, 6, 7, 4, 6, 1, 2, 3, 4, 6, 1, 2, 3, 4, 5, 6, 7, 2, 3, 5, 1, 2, 3, 6, 1, 2, 6, 1, 3, 4, 5, 3, 1, 3, 4, 1, 2, 3, 5, 6, 1, 2, 1, 3, 4, 6, 6, 1, 2, 3, 4, 5, 6, 7, 1, 3, 4, 5, 7, 6, 4, 7, 6, 6, 6, 3, 7, 6, 7, 3, 5, 6, 1, 1, 2, 3, 4, 5, 6, 7, 2, 3, 5, 1, 2, 3, 4, 6, 1, 4, 5, 2, 3, 4, 6, 2, 4, 7, 1, 2, 3, 5, 1, 2, 6, 1, 2, 3, 4, 5, 7, 1, 2, 3, 4, 5, 6, 7, 2, 4, 5, 4, 1, 2, 3, 4, 5, 6, 7, 1, 2, 3, 4, 5, 7, 1, 2, 3, 5, 1, 2, 3, 4, 6, 7, 7, 3, 1, 2, 5, 6, 1, 2, 4, 1, 2, 3, 4, 5, 7, 4, 5, 1, 3, 4, 5, 1, 3, 4, 5, 1, 4, 6, 2, 7, 1, 2, 3, 4, 5, 6, 7, 1, 2, 3, 4, 5, 6, 7, 5, 1, 2, 3, 5, 7, 1, 2, 3, 6, 7, 2, 1, 5, 1, 2, 3, 4, 5, 3, 2, 4, 7, 1, 2, 3, 4, 5, 7, 1, 2, 3, 4, 1, 2, 4, 2, 1, 2, 3, 5, 6, 1, 2, 1, 7, 4, 1, 4, 5, 2, 1, 6, 3, 4, 2, 3, 4, 6, 6, 2, 3, 7, 1, 2, 3, 4, 5, 2, 6, 2, 2, 6, 4, 1, 2, 3, 4, 5, 6, 1, 2, 3, 4, 1, 2, 3, 4, 6, 7, 1, 2, 3, 4, 5, 6, 1, 2, 3, 4, 5, 6, 2, 3, 1, 2, 3, 2, 3, 6, 1, 2, 4, 3, 5, 6, 3, 4, 5, 1, 2, 3, 4, 5, 6, 1, 4, 1, 2, 3, 4, 5, 6, 1, 2, 3, 4, 5, 6, 2, 3, 4, 5, 6, 1, 2, 4, 5, 6, 7, 1, 2, 3, 4, 6, 1, 2, 5, 1, 2, 3, 4, 6, 7, 7, 1, 2, 5, 1, 2, 4, 6, 4, 7, 5, 1, 2, 3, 4, 5, 2, 3, 4, 3, 1, 3, 4, 7, 1, 2, 3, 4, 5, 7, 1, 4, 2, 5, 7, 2, 3, 4, 6, 7, 3, 5, 1, 2, 3, 4, 5, 6, 1, 2, 3, 4, 5, 6, 7, 4, 1, 2, 3, 4, 6, 7, 2, 4, 7, 2, 3, 5, 1, 2, 3, 7, 1, 5, 5, 1, 4, 1, 2, 3, 4, 7, 2, 4, 1, 5, 7, 1, 2, 3, 6, 7, 3, 4, 7, 2, 4, 6, 2, 3, 6, 1, 4, 1, 3, 4, 1, 2, 3, 4, 1, 4, 1, 3, 4, 1, 2, 4, 5, 6, 4, 3, 7, 4, 5, 5, 1, 2, 3, 5, 2, 7, 1, 4, 7, 1, 2, 3, 4, 6, 2, 1, 2, 3, 4, 5, 1, 2, 3, 4, 5, 5, 6, 1, 2, 3, 4, 5, 6, 6, 4, 1, 2, 3, 4, 5, 7, 4, 2, 3, 4, 5, 1, 2, 3, 4, 5, 6, 7, 1, 2, 3, 5, 1, 2, 4, 5, 7, 1, 2, 3, 4, 5, 6, 1, 2, 3, 4, 5, 6, 4, 6, 1, 2, 3, 1, 2, 3, 4, 5, 3, 6, 1, 3, 6, 1, 2, 3, 7, 7, 1, 2, 3, 4, 6, 5, 6, 2, 3, 6, 6, 1, 2, 3, 4, 5, 7, 1, 2, 1, 2, 3, 4, 5, 6, 7, 1, 2, 3, 4, 1, 2, 3, 4, 5, 1, 4, 1, 2, 7, 1, 2, 1, 2, 3, 7, 1, 3, 5, 2, 1, 2, 2, 5, 7, 2, 3, 4, 7, 1, 2, 3, 4, 6, 7, 2, 1, 2, 3, 6, 7, 1, 2, 7, 1, 2, 3, 4, 5, 7, 1, 2, 3, 4, 5, 6, 1, 2, 4, 5, 2, 3, 1, 2, 2, 3, 4, 5, 7, 1, 2, 3, 4, 5, 6, 7, 7, 1, 2, 3, 7, 1, 3, 5, 7, 1, 2, 3, 5, 2, 3, 5, 1, 2, 3, 5, 6, 7, 2, 7, 1, 2, 3, 5, 1, 2, 6, 1, 2, 3, 4, 5, 6, 7, 1, 2, 1, 2, 3, 6, 1, 2, 3, 4, 5, 6, 3, 3, 7, 1, 2, 1, 2, 4, 5, 6, 1, 2, 3, 4, 5, 6, 7, 2, 1, 3, 4, 5, 1, 4, 5, 3, 6, 1, 2, 3, 4, 5, 7, 2, 3, 4, 5, 6, 1, 2, 3, 5, 6, 1, 4, 7, 6, 1, 2, 3, 4, 6, 2, 7], \"Freq\": [0.5594809048721261, 0.06710998859674103, 0.8187418608802405, 0.006710998859674103, 0.09059848460560038, 0.013421997719348206, 0.0033554994298370514, 0.04909813815624691, 0.04909813815624691, 0.8346683486561974, 0.8173821862490595, 0.08173821862490595, 0.1058296295510558, 0.13228703693881977, 0.18520185171434767, 0.5291481477552791, 0.6360839595245936, 0.10601399325409894, 0.3395935526915688, 0.1131978508971896, 0.3395935526915688, 0.17240539184846518, 0.17240539184846518, 0.5172161755453955, 0.1310066451251904, 0.655033225625952, 0.01942104758191259, 0.33015780889251406, 0.27189466614677626, 0.15536838065530073, 0.11652628549147553, 0.05826314274573777, 0.03884209516382518, 0.05090817858077538, 0.10181635716155076, 0.45817360722697836, 0.3054490714846522, 0.05090817858077538, 0.5720899432420573, 0.1987306142947959, 0.1987306142947959, 0.3974612285895918, 0.12501467888146242, 0.12501467888146242, 0.6250733944073121, 0.04167155962715414, 0.4790534042493898, 0.28545422167535456, 0.19624649987559087, 0.01226540624222443, 0.2085119061178153, 0.11038865618001988, 0.4170238122356306, 0.01226540624222443, 0.04906162496889772, 0.016611155919679262, 0.016611155919679262, 0.946835887421718, 0.018126472426665735, 0.9607030386132839, 0.006042157475555245, 0.006042157475555245, 0.5207339610074736, 0.1735779870024912, 0.6684727379056163, 0.47550181464728836, 0.08181385393681426, 0.7363246854313282, 0.09366497882193207, 0.23416244705483016, 0.1404974682328981, 0.04683248941096604, 0.3746599152877283, 0.1404974682328981, 0.7458934417593345, 0.09323668021991681, 0.7470066839953518, 0.23329539908755018, 0.46659079817510035, 0.6081036409287293, 0.6937507515990271, 0.11562512526650452, 0.011301156867054343, 0.011301156867054343, 0.9605983336996192, 0.06976677374090087, 0.13953354748180175, 0.6976677374090087, 0.2854547790885754, 0.2655573719113022, 0.06638934297782555, 0.46472540084477887, 0.1327786859556511, 0.011489234611216623, 0.5285047921159647, 0.011489234611216623, 0.034467703833649874, 0.034467703833649874, 0.36765550755893195, 0.011489234611216623, 0.6135009922557234, 0.13348005407459101, 0.5339202162983641, 0.5844066503037204, 0.11588294236857091, 0.36871845299090744, 0.15802219413896032, 0.2844399494501286, 0.04213925177038942, 0.03160443882779207, 0.7214630188200196, 0.14304847257986808, 0.5721938903194723, 0.5079470150324739, 0.7783416727656959, 0.08648240808507733, 0.4526334457922706, 0.0348179573686362, 0.0026783044129720154, 0.18748130890804107, 0.3106833119047538, 0.008034913238916046, 0.0026783044129720154, 0.34702370824732975, 0.5205355623709946, 0.28906674930087345, 0.28906674930087345, 0.28906674930087345, 0.6405818751815185, 0.28508265429847046, 0.23793907039201234, 0.4758781407840247, 0.38976521826972627, 0.21826852223104673, 0.12472486984631241, 0.062362434923156206, 0.20267791350025768, 0.01858896130546355, 0.7745400543943147, 0.012392640870309035, 0.13012272913824488, 0.012392640870309035, 0.04957056348123614, 0.006196320435154517, 0.6509600969894948, 0.6169357833483241, 0.27419368148814405, 0.09504529006762534, 0.19009058013525068, 0.09504529006762534, 0.47522645033812666, 0.6706374453252529, 0.1552202357165338, 0.6208809428661352, 0.19540431813367964, 0.19540431813367964, 0.09770215906683982, 0.4885107953341991, 0.5710213938583835, 0.6925407214213134, 0.7333632369938443, 0.7079498870044055, 0.014780395497232954, 0.45819226041422156, 0.33994909643635796, 0.1625843504695625, 0.014780395497232954, 0.9755249600857006, 0.010603532174844572, 0.05542428303165612, 0.11084856606331224, 0.7759399624431857, 0.5293827639546609, 0.4298903833718333, 0.4950154747106009, 0.051208497383855266, 0.16216024171554166, 0.24750773735530046, 0.008534749563975878, 0.017069499127951755, 0.017069499127951755, 0.06417393587044468, 0.06417393587044468, 0.8342611663157807, 0.5767968229830941, 0.49620000472244846, 0.7311276481984488, 0.6934893667729792, 0.2849445346586275, 0.5293827639546609, 0.46988658502572833, 0.43522437450199264, 0.1692885831169819, 0.5078657493509457, 0.6143342700323339, 0.28545473364794666, 0.16509351778195008, 0.16509351778195008, 0.4952805533458502, 0.7313799543039871, 0.2532704836898032, 0.2532704836898032, 0.014070582427211289, 0.42211747281633866, 0.014070582427211289, 0.014070582427211289, 0.028141164854422578, 0.12085875866233795, 0.2417175173246759, 0.4834350346493518, 0.3102200344114415, 0.01824823731832009, 0.36496474636640175, 0.21897884781984106, 0.09124118659160044, 0.7005235990681136, 0.1856217536351447, 0.556865260905434, 0.05936060120973565, 0.17808180362920695, 0.5936060120973565, 0.1187212024194713, 0.15288860570692456, 0.15288860570692456, 0.6115544228276982, 0.13932808915496103, 0.05224803343311038, 0.4354002786092532, 0.34832022288740255, 0.2212919232499707, 0.2212919232499707, 0.4425838464999414, 0.055791240314740885, 0.055791240314740885, 0.11158248062948177, 0.27895620157370443, 0.39053868220318616, 0.11158248062948177, 0.7438242184702041, 0.157780894827013, 0.006440036523551551, 0.032200182617757755, 0.05474031045018818, 0.0032200182617757754, 0.006440036523551551, 0.10958349378539423, 0.6575009627123654, 0.10958349378539423, 0.7310979790442229, 0.10228959431219325, 0.7106434973268163, 0.02961014572195068, 0.12113241431707096, 0.026918314292682436, 0.0026918314292682433, 0.005383662858536487, 0.2788290928650206, 0.07604429805409654, 0.1774366954595586, 0.4309176889732137, 0.025348099351365512, 0.025348099351365512, 0.057731320169807775, 0.057731320169807775, 0.4618505613584622, 0.40411924118865444, 0.24345845141116745, 0.4869169028223349, 0.10433933631907177, 0.15071237468310367, 0.011593259591007975, 0.0057966297955039875, 0.28511175076449974, 0.7038951483077337, 0.08923015751999308, 0.17846031503998616, 0.5353809451199585, 0.17846031503998616, 0.10569762855831753, 0.10569762855831753, 0.7398833999082227, 0.040111386645542736, 0.004011138664554274, 0.9145396155183745, 0.020055693322771368, 0.004011138664554274, 0.012033415993662823, 0.18880075767812524, 0.6608026518734383, 0.032879373951225366, 0.032879373951225366, 0.8219843487806342, 0.06575874790245073, 0.04982294315068903, 0.09964588630137806, 0.6975212041096465, 0.09964588630137806, 0.1460524156206717, 0.1460524156206717, 0.4381572468620151, 0.7064161225565943, 0.6869049822522483, 0.11630253953753775, 0.47026679030395696, 0.035396425076641924, 0.21237855045985152, 0.08596274661470181, 0.0455096893842539, 0.030339792922835934, 0.07914485727813593, 0.3116328755326602, 0.12366383949708738, 0.1038776251775534, 0.059358642958601944, 0.3165794291125437, 0.004946553579883496, 0.5606048403191655, 0.7897283750163248, 0.14567804976029292, 0.03833632888428761, 0.015334531553715043, 0.28545422167535456, 0.0798034998337017, 0.39901749916850854, 0.37241633255727463, 0.10640466644493561, 0.026601166611233903, 0.7358731329537236, 0.01794614248499041, 0.9511455517044918, 0.17096608830938648, 0.04274152207734662, 0.04274152207734662, 0.04274152207734662, 0.6838643532375459, 0.5512243576018192, 0.524794025235953, 0.13119850630898824, 0.2623970126179765, 0.7254376686460412, 0.04478010300284205, 0.12986229870824192, 0.0895602060056841, 0.004478010300284205, 0.00895602060056841, 0.04256314500753525, 0.170252580030141, 0.6384471751130287, 0.12768943502260574, 0.08412546135855234, 0.6730036908684187, 0.16825092271710468, 0.836759130597797, 0.08811980932212396, 0.3965391419495578, 0.04405990466106198, 0.4552856814976404, 0.6821531571208626, 0.9803771881572515, 0.00924884139770992, 0.4582580896151206, 0.30550539307674707, 0.7015414857043558, 0.11617023378899428, 0.6970214027339657, 0.6486967129759403, 0.6264468047168472, 0.7783750054131973, 0.7375768869997933, 0.6826989731540211, 0.17067474328850527, 0.10422762872471548, 0.7295934010730084, 0.2924659238619422, 0.43869888579291333, 0.5262096667785887, 0.18104772561212598, 0.5431431768363779, 0.46202392388271607, 0.118557998119441, 0.0118557998119441, 0.0118557998119441, 0.7943385874002546, 0.0711347988716646, 0.15837407387503288, 0.4751222216250987, 0.8959036424960898, 0.06966246820325513, 0.8359496184390615, 0.8761333445571782, 0.09570592546066602, 0.6220885154943291, 0.11165691303744368, 0.04785296273033301, 0.04785296273033301, 0.06380395030711068, 0.09520566449686357, 0.16660991286951124, 0.19041132899372715, 0.5236311547327497, 0.04123848437352978, 0.6185772656029467, 0.04123848437352978, 0.12371545312058935, 0.16495393749411913, 0.4425041985601769, 0.7602303729236265, 0.1382237041679321, 0.013822370416793208, 0.05528948166717283, 0.013822370416793208, 0.013822370416793208, 0.4159178418196854, 0.02189041272735186, 0.19701371454616676, 0.02189041272735186, 0.32835619091027796, 0.04378082545470372, 0.7102425425254868, 0.14204850850509734, 0.1952615893053615, 0.6834155625687652, 0.048815397326340375, 0.13672536407350785, 0.13672536407350785, 0.5469014562940314, 0.05254515976766899, 0.6042693373281933, 0.2889983787221794, 0.5466509578515879, 0.09110849297526465, 0.1822169859505293, 0.6023419793823576, 0.060234197938235756, 0.24093679175294302, 0.11889888704510086, 0.32272555055098806, 0.18684110821372993, 0.18684110821372993, 0.016985555292157267, 0.16985555292157264, 0.14624910241260844, 0.7312455120630422, 0.01786246657855692, 0.7323611297208339, 0.19648713236412615, 0.01786246657855692, 0.01786246657855692, 0.01786246657855692, 0.13815825345151744, 0.46052751150505816, 0.04605275115050582, 0.28782969469066133, 0.02302637557525291, 0.03453956336287936, 0.16354565044941882, 0.5996673849812024, 0.10903043363294589, 0.05451521681647294, 0.10903043363294589, 0.3203360895031386, 0.004271147860041848, 0.20074394942196686, 0.4655551167445614, 0.004271147860041848, 0.004271147860041848, 0.06265532328585842, 0.2192936315005045, 0.17752341597659888, 0.5012425862868674, 0.03132766164292921, 0.1277240317646374, 0.7663441905878243, 0.04257467725487913, 0.3305751873914039, 0.1525731634114172, 0.025428860568569533, 0.22885974511712578, 0.20343088454855626, 0.025428860568569533, 0.28508265429847046, 0.13076895080735318, 0.479486152960295, 0.34871720215294183, 0.032222359308346514, 0.2900012337751186, 0.4833353896251977, 0.16111179654173255, 0.20322829909841447, 0.40645659819682894, 0.6947308036479499, 0.773615858014342, 0.029377817392949694, 0.009792605797649899, 0.12240757247062373, 0.06365193768472434, 0.049203899514601294, 0.09840779902920259, 0.7872623922336207, 0.5450613714262084, 0.127405202157042, 0.127405202157042, 0.6370260107852102, 0.28545473364794666, 0.059568005883523685, 0.029784002941761843, 0.6751040666799352, 0.029784002941761843, 0.1687760166699838, 0.01985600196117456, 0.15127984446897605, 0.6051193778759042, 0.26632912271924647, 0.5859240699823423, 0.05326582454384929, 0.271799541165295, 0.09059984705509831, 0.09059984705509831, 0.4529992352754916, 0.09059984705509831, 0.13449166983058783, 0.6724583491529391, 0.2639047627505531, 0.3393061235364254, 0.2639047627505531, 0.050267573857248206, 0.07540136078587231, 0.012566893464312051, 0.07761801686770625, 0.5627306222908703, 0.05821351265077969, 0.17464053795233908, 0.019404504216926563, 0.11642702530155938, 0.019404504216926563, 0.8165071705563566, 0.3277107064999106, 0.3277107064999106, 0.2293974945499374, 0.01638553532499553, 0.04915660597498659, 0.03277107064999106, 0.7503916379922757, 0.09379895474903446, 0.09379895474903446, 0.7837801210134532, 0.245579480079905, 0.6876225442237339, 0.2714279925149671, 0.23749949345059618, 0.4071419887724506, 0.033928499064370884, 0.09097237591614357, 0.8187513832452921, 0.6739757024759425, 0.6297138641326883, 0.24219764005103397, 0.013614070540044274, 0.12252663486039847, 0.694317597542258, 0.12252663486039847, 0.04084221162013282, 0.7483071322508622, 0.12471785537514371, 0.13271543744953196, 0.2654308748990639, 0.5308617497981278, 0.10099959710406746, 0.476140957776318, 0.014428513872009637, 0.40399838841626984, 0.014428513872009637, 0.5713659844574563, 0.6940425852345732, 0.28545473364794666, 0.7112089826256557, 0.10160128323223654, 0.10160128323223654, 0.07401167572433483, 0.07401167572433483, 0.8141284329676831, 0.13170215121862594, 0.6585107560931296, 0.7723817539597126, 0.11034025056567325, 0.05517012528283662, 0.8922428579876407, 0.044612142899382035, 0.044612142899382035, 0.008922428579876407, 0.8321111303239667, 0.627236172396812, 0.47837595727402565, 0.1258884098089541, 0.37766522942686237, 0.20194534112699117, 0.033657556854498526, 0.1346302274179941, 0.572178466526475, 0.033657556854498526, 0.8522080437747105, 0.6698411834062035, 0.1339682366812407, 0.706601007587927, 0.11776683459798784, 0.44251982299382947, 0.7863586128880443, 0.10058075281126148, 0.0640059336071664, 0.04571852400511885, 0.2533787860740289, 0.5067575721480578, 0.7136234816264476, 0.3276264686391448, 0.3276264686391448, 0.5881874832116174, 0.06535416480129082, 0.03267708240064541, 0.26141665920516327, 0.06535416480129082, 0.6809593825539323, 0.15798669853531977, 0.31597339707063954, 0.10156287762984843, 0.13541717017313123, 0.2821191045273568, 0.0369473532511953, 0.4987892688911366, 0.12931573637918356, 0.16626308963037886, 0.16626308963037886, 0.6131756321692773, 0.5869202261214425, 0.20503349091307385, 0.2196787402640077, 0.10983937013200384, 0.08054887143013616, 0.3441633597469454, 0.03661312337733461, 0.5971586456010537, 0.6090431909347191, 0.10233223626774711, 0.45318561775716576, 0.04385667268617733, 0.20466447253549422, 0.19004558164010177, 0.014618890895392445, 0.6438498865451245, 0.11070137701441558, 0.05535068850720779, 0.11070137701441558, 0.6642082620864935, 0.21162832213318292, 0.5517452684186555, 0.14360493287608841, 0.06802338925709452, 0.015116308723798782, 0.007558154361899391, 0.007558154361899391, 0.2814465955115217, 0.05628931910230433, 0.11257863820460866, 0.506603871920739, 0.26431147038242464, 0.22025955865202054, 0.4405191173040411, 0.044051911730404104, 0.022025955865202052, 0.3857687227204862, 0.18449808477936297, 0.10063531897056162, 0.11740787213232189, 0.11740787213232189, 0.08386276580880135, 0.13582770577115913, 0.003018393461581314, 0.18412200115646013, 0.07847823000111416, 0.5916051184699375, 0.003018393461581314, 0.6225427802442225, 0.2075142600814075, 0.9369817714667322, 0.008365908673810108, 0.041829543369050544, 0.6119888039411083, 0.040799253596073885, 0.20399626798036943, 0.08159850719214777, 0.040799253596073885, 0.5948996796057153, 0.14872491990142883, 0.22065062215045655, 0.5516265553761414, 0.11032531107522828, 0.27276970763713787, 0.27276970763713787, 0.13638485381856894, 0.27276970763713787, 0.26728241195104535, 0.07169461947482043, 0.7169461947482043, 0.07169461947482043, 0.07169461947482043, 0.07169461947482043, 0.6992912357336122, 0.4298903833718333, 0.3050654788076946, 0.24405238304615567, 0.3660785745692335, 0.4704256013203546, 0.37688408683213037, 0.22613045209927823, 0.07537681736642608, 0.07537681736642608, 0.07537681736642608, 0.15075363473285217, 0.9650721243436501, 0.015565679424897583, 0.42851915068690993, 0.1272506107369758, 0.34477302225317374, 0.02175224115161979, 0.05764343905179245, 0.017401792921295834, 0.0021752241151619793, 0.34562678564707716, 0.4729629698328424, 0.018190883455109323, 0.14552706764087459, 0.06951046159086405, 0.4402329234088056, 0.10426569238629607, 0.3359672310225095, 0.034755230795432024, 0.07496696542332826, 0.8246366196566107, 0.08836054019712777, 0.08836054019712777, 0.7068843215770222, 0.8168734567635827, 0.06283641975104481, 0.23842647342441534, 0.23842647342441534, 0.09537058936976614, 0.3337970627941815, 0.08178739536333837, 0.654299162906707, 0.16357479072667674, 0.6915951780138314, 0.6431109992581061, 0.12862219985162124, 0.10915916180449257, 0.6549549708269554, 0.10915916180449257, 0.3199061868181211, 0.06398123736362422, 0.3199061868181211, 0.1919437120908727, 0.9167702223406485, 0.005093167901892492, 0.010186335803784984, 0.005093167901892492, 0.0611180148227099, 0.005093167901892492, 0.7350878797113675, 0.3561001733308489, 0.09711822909023152, 0.03237274303007717, 0.19423645818046303, 0.2913546872706946, 0.7552138867712047, 0.15104277735424093, 0.4503436325607999, 0.06373558467748942, 0.6161106518823978, 0.06373558467748942, 0.08498077956998591, 0.12747116935497885, 0.042490389784992956, 0.3412080654459464, 0.2373621324841366, 0.1186810662420683, 0.05934053312103415, 0.1186810662420683, 0.10384593296180976, 0.0830712312720222, 0.3322849250880888, 0.5399630032681444, 0.0415356156360111, 0.7722692979637529, 0.11032418542339327, 0.09253491603443542, 0.7402793282754834, 0.21465136009017252, 0.10732568004508626, 0.10732568004508626, 0.21465136009017252, 0.3219770401352588, 0.5052528812991924, 0.1269886920912409, 0.15941133688049386, 0.11077736969661438, 0.05403774131542165, 0.04323019305233732, 0.0027018870657710826, 0.632614041677926, 0.40443837904340946, 0.40443837904340946, 0.05392511720578792, 0.10785023441157585, 0.10036173652919723, 0.3010852095875917, 0.10036173652919723, 0.5018086826459861, 0.2518608767878281, 0.0839536255959427, 0.5876753791715988, 0.0839536255959427, 0.21000002659527645, 0.7200000911838049, 0.030000003799325207, 0.06540774280059579, 0.13081548560119158, 0.26163097120238316, 0.32703871400297896, 0.06540774280059579, 0.13081548560119158, 0.21884023744779907, 0.43768047489559814, 0.20149373458666783, 0.6476584326000038, 0.05756963845333366, 0.07196204806666708, 0.2133386652573103, 0.10666933262865515, 0.5333466631432757, 0.01589335381719793, 0.7787743370426985, 0.03178670763439586, 0.1350935074461824, 0.007946676908598965, 0.023840030725796893, 0.01589335381719793, 0.14264110031822314, 0.7132055015911156, 0.15282809529517744, 0.20377079372690324, 0.5094269843172581, 0.10188539686345162, 0.1608243080443321, 0.5454041751068653, 0.12586250194773815, 0.10488541828978179, 0.02097708365795636, 0.04195416731591272, 0.6769726759805694, 0.7101412412929299, 0.16387874799067614, 0.9644902091293233, 0.014395376255661542, 0.7042029525779795, 0.026081590836221462, 0.15648954501732876, 0.052163181672442924, 0.026081590836221462, 0.3509227014396769, 0.23361425552984205, 0.12833744509793898, 0.14187303501061224, 0.10878603744629985, 0.02506590724569121, 0.011530317333017955, 0.7509080487888774, 0.7654354999979246, 0.0588796538459942, 0.1177593076919884, 0.5592716624808867, 0.023931312762492826, 0.011965656381246413, 0.957252510499713, 0.12583402240289027, 0.6291701120144513, 0.1385062359089873, 0.629573799586306, 0.10073180793380895, 0.01259147599172612, 0.0629573799586306, 0.037774427975178354, 0.12781473701249307, 0.5964687727249678, 0.12781473701249307, 0.0852098246749954, 0.0426049123374977, 0.05451951549619552, 0.05451951549619552, 0.7632732169467372, 0.05451951549619552, 0.05451951549619552, 0.12320264518517016, 0.2464052903703403, 0.36960793555551047, 0.43522437450199264, 0.12744850835232996, 0.06372425417616498, 0.12744850835232996, 0.5735182875854848, 0.06372425417616498, 0.6446426902806653, 0.28511175076449974], \"Term\": [\"abcnew\", \"action\", \"action\", \"action\", \"action\", \"action\", \"action\", \"actionfigure\", \"actionfigure\", \"actionfigure\", \"actionfigureet\", \"actionfigureet\", \"actually\", \"actually\", \"actually\", \"actually\", \"age\", \"age\", \"agree\", \"agree\", \"agree\", \"alltoofamiliar\", \"alltoofamiliar\", \"alltoofamiliar\", \"alone\", \"alone\", \"also\", \"also\", \"also\", \"also\", \"also\", \"also\", \"also\", \"angry\", \"angry\", \"angry\", \"angry\", \"angry\", \"annoying\", \"apparel\", \"apparel\", \"apparel\", \"apparently\", \"apparently\", \"apparently\", \"apparently\", \"approach\", \"arguespeculate\", \"ask\", \"ask\", \"ask\", \"ask\", \"ask\", \"ask\", \"ask\", \"avenger\", \"avenger\", \"avenger\", \"awaken\", \"awaken\", \"awaken\", \"awaken\", \"awakensrey\", \"awakensrey\", \"awakenssetat\", \"aware\", \"back\", \"back\", \"bad\", \"bad\", \"bad\", \"bad\", \"bad\", \"bad\", \"barbie\", \"barbie\", \"beast\", \"beat\", \"beat\", \"bink\", \"bit\", \"bit\", \"black\", \"black\", \"black\", \"bother\", \"bother\", \"bother\", \"bottom\", \"box\", \"box\", \"box\", \"box\", \"boy\", \"boy\", \"boy\", \"boy\", \"boy\", \"boy\", \"boy\", \"brilliant\", \"bro\", \"bro\", \"business\", \"buy\", \"buy\", \"buy\", \"buy\", \"buy\", \"buy\", \"case\", \"central\", \"central\", \"certain\", \"change\", \"change\", \"character\", \"character\", \"character\", \"character\", \"character\", \"character\", \"character\", \"check\", \"check\", \"child\", \"child\", \"child\", \"chocolate\", \"click\", \"com\", \"com\", \"come\", \"come\", \"come\", \"come\", \"come\", \"conversation\", \"conversation\", \"conversation\", \"conversation\", \"conversation\", \"conversation\", \"conversation\", \"cough\", \"course\", \"course\", \"cover\", \"cover\", \"cover\", \"cover\", \"crazy\", \"cut\", \"cut\", \"d\", \"d\", \"d\", \"d\", \"dad\", \"daily\", \"dailydot\", \"datum\", \"daughter\", \"daughter\", \"daughter\", \"daughter\", \"daughter\", \"dearth\", \"dearth\", \"demand\", \"demand\", \"demand\", \"desolate\", \"development\", \"disney\", \"disney\", \"disney\", \"disney\", \"disney\", \"disney\", \"disney\", \"disturb\", \"disturb\", \"disturb\", \"dollar\", \"dope\", \"dramatic\", \"drown\", \"embarrassingly\", \"empty\", \"encontre\", \"engage\", \"episode\", \"episode\", \"equal\", \"es\", \"essential\", \"essential\", \"essential\", \"estrague\", \"even\", \"even\", \"even\", \"even\", \"even\", \"even\", \"even\", \"excited\", \"excited\", \"excited\", \"exclude\", \"exclude\", \"exclude\", \"exclude\", \"exclude\", \"exclusion\", \"fabric\", \"fabric\", \"falcon\", \"falcon\", \"falcon\", \"falcon\", \"family\", \"family\", \"family\", \"fan\", \"fan\", \"fan\", \"fan\", \"fashion\", \"fashion\", \"fashion\", \"feel\", \"feel\", \"feel\", \"feel\", \"feel\", \"feel\", \"female\", \"female\", \"female\", \"female\", \"female\", \"female\", \"female\", \"ffs\", \"ffs\", \"ffs\", \"fight\", \"figure\", \"figure\", \"figure\", \"figure\", \"figure\", \"figure\", \"figure\", \"film\", \"film\", \"film\", \"film\", \"film\", \"film\", \"finally\", \"finally\", \"finally\", \"finally\", \"find\", \"find\", \"find\", \"find\", \"find\", \"find\", \"flip\", \"float\", \"focus\", \"focus\", \"focus\", \"focus\", \"follow\", \"follow\", \"follow\", \"force\", \"force\", \"force\", \"force\", \"force\", \"force\", \"franchise\", \"franchise\", \"fuck\", \"fuck\", \"fuck\", \"fuck\", \"fucking\", \"fucking\", \"fucking\", \"fucking\", \"full\", \"full\", \"full\", \"game\", \"geek\", \"get\", \"get\", \"get\", \"get\", \"get\", \"get\", \"get\", \"girl\", \"girl\", \"girl\", \"girl\", \"girl\", \"girl\", \"girl\", \"glass\", \"go\", \"go\", \"go\", \"go\", \"goal\", \"good\", \"good\", \"good\", \"good\", \"good\", \"grow\", \"guardian\", \"guardian\", \"guy\", \"guy\", \"guy\", \"guy\", \"guy\", \"hair\", \"hard\", \"hard\", \"hard\", \"hasbro\", \"hasbro\", \"hasbro\", \"hasbro\", \"hasbro\", \"hasbro\", \"hashtag\", \"hashtag\", \"hashtag\", \"hashtag\", \"hear\", \"hear\", \"hear\", \"help\", \"hero\", \"hero\", \"hero\", \"hero\", \"heroic\", \"highlight\", \"highlight\", \"holiday\", \"holiday\", \"however\", \"httpdspymeqmkih\", \"httpdspymeqmkih\", \"httpnerdistwxzn\", \"httpwpmepsnyvjl\", \"httpwwwgeek\", \"httpwwwheroic\", \"huge\", \"huge\", \"idea\", \"idea\", \"identity\", \"identity\", \"il\", \"immediately\", \"immediately\", \"inbox\", \"include\", \"include\", \"include\", \"include\", \"include\", \"insult\", \"insult\", \"item\", \"jar\", \"jar\", \"keep\", \"know\", \"know\", \"know\", \"know\", \"know\", \"know\", \"lack\", \"lack\", \"lack\", \"lack\", \"last\", \"last\", \"last\", \"last\", \"last\", \"latch\", \"lead\", \"lead\", \"lead\", \"lead\", \"lead\", \"lead\", \"leave\", \"leave\", \"leave\", \"leave\", \"leave\", \"leave\", \"legit\", \"legit\", \"leia\", \"leia\", \"leia\", \"lesson\", \"lesson\", \"lesson\", \"let\", \"let\", \"let\", \"like\", \"like\", \"like\", \"line\", \"line\", \"line\", \"look\", \"look\", \"look\", \"look\", \"look\", \"look\", \"loud\", \"loud\", \"love\", \"love\", \"love\", \"love\", \"love\", \"love\", \"m\", \"m\", \"m\", \"m\", \"m\", \"m\", \"mad\", \"mad\", \"mad\", \"mad\", \"mad\", \"main\", \"main\", \"main\", \"main\", \"main\", \"main\", \"make\", \"make\", \"make\", \"make\", \"make\", \"market\", \"market\", \"market\", \"marketing\", \"marketing\", \"marketing\", \"marketing\", \"marketing\", \"marketing\", \"mast\", \"maybe\", \"maybe\", \"maybe\", \"mean\", \"mean\", \"mean\", \"mean\", \"member\", \"member\", \"mention\", \"merchandise\", \"merchandise\", \"merchandise\", \"merchandise\", \"merchandise\", \"millennium\", \"millennium\", \"millennium\", \"min\", \"mind\", \"mind\", \"mind\", \"minimachomane\", \"miss\", \"miss\", \"miss\", \"miss\", \"miss\", \"miss\", \"mistake\", \"mistake\", \"mom\", \"mom\", \"mom\", \"monopoly\", \"monopoly\", \"monopoly\", \"monopoly\", \"monopoly\", \"movement\", \"movement\", \"movie\", \"movie\", \"movie\", \"movie\", \"movie\", \"movie\", \"need\", \"need\", \"need\", \"need\", \"need\", \"need\", \"need\", \"nephew\", \"new\", \"new\", \"new\", \"new\", \"new\", \"new\", \"niece\", \"niece\", \"niece\", \"night\", \"notice\", \"notice\", \"old\", \"old\", \"old\", \"old\", \"omission\", \"omission\", \"option\", \"pack\", \"pack\", \"people\", \"people\", \"people\", \"people\", \"people\", \"pic\", \"pic\", \"pissed\", \"pissed\", \"pissed\", \"play\", \"play\", \"play\", \"play\", \"play\", \"plot\", \"ploy\", \"porque\", \"post\", \"post\", \"post\", \"power\", \"power\", \"power\", \"pretend\", \"pretend\", \"princess\", \"princess\", \"princess\", \"problem\", \"problem\", \"problem\", \"problem\", \"profeminist\", \"protag\", \"protagonist\", \"protagonist\", \"protagonist\", \"question\", \"question\", \"question\", \"question\", \"question\", \"random\", \"rant\", \"rant\", \"rather\", \"rather\", \"reaction\", \"really\", \"really\", \"really\", \"really\", \"recognize\", \"recognize\", \"reiterate\", \"relative\", \"relative\", \"release\", \"release\", \"release\", \"release\", \"release\", \"research\", \"rey\", \"rey\", \"rey\", \"rey\", \"rey\", \"right\", \"right\", \"right\", \"right\", \"right\", \"robot\", \"rte\", \"s\", \"s\", \"s\", \"s\", \"s\", \"s\", \"sand\", \"save\", \"say\", \"say\", \"say\", \"say\", \"say\", \"say\", \"scale\", \"second\", \"second\", \"second\", \"second\", \"see\", \"see\", \"see\", \"see\", \"see\", \"see\", \"see\", \"seem\", \"seem\", \"seem\", \"seem\", \"sell\", \"sell\", \"sell\", \"sell\", \"sell\", \"seriously\", \"seriously\", \"seriously\", \"seriously\", \"seriously\", \"seriously\", \"set\", \"set\", \"set\", \"set\", \"set\", \"set\", \"several\", \"several\", \"sexism\", \"sexism\", \"sexism\", \"sexist\", \"sexist\", \"sexist\", \"sexist\", \"sexist\", \"shameful\", \"shameful\", \"ship\", \"ship\", \"ship\", \"shit\", \"shit\", \"shit\", \"shit\", \"side\", \"single\", \"single\", \"single\", \"single\", \"single\", \"slave\", \"social\", \"son\", \"son\", \"son\", \"sort\", \"star\", \"star\", \"star\", \"star\", \"star\", \"star\", \"start\", \"start\", \"starwar\", \"starwar\", \"starwar\", \"starwar\", \"starwar\", \"starwar\", \"starwar\", \"still\", \"still\", \"still\", \"still\", \"store\", \"store\", \"store\", \"store\", \"store\", \"stormtrooper\", \"stormtrooper\", \"strong\", \"strong\", \"strong\", \"studio\", \"studio\", \"stuff\", \"stuff\", \"stuff\", \"stuff\", \"stupid\", \"stupid\", \"stupid\", \"superhero\", \"suppose\", \"suppose\", \"sure\", \"sure\", \"sure\", \"swtfa\", \"swtfa\", \"swtfa\", \"swtfa\", \"target\", \"target\", \"target\", \"target\", \"target\", \"target\", \"teach\", \"tell\", \"tell\", \"tell\", \"tell\", \"tell\", \"thedailybeast\", \"thedailybeast\", \"therefore\", \"thing\", \"thing\", \"thing\", \"thing\", \"thing\", \"thing\", \"think\", \"think\", \"think\", \"think\", \"think\", \"think\", \"time\", \"time\", \"time\", \"time\", \"tired\", \"tired\", \"total\", \"total\", \"totally\", \"totally\", \"totally\", \"totally\", \"totally\", \"toy\", \"toy\", \"toy\", \"toy\", \"toy\", \"toy\", \"toy\", \"true\", \"try\", \"try\", \"try\", \"try\", \"turn\", \"turn\", \"turn\", \"turn\", \"twitter\", \"twitter\", \"twitter\", \"twitter\", \"upset\", \"upset\", \"upset\", \"use\", \"use\", \"use\", \"use\", \"use\", \"use\", \"vader\", \"vader\", \"ve\", \"ve\", \"ve\", \"ve\", \"version\", \"version\", \"version\", \"view\", \"view\", \"view\", \"view\", \"view\", \"view\", \"view\", \"vote\", \"vote\", \"wait\", \"wait\", \"wait\", \"wait\", \"want\", \"want\", \"want\", \"want\", \"want\", \"want\", \"wash\", \"watch\", \"watch\", \"way\", \"way\", \"well\", \"well\", \"well\", \"well\", \"well\", \"whereisrey\", \"whereisrey\", \"whereisrey\", \"whereisrey\", \"whereisrey\", \"whereisrey\", \"whereisrey\", \"wheresleia\", \"wheresreyfigure\", \"wheresreyfigure\", \"wheresreyfigure\", \"whereswidow\", \"widow\", \"widow\", \"widow\", \"wish\", \"wish\", \"woman\", \"woman\", \"woman\", \"woman\", \"woman\", \"woman\", \"wonder\", \"wonder\", \"wonder\", \"wonder\", \"wonder\", \"world\", \"world\", \"world\", \"world\", \"world\", \"worth\", \"worth\", \"worth\", \"wout\", \"wrong\", \"wrong\", \"wrong\", \"wrong\", \"wrong\", \"xwe\", \"yawn\"]}, \"R\": 30, \"lambda.step\": 0.01, \"plot.opts\": {\"xlab\": \"PC1\", \"ylab\": \"PC2\"}, \"topic.order\": [7, 1, 4, 5, 6, 3, 2]};\n",
       "\n",
       "function LDAvis_load_lib(url, callback){\n",
       "  var s = document.createElement('script');\n",
       "  s.src = url;\n",
       "  s.async = true;\n",
       "  s.onreadystatechange = s.onload = callback;\n",
       "  s.onerror = function(){console.warn(\"failed to load library \" + url);};\n",
       "  document.getElementsByTagName(\"head\")[0].appendChild(s);\n",
       "}\n",
       "\n",
       "if(typeof(LDAvis) !== \"undefined\"){\n",
       "   // already loaded: just create the visualization\n",
       "   !function(LDAvis){\n",
       "       new LDAvis(\"#\" + \"ldavis_el147215893617740328492386863\", ldavis_el147215893617740328492386863_data);\n",
       "   }(LDAvis);\n",
       "}else if(typeof define === \"function\" && define.amd){\n",
       "   // require.js is available: use it to load d3/LDAvis\n",
       "   require.config({paths: {d3: \"https://d3js.org/d3.v5\"}});\n",
       "   require([\"d3\"], function(d3){\n",
       "      window.d3 = d3;\n",
       "      LDAvis_load_lib(\"https://cdn.jsdelivr.net/gh/bmabey/pyLDAvis@3.4.0/pyLDAvis/js/ldavis.v3.0.0.js\", function(){\n",
       "        new LDAvis(\"#\" + \"ldavis_el147215893617740328492386863\", ldavis_el147215893617740328492386863_data);\n",
       "      });\n",
       "    });\n",
       "}else{\n",
       "    // require.js not available: dynamically load d3 & LDAvis\n",
       "    LDAvis_load_lib(\"https://d3js.org/d3.v5.js\", function(){\n",
       "         LDAvis_load_lib(\"https://cdn.jsdelivr.net/gh/bmabey/pyLDAvis@3.4.0/pyLDAvis/js/ldavis.v3.0.0.js\", function(){\n",
       "                 new LDAvis(\"#\" + \"ldavis_el147215893617740328492386863\", ldavis_el147215893617740328492386863_data);\n",
       "            })\n",
       "         });\n",
       "}\n",
       "</script>"
      ],
      "text/plain": [
       "PreparedData(topic_coordinates=              x         y  topics  cluster       Freq\n",
       "topic                                                \n",
       "6     -0.142445  0.017133       1        1  25.442229\n",
       "0     -0.007928  0.114551       2        1  22.803900\n",
       "3     -0.031909 -0.026068       3        1  15.207522\n",
       "4     -0.005835  0.033340       4        1  14.449566\n",
       "5     -0.041236 -0.122439       5        1  12.093374\n",
       "2      0.107365  0.022047       6        1   6.121098\n",
       "1      0.121989 -0.038565       7        1   3.882312, topic_info=        Term        Freq       Total Category  logprob  loglift\n",
       "26     force  249.000000  249.000000  Default  30.0000  30.0000\n",
       "4        set  331.000000  331.000000  Default  29.0000  29.0000\n",
       "22    awaken  165.000000  165.000000  Default  28.0000  28.0000\n",
       "5    starwar  919.000000  919.000000  Default  27.0000  27.0000\n",
       "188   action  298.000000  298.000000  Default  26.0000  26.0000\n",
       "..       ...         ...         ...      ...      ...      ...\n",
       "26     force    3.107384  249.305767   Topic7  -5.7292  -1.1362\n",
       "17      even    2.462742   71.070263   Topic7  -5.9617  -0.1137\n",
       "33      miss    2.461747  100.725212   Topic7  -5.9622  -0.4628\n",
       "60       new    2.344803   61.029437   Topic7  -6.0108  -0.0104\n",
       "189   figure    2.455189  371.494288   Topic7  -5.9648  -1.7706\n",
       "\n",
       "[427 rows x 6 columns], token_table=      Topic      Freq    Term\n",
       "term                         \n",
       "1346      5  0.559481  abcnew\n",
       "188       1  0.067110  action\n",
       "188       2  0.818742  action\n",
       "188       3  0.006711  action\n",
       "188       4  0.090598  action\n",
       "...     ...       ...     ...\n",
       "452       3  0.127449   wrong\n",
       "452       4  0.573518   wrong\n",
       "452       6  0.063724   wrong\n",
       "195       2  0.644643     xwe\n",
       "2171      7  0.285112    yawn\n",
       "\n",
       "[910 rows x 3 columns], R=30, lambda_step=0.01, plot_opts={'xlab': 'PC1', 'ylab': 'PC2'}, topic_order=[7, 1, 4, 5, 6, 3, 2])"
      ]
     },
     "execution_count": 38,
     "metadata": {},
     "output_type": "execute_result"
    }
   ],
   "source": [
    "# Visualize the topics\n",
    "pyLDAvis.enable_notebook()\n",
    "LDAvis_prepared = pyLDAvis.gensim.prepare(lda_model, corpus, id2word)\n",
    "LDAvis_prepared"
   ]
  },
  {
   "cell_type": "markdown",
   "id": "bcc44d5b",
   "metadata": {},
   "source": [
    "LDA package offers much more capabilities. It can also be used in conjunction with other packages for advanced analytics and visualizations. See: https://radimrehurek.com/gensim/models/ldamulticore.html\n",
    "\n",
    "You can also learn more about evaluating topic models https://towardsdatascience.com/evaluate-topic-model-in-python-latent-dirichlet-allocation-lda-7d57484bb5d0\n",
    "\n",
    "Watch https://m.youtube.com/watch?feature=youtu.be&v=T05t-SqKArY. A very good video to help you understand the parameters in LDA"
   ]
  },
  {
   "cell_type": "code",
   "execution_count": null,
   "id": "9e471cda",
   "metadata": {},
   "outputs": [],
   "source": []
  }
 ],
 "metadata": {
  "kernelspec": {
   "display_name": "Python 3 (ipykernel)",
   "language": "python",
   "name": "python3"
  },
  "language_info": {
   "codemirror_mode": {
    "name": "ipython",
    "version": 3
   },
   "file_extension": ".py",
   "mimetype": "text/x-python",
   "name": "python",
   "nbconvert_exporter": "python",
   "pygments_lexer": "ipython3",
   "version": "3.9.7"
  }
 },
 "nbformat": 4,
 "nbformat_minor": 5
}
