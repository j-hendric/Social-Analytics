{
 "cells": [
  {
   "cell_type": "code",
   "execution_count": 11,
   "id": "f9106345",
   "metadata": {},
   "outputs": [],
   "source": [
    "#!pip install networkx\n",
    "#!pip install --upgrade matplotlib\n",
    "#!pip install scikit-learn scipy"
   ]
  },
  {
   "cell_type": "code",
   "execution_count": 12,
   "id": "95288036",
   "metadata": {},
   "outputs": [],
   "source": [
    "import pandas as pd \n",
    "import re \n",
    "import string \n",
    "from nltk.tokenize import word_tokenize\n",
    "from nltk.corpus import stopwords\n",
    "from nltk.stem import PorterStemmer\n",
    "from sklearn.feature_extraction.text import CountVectorizer, TfidfVectorizer\n",
    "import nltk.corpus  \n",
    "from nltk.text import Text  \n",
    "from sklearn.metrics.pairwise import cosine_similarity\n",
    "from sklearn.cluster import KMeans\n",
    "from sklearn.decomposition import LatentDirichletAllocation\n",
    "from scipy.cluster.hierarchy import ward, dendrogram, single,complete,average,weighted,centroid,median\n",
    "from scipy.spatial.distance import pdist\n",
    "import numpy as np\n",
    "import matplotlib.cm as matcm\n",
    "from networkx.algorithms import community\n",
    "import math\n",
    "import networkx as nx\n",
    "import matplotlib as mpl\n",
    "import matplotlib.pyplot as plt\n",
    "%matplotlib inline"
   ]
  },
  {
   "cell_type": "code",
   "execution_count": 13,
   "id": "c6f34032",
   "metadata": {},
   "outputs": [
    {
     "data": {
      "text/html": [
       "<div>\n",
       "<style scoped>\n",
       "    .dataframe tbody tr th:only-of-type {\n",
       "        vertical-align: middle;\n",
       "    }\n",
       "\n",
       "    .dataframe tbody tr th {\n",
       "        vertical-align: top;\n",
       "    }\n",
       "\n",
       "    .dataframe thead th {\n",
       "        text-align: right;\n",
       "    }\n",
       "</style>\n",
       "<table border=\"1\" class=\"dataframe\">\n",
       "  <thead>\n",
       "    <tr style=\"text-align: right;\">\n",
       "      <th></th>\n",
       "      <th>Week</th>\n",
       "      <th>Posts</th>\n",
       "      <th>PostsInWeek</th>\n",
       "    </tr>\n",
       "  </thead>\n",
       "  <tbody>\n",
       "    <tr>\n",
       "      <th>0</th>\n",
       "      <td>1</td>\n",
       "      <td>Target exclusively released a  StarWars  toy s...</td>\n",
       "      <td>4</td>\n",
       "    </tr>\n",
       "    <tr>\n",
       "      <th>1</th>\n",
       "      <td>1</td>\n",
       "      <td>Hasbro Why do you always leave the girl charac...</td>\n",
       "      <td>4</td>\n",
       "    </tr>\n",
       "    <tr>\n",
       "      <th>2</th>\n",
       "      <td>1</td>\n",
       "      <td>Oh look they even included some women IN THE B...</td>\n",
       "      <td>4</td>\n",
       "    </tr>\n",
       "    <tr>\n",
       "      <th>3</th>\n",
       "      <td>1</td>\n",
       "      <td>osakadaioh1 damn serious. Disney sexist market...</td>\n",
       "      <td>4</td>\n",
       "    </tr>\n",
       "    <tr>\n",
       "      <th>4</th>\n",
       "      <td>2</td>\n",
       "      <td>TheMarySue Who is missing from this picture?  ...</td>\n",
       "      <td>314</td>\n",
       "    </tr>\n",
       "  </tbody>\n",
       "</table>\n",
       "</div>"
      ],
      "text/plain": [
       "   Week                                              Posts  PostsInWeek\n",
       "0     1  Target exclusively released a  StarWars  toy s...            4\n",
       "1     1  Hasbro Why do you always leave the girl charac...            4\n",
       "2     1  Oh look they even included some women IN THE B...            4\n",
       "3     1  osakadaioh1 damn serious. Disney sexist market...            4\n",
       "4     2  TheMarySue Who is missing from this picture?  ...          314"
      ]
     },
     "execution_count": 13,
     "metadata": {},
     "output_type": "execute_result"
    }
   ],
   "source": [
    "ReyPosts = pd.read_csv('WheresRey.csv', encoding=\"ISO-8859-1\")\n",
    "# to display the first few rows\n",
    "ReyPosts.head()"
   ]
  },
  {
   "cell_type": "markdown",
   "id": "e013dd1b",
   "metadata": {},
   "source": [
    "Define a customized text processing function"
   ]
  },
  {
   "cell_type": "code",
   "execution_count": 14,
   "id": "28a4dcc5",
   "metadata": {},
   "outputs": [],
   "source": [
    "def ReyPreprocessing(text): \n",
    "    # get lowercase\n",
    "    text = text.lower()\n",
    "    # remove numbers  \n",
    "\n",
    "    text = re.sub(r'\\d+', '', text)\n",
    "    # remove urls\n",
    "    text = re.sub(r'^https?:\\/\\/.*[\\r\\n]*', '', text)\n",
    "    # remove punctuation\n",
    "    text = text.translate(text.maketrans('', '', string.punctuation))\n",
    "    # strip whitespace\n",
    "    text = text.strip()\n",
    "    # remove stop words\n",
    "    stop_words = stopwords.words('english')\n",
    "    newStopWords = ['html','yet']\n",
    "    stop_words.extend(newStopWords)\n",
    "    stop_words = set(stop_words)\n",
    "    tokens = word_tokenize(text)\n",
    "    words = [w for w in tokens if not w in stop_words]\n",
    "    text = \" \".join(w for w in words)\n",
    "    text = text.replace('theforceawakens', 'the force awakens')\n",
    "    text = text.replace('merchsexismproblem', 'merch sexism problem')\n",
    "    text = text.replace('merchsexismproblem', 'merch sexism problem')\n",
    "    text = text.replace('highlightsdearthfemaletoyhtml', 'highlights dearth female toy')\n",
    "    text = text.replace('highlightsdearthinfemaletoyhtml', 'highlights dearth in female toy')\n",
    "    text = text.replace('merchandise', 'merch')\n",
    "    text = text.replace('merchs', 'merch')\n",
    "    text = text.replace('merch', 'merchandise')\n",
    "    text = text.replace('forceawakens', 'force awakens')\n",
    "    text = text.replace('arewereallygoingtostart', 'are we really going to start')\n",
    "    text = text.replace('makers', 'maker')\n",
    "    text = text.replace('highlights', 'highlight')\n",
    "    text = text.replace('thisway', 'this way')\n",
    "    text = text.replace('figures', 'figure')\n",
    "    text = text.replace('shes', 'she is')\n",
    "\n",
    "    return text"
   ]
  },
  {
   "cell_type": "markdown",
   "id": "cc50520a",
   "metadata": {},
   "source": [
    "#### Generate a Term Document Matrix"
   ]
  },
  {
   "cell_type": "code",
   "execution_count": 15,
   "id": "a4386f75",
   "metadata": {},
   "outputs": [
    {
     "data": {
      "text/plain": [
       "[('whereisrey', 3351),\n",
       " ('starwars', 1352),\n",
       " ('rey', 1164),\n",
       " ('toy', 661),\n",
       " ('figure', 474),\n",
       " ('hasbro', 455),\n",
       " ('force', 409),\n",
       " ('female', 390),\n",
       " ('character', 383),\n",
       " ('disney', 376),\n",
       " ('set', 366),\n",
       " ('action', 366),\n",
       " ('main', 316),\n",
       " ('merchandise', 296),\n",
       " ('girl', 286),\n",
       " ('target', 273),\n",
       " ('awakens', 254),\n",
       " ('conversation', 199),\n",
       " ('sexism', 157),\n",
       " ('view', 150)]"
      ]
     },
     "execution_count": 15,
     "metadata": {},
     "output_type": "execute_result"
    }
   ],
   "source": [
    "posts = ReyPosts.Posts.values\n",
    "# preprocess posts\n",
    "processed_posts = [ReyPreprocessing(text) for text in posts]\n",
    "# Find frequent words and Generate word and frequency list\n",
    "vectorizer = CountVectorizer(stop_words='english', lowercase = True) \n",
    "# Now X is the document-term matrix. \n",
    "x = vectorizer.fit_transform(processed_posts)\n",
    "sum_words = x.sum(axis=0) \n",
    "words_freq = [(word, sum_words[0, idx]) for word, idx in vectorizer.vocabulary_.items()]\n",
    "words_freq =sorted(words_freq, key = lambda x: x[1], reverse=True)\n",
    "words_freq[:20]"
   ]
  },
  {
   "cell_type": "markdown",
   "id": "55405d36",
   "metadata": {},
   "source": [
    "### Topic Modeling via Social Network Analysis of Terms\n",
    "To contruct the SNA of terms, we need to generate the adjacency matrix used as inout for SNA. We can use the generated Document-Term Matrix and produce the correlation matrix."
   ]
  },
  {
   "cell_type": "code",
   "execution_count": 16,
   "id": "899d275d",
   "metadata": {},
   "outputs": [
    {
     "data": {
      "text/html": [
       "<div>\n",
       "<style scoped>\n",
       "    .dataframe tbody tr th:only-of-type {\n",
       "        vertical-align: middle;\n",
       "    }\n",
       "\n",
       "    .dataframe tbody tr th {\n",
       "        vertical-align: top;\n",
       "    }\n",
       "\n",
       "    .dataframe thead th {\n",
       "        text-align: right;\n",
       "    }\n",
       "</style>\n",
       "<table border=\"1\" class=\"dataframe\">\n",
       "  <thead>\n",
       "    <tr style=\"text-align: right;\">\n",
       "      <th></th>\n",
       "      <th>action</th>\n",
       "      <th>awakens</th>\n",
       "      <th>black</th>\n",
       "      <th>character</th>\n",
       "      <th>characters</th>\n",
       "      <th>conversation</th>\n",
       "    </tr>\n",
       "  </thead>\n",
       "  <tbody>\n",
       "    <tr>\n",
       "      <th>action</th>\n",
       "      <td>1.000000</td>\n",
       "      <td>0.030764</td>\n",
       "      <td>-0.031341</td>\n",
       "      <td>0.045754</td>\n",
       "      <td>0.039637</td>\n",
       "      <td>-0.058262</td>\n",
       "    </tr>\n",
       "    <tr>\n",
       "      <th>awakens</th>\n",
       "      <td>0.030764</td>\n",
       "      <td>1.000000</td>\n",
       "      <td>-0.046602</td>\n",
       "      <td>0.027834</td>\n",
       "      <td>-0.016152</td>\n",
       "      <td>-0.077788</td>\n",
       "    </tr>\n",
       "    <tr>\n",
       "      <th>black</th>\n",
       "      <td>-0.031341</td>\n",
       "      <td>-0.046602</td>\n",
       "      <td>1.000000</td>\n",
       "      <td>0.225497</td>\n",
       "      <td>-0.039371</td>\n",
       "      <td>-0.046198</td>\n",
       "    </tr>\n",
       "    <tr>\n",
       "      <th>character</th>\n",
       "      <td>0.045754</td>\n",
       "      <td>0.027834</td>\n",
       "      <td>0.225497</td>\n",
       "      <td>1.000000</td>\n",
       "      <td>-0.037401</td>\n",
       "      <td>-0.072566</td>\n",
       "    </tr>\n",
       "    <tr>\n",
       "      <th>characters</th>\n",
       "      <td>0.039637</td>\n",
       "      <td>-0.016152</td>\n",
       "      <td>-0.039371</td>\n",
       "      <td>-0.037401</td>\n",
       "      <td>1.000000</td>\n",
       "      <td>-0.027190</td>\n",
       "    </tr>\n",
       "    <tr>\n",
       "      <th>conversation</th>\n",
       "      <td>-0.058262</td>\n",
       "      <td>-0.077788</td>\n",
       "      <td>-0.046198</td>\n",
       "      <td>-0.072566</td>\n",
       "      <td>-0.027190</td>\n",
       "      <td>1.000000</td>\n",
       "    </tr>\n",
       "  </tbody>\n",
       "</table>\n",
       "</div>"
      ],
      "text/plain": [
       "                action   awakens     black  character  characters  \\\n",
       "action        1.000000  0.030764 -0.031341   0.045754    0.039637   \n",
       "awakens       0.030764  1.000000 -0.046602   0.027834   -0.016152   \n",
       "black        -0.031341 -0.046602  1.000000   0.225497   -0.039371   \n",
       "character     0.045754  0.027834  0.225497   1.000000   -0.037401   \n",
       "characters    0.039637 -0.016152 -0.039371  -0.037401    1.000000   \n",
       "conversation -0.058262 -0.077788 -0.046198  -0.072566   -0.027190   \n",
       "\n",
       "              conversation  \n",
       "action           -0.058262  \n",
       "awakens          -0.077788  \n",
       "black            -0.046198  \n",
       "character        -0.072566  \n",
       "characters       -0.027190  \n",
       "conversation      1.000000  "
      ]
     },
     "execution_count": 16,
     "metadata": {},
     "output_type": "execute_result"
    }
   ],
   "source": [
    "ReyDTM = pd.DataFrame(x.toarray().transpose(), index = vectorizer.get_feature_names_out() )\n",
    "# removeSparseTerms, to remove 95% of sparse, here we keep terms that appear on at lest 5% of ducuments\n",
    "ReyDTM = ReyDTM[ReyDTM.sum(axis=1) >= math.floor(0.05*ReyDTM.shape[1])]\n",
    "ReyCorr = ReyDTM.transpose().corr(method ='pearson')\n",
    "ReyCorr.iloc[:6,:6]"
   ]
  },
  {
   "cell_type": "markdown",
   "id": "5e93f2b0",
   "metadata": {},
   "source": [
    "We can see from the matrix that some of the correlation values are negative. This is not allowed in SNA as adjacency matrix may not be negative. We can set all negative values in the matrix to be 0"
   ]
  },
  {
   "cell_type": "code",
   "execution_count": 17,
   "id": "edb2607c",
   "metadata": {},
   "outputs": [
    {
     "data": {
      "text/html": [
       "<div>\n",
       "<style scoped>\n",
       "    .dataframe tbody tr th:only-of-type {\n",
       "        vertical-align: middle;\n",
       "    }\n",
       "\n",
       "    .dataframe tbody tr th {\n",
       "        vertical-align: top;\n",
       "    }\n",
       "\n",
       "    .dataframe thead th {\n",
       "        text-align: right;\n",
       "    }\n",
       "</style>\n",
       "<table border=\"1\" class=\"dataframe\">\n",
       "  <thead>\n",
       "    <tr style=\"text-align: right;\">\n",
       "      <th></th>\n",
       "      <th>action</th>\n",
       "      <th>awakens</th>\n",
       "      <th>black</th>\n",
       "      <th>character</th>\n",
       "      <th>characters</th>\n",
       "      <th>conversation</th>\n",
       "    </tr>\n",
       "  </thead>\n",
       "  <tbody>\n",
       "    <tr>\n",
       "      <th>action</th>\n",
       "      <td>1.000000</td>\n",
       "      <td>0.030764</td>\n",
       "      <td>0.000000</td>\n",
       "      <td>0.045754</td>\n",
       "      <td>0.039637</td>\n",
       "      <td>0.0</td>\n",
       "    </tr>\n",
       "    <tr>\n",
       "      <th>awakens</th>\n",
       "      <td>0.030764</td>\n",
       "      <td>1.000000</td>\n",
       "      <td>0.000000</td>\n",
       "      <td>0.027834</td>\n",
       "      <td>0.000000</td>\n",
       "      <td>0.0</td>\n",
       "    </tr>\n",
       "    <tr>\n",
       "      <th>black</th>\n",
       "      <td>0.000000</td>\n",
       "      <td>0.000000</td>\n",
       "      <td>1.000000</td>\n",
       "      <td>0.225497</td>\n",
       "      <td>0.000000</td>\n",
       "      <td>0.0</td>\n",
       "    </tr>\n",
       "    <tr>\n",
       "      <th>character</th>\n",
       "      <td>0.045754</td>\n",
       "      <td>0.027834</td>\n",
       "      <td>0.225497</td>\n",
       "      <td>1.000000</td>\n",
       "      <td>0.000000</td>\n",
       "      <td>0.0</td>\n",
       "    </tr>\n",
       "    <tr>\n",
       "      <th>characters</th>\n",
       "      <td>0.039637</td>\n",
       "      <td>0.000000</td>\n",
       "      <td>0.000000</td>\n",
       "      <td>0.000000</td>\n",
       "      <td>1.000000</td>\n",
       "      <td>0.0</td>\n",
       "    </tr>\n",
       "    <tr>\n",
       "      <th>conversation</th>\n",
       "      <td>0.000000</td>\n",
       "      <td>0.000000</td>\n",
       "      <td>0.000000</td>\n",
       "      <td>0.000000</td>\n",
       "      <td>0.000000</td>\n",
       "      <td>1.0</td>\n",
       "    </tr>\n",
       "  </tbody>\n",
       "</table>\n",
       "</div>"
      ],
      "text/plain": [
       "                action   awakens     black  character  characters  \\\n",
       "action        1.000000  0.030764  0.000000   0.045754    0.039637   \n",
       "awakens       0.030764  1.000000  0.000000   0.027834    0.000000   \n",
       "black         0.000000  0.000000  1.000000   0.225497    0.000000   \n",
       "character     0.045754  0.027834  0.225497   1.000000    0.000000   \n",
       "characters    0.039637  0.000000  0.000000   0.000000    1.000000   \n",
       "conversation  0.000000  0.000000  0.000000   0.000000    0.000000   \n",
       "\n",
       "              conversation  \n",
       "action                 0.0  \n",
       "awakens                0.0  \n",
       "black                  0.0  \n",
       "character              0.0  \n",
       "characters             0.0  \n",
       "conversation           1.0  "
      ]
     },
     "execution_count": 17,
     "metadata": {},
     "output_type": "execute_result"
    }
   ],
   "source": [
    "ReyCorr[ReyCorr<0]=0\n",
    "ReyCorr.iloc[:6,:6]"
   ]
  },
  {
   "cell_type": "markdown",
   "id": "d30cbc37",
   "metadata": {},
   "source": [
    "We can then create the graph data object used for SNA visualization and analysis."
   ]
  },
  {
   "cell_type": "code",
   "execution_count": 21,
   "id": "1eb543c1",
   "metadata": {},
   "outputs": [
    {
     "data": {
      "image/png": "[encoded data removed]",
      "text/plain": [
       "<Figure size 720x720 with 1 Axes>"
      ]
     },
     "metadata": {},
     "output_type": "display_data"
    }
   ],
   "source": [
    "terms = ReyCorr.index.tolist()\n",
    "labeldict = {}\n",
    "for i in range(len(terms)):\n",
    "    labeldict[i] = terms[i]\n",
    "\n",
    "G = nx.from_numpy_matrix(np.array(ReyCorr))\n",
    "plt.figure(figsize=(10,10))\n",
    "pos = nx.spring_layout(G)\n",
    "nx.draw_networkx(G, pos=pos, labels=labeldict, with_labels=True, edge_color=\"gray\", node_color = 'yellow')\n",
    "plt.show()"
   ]
  },
  {
   "cell_type": "code",
   "execution_count": 22,
   "id": "d325d40a",
   "metadata": {},
   "outputs": [
    {
     "data": {
      "text/html": [
       "<div>\n",
       "<style scoped>\n",
       "    .dataframe tbody tr th:only-of-type {\n",
       "        vertical-align: middle;\n",
       "    }\n",
       "\n",
       "    .dataframe tbody tr th {\n",
       "        vertical-align: top;\n",
       "    }\n",
       "\n",
       "    .dataframe thead th {\n",
       "        text-align: right;\n",
       "    }\n",
       "</style>\n",
       "<table border=\"1\" class=\"dataframe\">\n",
       "  <thead>\n",
       "    <tr style=\"text-align: right;\">\n",
       "      <th></th>\n",
       "      <th>Node</th>\n",
       "      <th>Eigenvector_Centrality_Scores</th>\n",
       "    </tr>\n",
       "  </thead>\n",
       "  <tbody>\n",
       "    <tr>\n",
       "      <th>30</th>\n",
       "      <td>whereisrey</td>\n",
       "      <td>0.304789</td>\n",
       "    </tr>\n",
       "    <tr>\n",
       "      <th>25</th>\n",
       "      <td>starwars</td>\n",
       "      <td>0.260067</td>\n",
       "    </tr>\n",
       "    <tr>\n",
       "      <th>3</th>\n",
       "      <td>character</td>\n",
       "      <td>0.251935</td>\n",
       "    </tr>\n",
       "    <tr>\n",
       "      <th>16</th>\n",
       "      <td>main</td>\n",
       "      <td>0.250179</td>\n",
       "    </tr>\n",
       "    <tr>\n",
       "      <th>27</th>\n",
       "      <td>toy</td>\n",
       "      <td>0.234345</td>\n",
       "    </tr>\n",
       "    <tr>\n",
       "      <th>21</th>\n",
       "      <td>rey</td>\n",
       "      <td>0.223549</td>\n",
       "    </tr>\n",
       "    <tr>\n",
       "      <th>1</th>\n",
       "      <td>awakens</td>\n",
       "      <td>0.222612</td>\n",
       "    </tr>\n",
       "    <tr>\n",
       "      <th>0</th>\n",
       "      <td>action</td>\n",
       "      <td>0.196754</td>\n",
       "    </tr>\n",
       "    <tr>\n",
       "      <th>18</th>\n",
       "      <td>missing</td>\n",
       "      <td>0.196737</td>\n",
       "    </tr>\n",
       "    <tr>\n",
       "      <th>8</th>\n",
       "      <td>female</td>\n",
       "      <td>0.195668</td>\n",
       "    </tr>\n",
       "  </tbody>\n",
       "</table>\n",
       "</div>"
      ],
      "text/plain": [
       "          Node  Eigenvector_Centrality_Scores\n",
       "30  whereisrey                       0.304789\n",
       "25    starwars                       0.260067\n",
       "3    character                       0.251935\n",
       "16        main                       0.250179\n",
       "27         toy                       0.234345\n",
       "21         rey                       0.223549\n",
       "1      awakens                       0.222612\n",
       "0       action                       0.196754\n",
       "18     missing                       0.196737\n",
       "8       female                       0.195668"
      ]
     },
     "execution_count": 22,
     "metadata": {},
     "output_type": "execute_result"
    }
   ],
   "source": [
    "Egen = nx.eigenvector_centrality(G)\n",
    "VectorRey = []\n",
    "for key in labeldict.keys():\n",
    "    VectorRey.append([labeldict[key], Egen[key]])\n",
    "    \n",
    "VectorRey = pd.DataFrame(VectorRey)\n",
    "VectorRey.columns = ['Node', 'Eigenvector_Centrality_Scores']\n",
    "VectorRey = VectorRey.sort_values(by=['Eigenvector_Centrality_Scores'], ascending = False)\n",
    "VectorRey.head(10)"
   ]
  },
  {
   "cell_type": "code",
   "execution_count": 23,
   "id": "500d6750",
   "metadata": {},
   "outputs": [
    {
     "data": {
      "text/plain": [
       "[frozenset({0, 4, 9, 10, 11, 12, 14, 20, 22, 26, 29, 30}),\n",
       " frozenset({6, 7, 8, 13, 15, 17, 19, 24, 25, 27}),\n",
       " frozenset({1, 2, 3, 16, 18, 21, 23, 31}),\n",
       " frozenset({5, 28})]"
      ]
     },
     "execution_count": 23,
     "metadata": {},
     "output_type": "execute_result"
    }
   ],
   "source": [
    "# generate the communities\n",
    "communities_generator = community.greedy_modularity_communities(G)\n",
    "communities_generator"
   ]
  },
  {
   "cell_type": "code",
   "execution_count": 24,
   "id": "86415cb0",
   "metadata": {},
   "outputs": [],
   "source": [
    "# assign group ids to the nodes in each community\n",
    "groups = {}\n",
    "for i in range(len(communities_generator)):\n",
    "    for j in sorted(communities_generator[i]):\n",
    "        groups.update({j: i})\n",
    "        \n",
    "# sort the previous dictionary based on the sequence of the original nodes\n",
    "sorted_group = {}\n",
    "for n in G.nodes:\n",
    "    sorted_group.update({n: groups[n]})"
   ]
  },
  {
   "cell_type": "code",
   "execution_count": 25,
   "id": "7aed2c0b",
   "metadata": {},
   "outputs": [
    {
     "name": "stderr",
     "output_type": "stream",
     "text": [
      "C:\\Users\\13193\\AppData\\Local\\Temp/ipykernel_22252/176927262.py:5: MatplotlibDeprecationWarning: The get_cmap function was deprecated in Matplotlib 3.7 and will be removed two minor releases later. Use ``matplotlib.colormaps[name]`` or ``matplotlib.colormaps.get_cmap(obj)`` instead.\n",
      "  cmap = matcm.get_cmap('tab20', max(sorted_group.values()) + 1)\n"
     ]
    },
    {
     "data": {
      "image/png": "[encoded data removed]",
      "text/plain": [
       "<Figure size 1152x864 with 1 Axes>"
      ]
     },
     "metadata": {},
     "output_type": "display_data"
    }
   ],
   "source": [
    "# fixing the size of the figure \n",
    "plt.figure(figsize = (16, 12))\n",
    "\n",
    "# color the nodes according to their partition\n",
    "cmap = matcm.get_cmap('tab20', max(sorted_group.values()) + 1)\n",
    "\n",
    "# draw the network\n",
    "pos = nx.spring_layout(G) \n",
    "nx.draw_networkx(G, node_color = list(sorted_group.values()), labels=labeldict, with_labels = True, cmap = cmap, \n",
    "                 font_size = 12, alpha=0.5, node_size = 1200, font_color = \"k\", pos=pos)\n",
    "\n",
    "plt.show()"
   ]
  },
  {
   "cell_type": "markdown",
   "id": "6ad97bca",
   "metadata": {},
   "source": [
    "### Surfacing Aadhaar Topics"
   ]
  },
  {
   "cell_type": "code",
   "execution_count": 26,
   "id": "716f2835",
   "metadata": {},
   "outputs": [
    {
     "data": {
      "text/html": [
       "<div>\n",
       "<style scoped>\n",
       "    .dataframe tbody tr th:only-of-type {\n",
       "        vertical-align: middle;\n",
       "    }\n",
       "\n",
       "    .dataframe tbody tr th {\n",
       "        vertical-align: top;\n",
       "    }\n",
       "\n",
       "    .dataframe thead th {\n",
       "        text-align: right;\n",
       "    }\n",
       "</style>\n",
       "<table border=\"1\" class=\"dataframe\">\n",
       "  <thead>\n",
       "    <tr style=\"text-align: right;\">\n",
       "      <th></th>\n",
       "      <th>Text</th>\n",
       "      <th>Source</th>\n",
       "    </tr>\n",
       "  </thead>\n",
       "  <tbody>\n",
       "    <tr>\n",
       "      <th>0</th>\n",
       "      <td>- &lt;U+0A9C&gt;&lt;U+0ABE&gt;&lt;U+0AA3&gt;&lt;U+0ACB&gt; &lt;U+0AA4&gt;&lt;U+...</td>\n",
       "      <td>C</td>\n",
       "    </tr>\n",
       "    <tr>\n",
       "      <th>1</th>\n",
       "      <td>\" #Aadhaar card projects over Rs.13,663 crore ...</td>\n",
       "      <td>C</td>\n",
       "    </tr>\n",
       "    <tr>\n",
       "      <th>2</th>\n",
       "      <td>\" AADHAR is Voluntary\"&lt;ed&gt;&lt;U+00A0&gt;&lt;U+00BE&gt;&lt;ed&gt;...</td>\n",
       "      <td>C</td>\n",
       "    </tr>\n",
       "    <tr>\n",
       "      <th>3</th>\n",
       "      <td>\" The Earla Riopel News \" Daily ~ https://t.co...</td>\n",
       "      <td>C</td>\n",
       "    </tr>\n",
       "    <tr>\n",
       "      <th>4</th>\n",
       "      <td>\" The Earla Riopel News \" Daily ~ https://t.co...</td>\n",
       "      <td>C</td>\n",
       "    </tr>\n",
       "  </tbody>\n",
       "</table>\n",
       "</div>"
      ],
      "text/plain": [
       "                                                Text Source\n",
       "0  - <U+0A9C><U+0ABE><U+0AA3><U+0ACB> <U+0AA4><U+...      C\n",
       "1  \" #Aadhaar card projects over Rs.13,663 crore ...      C\n",
       "2  \" AADHAR is Voluntary\"<ed><U+00A0><U+00BE><ed>...      C\n",
       "3  \" The Earla Riopel News \" Daily ~ https://t.co...      C\n",
       "4  \" The Earla Riopel News \" Daily ~ https://t.co...      C"
      ]
     },
     "execution_count": 26,
     "metadata": {},
     "output_type": "execute_result"
    }
   ],
   "source": [
    "# import the data\n",
    "aadhar = pd.read_csv('Aadhaar.csv', encoding=\"ISO-8859-1\")\n",
    "# to display the first few rows\n",
    "aadhar.head()"
   ]
  },
  {
   "cell_type": "markdown",
   "id": "21c5fd3e",
   "metadata": {},
   "source": [
    "Define a customized text processing function"
   ]
  },
  {
   "cell_type": "code",
   "execution_count": 27,
   "id": "c2181060",
   "metadata": {},
   "outputs": [],
   "source": [
    "def aPreprocessing(text): \n",
    "    # get lowercase\n",
    "    text = text.lower()\n",
    "    # remove numbers  \n",
    "\n",
    "    text = re.sub(r'\\d+', '', text)\n",
    "    # remove urls\n",
    "    text = re.sub(r'^https?:\\/\\/.*[\\r\\n]*', '', text)\n",
    "    # remove punctuation\n",
    "    text = text.translate(text.maketrans('', '', string.punctuation))\n",
    "    # strip whitespace\n",
    "    text = text.strip()\n",
    "    # remove stop words\n",
    "    stop_words = stopwords.words('english')\n",
    "    newStopWords = ['html','yet']\n",
    "    stop_words.extend(newStopWords)\n",
    "    stop_words = set(stop_words)\n",
    "    tokens = word_tokenize(text)\n",
    "    words = [w for w in tokens if not w in stop_words]\n",
    "    text = \" \".join(w for w in words)\n",
    "    text = text.replace('amp', '')\n",
    "    text = text.replace('aadhar', 'aadhaar')\n",
    "    text = text.replace('aadhhar', 'aadhhar')\n",
    "    text = text.replace('addhar', 'aadhaar')\n",
    "    text = text.replace('adhar', 'aadhaar')\n",
    "    text = text.replace('asdhar', 'aadhaar')\n",
    "    text = text.replace('adhaar', 'aadhaar')\n",
    "    text = text.replace('deccan chronicle', 'deccanchronicle')\n",
    "    text = text.replace('indian express', 'indianexpress')\n",
    "    text = text.replace('accusation', 'accuse')\n",
    "    text = text.replace('accusations', 'accuse')\n",
    "    text = text.replace('accused', 'accuse')\n",
    "    text = text.replace('accuses', 'accuse')\n",
    "    text = text.replace('accusing', 'accuse')\n",
    "    text = text.replace('pls', 'please')\n",
    "    # stemming\n",
    "    stemmer= PorterStemmer()\n",
    "    tokens = word_tokenize(text)\n",
    "    words = [stemmer.stem(w) for w in tokens]\n",
    "    result = \" \".join(w for w in words)\n",
    "\n",
    "    return result"
   ]
  },
  {
   "cell_type": "markdown",
   "id": "69a8a677",
   "metadata": {},
   "source": [
    "Getting the text data into the DTM format"
   ]
  },
  {
   "cell_type": "code",
   "execution_count": 28,
   "id": "89f50dff",
   "metadata": {},
   "outputs": [],
   "source": [
    "posts = aadhar.Text.values\n",
    "# preprocess posts\n",
    "processed_posts = [aPreprocessing(text) for text in posts]\n",
    "# Find frequent words and Generate word and frequency list\n",
    "vectorizer = CountVectorizer(stop_words='english', lowercase = True) \n",
    "x = vectorizer.fit_transform(processed_posts)\n",
    "ADTM = pd.DataFrame(x.toarray().transpose(), index = vectorizer.get_feature_names_out() )\n",
    "# removeSparseTerms, to remove 95% of sparse, here we keep terms that appear on at lest 5% of ducuments\n",
    "ADTM = ADTM[ADTM.sum(axis=1) >= math.floor(0.05*ADTM.shape[1])]"
   ]
  },
  {
   "cell_type": "markdown",
   "id": "60bdd4d3",
   "metadata": {},
   "source": [
    "Produce the adjacency matrix."
   ]
  },
  {
   "cell_type": "code",
   "execution_count": 30,
   "id": "d770757d",
   "metadata": {},
   "outputs": [],
   "source": [
    "Acorr = ADTM.transpose().corr(method ='pearson')\n",
    "Acorr[Acorr<0]=0"
   ]
  },
  {
   "cell_type": "code",
   "execution_count": 31,
   "id": "d855fd6e",
   "metadata": {},
   "outputs": [
    {
     "data": {
      "image/png": "[encoded data removed]",
      "text/plain": [
       "<Figure size 720x720 with 1 Axes>"
      ]
     },
     "metadata": {},
     "output_type": "display_data"
    }
   ],
   "source": [
    "terms = Acorr.index.tolist()\n",
    "labeldict = {}\n",
    "for i in range(len(terms)):\n",
    "    labeldict[i] = terms[i]\n",
    "\n",
    "G = nx.from_numpy_matrix(np.array(Acorr),create_using=nx.MultiGraph)\n",
    "plt.figure(figsize=(10,10))\n",
    "nx.spring_layout(G)\n",
    "nx.draw_networkx(G, labels=labeldict, with_labels=True, edge_color=\"gray\", node_color = 'yellow')"
   ]
  },
  {
   "cell_type": "code",
   "execution_count": null,
   "id": "c8b80df8",
   "metadata": {},
   "outputs": [],
   "source": []
  }
 ],
 "metadata": {
  "kernelspec": {
   "display_name": "Python 3 (ipykernel)",
   "language": "python",
   "name": "python3"
  },
  "language_info": {
   "codemirror_mode": {
    "name": "ipython",
    "version": 3
   },
   "file_extension": ".py",
   "mimetype": "text/x-python",
   "name": "python",
   "nbconvert_exporter": "python",
   "pygments_lexer": "ipython3",
   "version": "3.9.7"
  }
 },
 "nbformat": 4,
 "nbformat_minor": 5
}
